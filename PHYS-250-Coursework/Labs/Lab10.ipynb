{
 "cells": [
  {
   "cell_type": "markdown",
   "metadata": {},
   "source": [
    "# Lab 10 : Expansion Rate of the Universe"
   ]
  },
  {
   "cell_type": "markdown",
   "metadata": {},
   "source": [
    "## Objectives\n",
    "\n",
    "The 2011 Nobel prize in physics was awarded to Saul Perlmutter, Brian P. Schmidt, and Adam G. Riess \"*for the discovery of the accelerating expansion of the Universe through observations of distant supernovae*\".  **In this lab we will perform our own analysis of a recent compilation of supernova data.**  As always there will be a few things we need to know before we look at the data."
   ]
  },
  {
   "cell_type": "markdown",
   "metadata": {},
   "source": [
    "## Initialization\n",
    "\n",
    "As always, initialize your environment now by loading all modules required and setting up the plotting environment."
   ]
  },
  {
   "cell_type": "code",
   "execution_count": 1,
   "metadata": {
    "deletable": false,
    "nbgrader": {
     "checksum": "74650c7f2511d8576040639cef8d41e2",
     "grade": true,
     "grade_id": "cell-6c62756e546d87ed",
     "locked": false,
     "points": 0,
     "schema_version": 1,
     "solution": true
    }
   },
   "outputs": [],
   "source": [
    "import numpy as np\n",
    "import matplotlib.pyplot as plt\n",
    "%matplotlib inline\n",
    "import scipy.optimize as opt\n",
    "import scipy.interpolate as interp\n",
    "import scipy.special as sf\n",
    "import scipy.integrate as integ\n",
    "import scipy.linalg as la\n",
    "import matplotlib as mpl\n",
    "mpl.rc('xtick', direction='in', top=True)\n",
    "mpl.rc('ytick', direction='in', right=True)\n",
    "mpl.rc('xtick.minor', visible=True)\n",
    "mpl.rc('ytick.minor', visible=True)"
   ]
  },
  {
   "cell_type": "markdown",
   "metadata": {},
   "source": [
    "## Data\n",
    "\n",
    "As noted in the prelab, the data we will use is from the Supernova Cosmology Project, in particular the Union 2.1 set.  It is stored in a text file that you may access from its original site at\n",
    "http://supernova.lbl.gov/union/figures/SCPUnion2.1_mu_vs_z.txt\n",
    "\n",
    "Note that we are working with the *real* data provided by the observers!  We can almost just read this file directly from the website using `loadtxt` similar to the technique from previous labs.  In this case, however, the first column of the data file contains text, not just numbers, thus we cannot read the complete file into a NumPy array.  If you look at this file you will see it contains five columns:\n",
    "1. **first column  :** name of the supernova,\n",
    "2. **second column :** redshift of the supernova ($z$),\n",
    "3. **third column  :** distance modulus ($\\mu$, see below for a discussion of this),\n",
    "4. **fourth column :** uncertainty in the distance modulus, and\n",
    "5. **fifth column  :** we will ignore.\n",
    "\n",
    "As discussed in the prelab, we only need to read in the second through fourth columns.  Fortunately we can do this with `loadtxt` and it is sufficient to use it here. For actual work it would be far better to use [Pandas](https://pandas.pydata.org/) for reading in and processing data.  This is a large, powerful package that we, unfortunately, do not have time to explore."
   ]
  },
  {
   "cell_type": "markdown",
   "metadata": {},
   "source": [
    "Read the data file and store the redshift, distance modulus, and the uncertainty in the distance modulus in arrays.  We will use these arrays below.   Note that the `unpack` keyword can be used to make unpacking the columns of data slightly easier and it is recommened that you use it."
   ]
  },
  {
   "cell_type": "code",
   "execution_count": 2,
   "metadata": {
    "deletable": false,
    "nbgrader": {
     "checksum": "2d389ea7831dd1676408a0e27a2260e5",
     "grade": true,
     "grade_id": "cell-6ee2ae1c9090f971",
     "locked": false,
     "points": 4,
     "schema_version": 1,
     "solution": true
    }
   },
   "outputs": [],
   "source": [
    "url = \"http://supernova.lbl.gov/union/figures/SCPUnion2.1_mu_vs_z.txt\"\n",
    "import urllib.request\n",
    "with urllib.request.urlopen(url) as fp :\n",
    "    r_shift, d_mod, unc = np.loadtxt(fp, usecols = (1,2,3), unpack = True)"
   ]
  },
  {
   "cell_type": "markdown",
   "metadata": {},
   "source": [
    "## Cosmology\n",
    "\n",
    "As we will discover, this data shows that the expansion rate of the Universe is accelerating.  To do this we will fit for a few cosmological parameters.  The relevant parameters are \n",
    "- $\\Omega_{\\mathrm{de}}$, the fraction of the total energy density in the Universe in the form of dark energy, \n",
    "- $w$, the \"equation of state parameter\" for dark energy, and \n",
    "- $h$, the reduced Hubble constant. \n",
    "\n",
    "The simplest form of dark energy has $w=-1$; this is called a cosmological constant.  Dark energy has \"negative pressure\" and causes the expansion rate of the Universe to accelerate, thus a nonzero $\\Omega_{\\mathrm{de}}$ means we live in an accelerating universe (or more precisely, a universe that will have an accelerating expansion after some time). \n",
    "\n",
    "To discover the acceleration we need to relate these parameters to the observations from the data file.  To further simplify things we will assume a flat universe (no curvature, thus we are assuming the total $\\Omega=1$, this will be enforced by hand in the equations below).  The equations provided here are only valid for a flat universe.  Describing distances in an expanding universe is not as simple as in Euclidean space so leads to more complicated looking equations.  We will leave the details to a cosmology course, for our purposes we need to calculate the following quantities.\n",
    "1. **Distance modulus:**  The distance modulus, $\\mu$, is a way of measuring the distance to an object in terms of its magnitude.  It is given by\n",
    "$$ \\mu(z, \\Omega_{\\mathrm{de}}, w, h) = 5\\log_{10}\\!\\!\\left[ \\frac{D_L(z, \\Omega_{\\mathrm{de}},w,h)}{10\\,\\mathrm{pc}} \\right], $$\n",
    "where $\\mathrm{pc}$ stands for parsec, a unit of distance.\n",
    "2. **Luminosity distance:** There are few distances we can define in an expanding universe, the one relevant for measuring how bright an object appears is the luminosity distance, $D_L$, and is given by \n",
    "$$ D_L(z, \\Omega_{\\mathrm{de}}, w, h) = (1+z) D_H(h) \\int_0^z\\frac{\\mathrm{d}z'}{E(z', \\Omega_{\\mathrm{de}}, w)}.$$\n",
    "Here\n",
    "  1. $D_H$ is the Hubble distance, $D_H(h) = 3000 h^{-1} \\,\\mathrm{Mpc}$ where $1\\,\\mathrm{Mpc}=10^6\\,\\mathrm{pc} = 3.09\\times10^{22} \\,\\mathrm{meters}$, and\n",
    "  2. $E(z, \\Omega_{\\mathrm{de}}, w) = \\sqrt{(1-\\Omega_{\\mathrm{de}})(1+z)^3 + \\Omega_{\\mathrm{de}} (1+z)^{3(1+w)}}$."
   ]
  },
  {
   "cell_type": "markdown",
   "metadata": {},
   "source": [
    "### Defining Functions\n",
    "\n",
    "To proceed, we will need to implement the equations given above.  I recommend you define each of the previous relationships as a separate function.  There are a few things to keep in mind when doing so.\n",
    "1. In the distance modulus the logarithm is base 10, not the natural logarithm.  Recall that `log` returns the natural logarithm.\n",
    "2. If you define each of the above relationships in the \"usual\" way they will work for an array of redshift values, $z$, **except for the luminosity distance** due to the integral.  For this reason I recommend defining a function `dl(z,Omega_de,w=-1.,h=0.7)` as given by the relationship above, then use `np.vectorize` to construct `DL`, as discussed in the prelab.  Notice the order I have chosen for the arguments and the default values.  This will be useful below and all your functions should be defined in a similar way.\n",
    "3. Since we are integrating $1/E(z,\\Omega_{\\mathrm{de}},w)$ it makes sense to define a function that returns this inverted quantity instead of just $E(z,\\Omega_{\\mathrm{de}},w)$.\n",
    "4. Be careful with units, make sure they are all consistent!"
   ]
  },
  {
   "cell_type": "markdown",
   "metadata": {},
   "source": [
    "Keeping the above points in mind, define functions that will allow us to calculate the distance modulus for an array of redshift values.  I recommend you define the distance modulus with default arguments as\n",
    "```\n",
    "def distance_modulus(z, Omega_de, w=-1.0, h=0.7) :\n",
    "```\n",
    "and all other functions with appropriate defaults, as needed.  This will be convenient in what follows."
   ]
  },
  {
   "cell_type": "code",
   "execution_count": 3,
   "metadata": {
    "deletable": false,
    "nbgrader": {
     "checksum": "a07d9dd97013bc2918752801024c08f4",
     "grade": true,
     "grade_id": "cell-0afceb8bd6019202",
     "locked": false,
     "points": 5,
     "schema_version": 1,
     "solution": true
    }
   },
   "outputs": [],
   "source": [
    "#Make function for distance modulus\n",
    "def distance_modulus(z, Omega_de, w=-1.0, h=.7) :\n",
    "    \"\"\"Calculates the distance modulus.\n",
    "    z : redshift\n",
    "    Omega_de : total to dark ernergy density fraction\n",
    "    w : equation of state parameter\n",
    "    h : reduced Hubble constant\"\"\"\n",
    "    return 5*np.log10(dl(z, Omega_de, w, h)/10)\n",
    "\n",
    "#Make function for luminosity distance\n",
    "def dl(z, Omega_de, w=-1., h=.7) :\n",
    "    \"\"\"Calculates the luminosity distance. Is not vectorized...\n",
    "    z : redshift\n",
    "    Omega_de : total to dark ernergy density fraction\n",
    "    w : equation of state parameter\n",
    "    h : reduced Hubble constant\"\"\"\n",
    "    def quad (z) :\n",
    "        return integ.quad(E_inv, 0, z, (Omega_de, w))[0]\n",
    "    quad_v = np.vectorize(quad)\n",
    "    return (1+z)*dh(h)*quad_v(z)\n",
    "\n",
    "#Make function for Hubble distance\n",
    "def dh(h) :\n",
    "    \"\"\"Returns the hubble distance in pc\n",
    "    h : reduced Hubble constant\"\"\"\n",
    "    return 3000.*10**6/h\n",
    "\n",
    "#Make function for the inverse of E\n",
    "def E_inv(z, Omega_de, w=-1.) :\n",
    "    \"\"\"Returns the inverse of E\n",
    "    z : redshift\n",
    "    Omega_de : total to dark energy density fraction\n",
    "    w : equation of state parameter\"\"\"\n",
    "    return 1/np.sqrt((1-Omega_de)*(1+z)**3+Omega_de*(1+z)**(3*(1+w)))"
   ]
  },
  {
   "cell_type": "markdown",
   "metadata": {},
   "source": [
    "## Sample Models\n",
    "\n",
    "The $\\chi^2$ is not just for fitting, it can also be used test models as discussed in the prelab.  Here we will consider a few models and test their goodness of fit (find their $p$-values).\n",
    "\n",
    "**For each of these sets of parameters calculate the $\\chi^2$ between the model and the Union data set.  Print the $\\chi^2$, the number of degrees of freedom, and the goodness of fit.**\n",
    "\n",
    "*Hint:* Recall that when we calculate the number of degrees of freedom we need to know the number of parameters being fit.  Here there is **no fitting** being performed so what do we mean by the number of degrees of freedom?"
   ]
  },
  {
   "cell_type": "markdown",
   "metadata": {},
   "source": [
    "##### Matter Dominated\n",
    "\n",
    "In a matter dominated universe there is no dark energy so $\\Omega_{\\mathrm{de}}=0$.  Further, let $h=0.7$.  Since we are assuming a flat universe, if $\\Omega_{\\mathrm{de}}=0$ then the only other non-neglible component of the universe is matter and we are really considering model with $\\Omega_m=1$ (which is ruled out by other observations, but this is just a test model).  Also, since there is no dark energy the value of the $w$ is irrelevant, its value does not enter affect the calculation at all."
   ]
  },
  {
   "cell_type": "code",
   "execution_count": 4,
   "metadata": {
    "deletable": false,
    "nbgrader": {
     "checksum": "4602a3489438c1aacaad8e239d021097",
     "grade": true,
     "grade_id": "cell-3c8dda411beb5909",
     "locked": false,
     "points": 4,
     "schema_version": 1,
     "solution": true
    }
   },
   "outputs": [
    {
     "name": "stdout",
     "output_type": "stream",
     "text": [
      "True model :\n",
      "chisqr = 2123.090528457671\n",
      "dof = 580\n",
      "goodness of fit = 1.962233248049933e-174\n"
     ]
    }
   ],
   "source": [
    "#Construct constants\n",
    "Omega_de_md = 0\n",
    "\n",
    "#Calulate distance modulus with the model\n",
    "u_model_md = distance_modulus(r_shift, Omega_de_md)\n",
    "\n",
    "#Calculate chisqr, dof and p-value\n",
    "chisqr_md = np.sum(((d_mod-u_model_md)/unc)**2)\n",
    "dof_md = len(d_mod)\n",
    "p_md = sf.gammaincc(0.5*dof_md, 0.5*chisqr_md)\n",
    "\n",
    "#print stuff\n",
    "print(f\"\"\"True model :\n",
    "chisqr = {chisqr_md}\n",
    "dof = {dof_md}\n",
    "goodness of fit = {p_md}\"\"\")"
   ]
  },
  {
   "cell_type": "markdown",
   "metadata": {},
   "source": [
    "##### Einstein-deSitter\n",
    "\n",
    "An Einstein-deSitter universe is the opposite of a matter dominated one; all the energy in the universe is a cosmological constant.  Use the parameters $\\Omega_{\\mathrm{de}}=1$, $w=-1$, and $h=0.7$. (Of course this model also has problems since $\\Omega_m=0$ and there is no matter in such a universe, which clearly is not consistent with our Universe!)"
   ]
  },
  {
   "cell_type": "code",
   "execution_count": 5,
   "metadata": {
    "deletable": false,
    "nbgrader": {
     "checksum": "f668d413ead3db831d6393640ca3979c",
     "grade": true,
     "grade_id": "cell-66a7577e0d40d6f7",
     "locked": false,
     "points": 2,
     "schema_version": 1,
     "solution": true
    }
   },
   "outputs": [
    {
     "name": "stdout",
     "output_type": "stream",
     "text": [
      "True model :\n",
      "chisqr = 1314.1296491701341\n",
      "dof = 580\n",
      "goodness of fit = 7.2757764123631955e-59\n"
     ]
    }
   ],
   "source": [
    "#Construct constants\n",
    "Omega_de_E = 1\n",
    "\n",
    "#Calulate distance modulus with the model\n",
    "u_model_E = distance_modulus(r_shift, Omega_de_E)\n",
    "\n",
    "#Calculate chisqr, dof and p-value\n",
    "chisqr_E = np.sum(((d_mod-u_model_E)/unc)**2)\n",
    "dof_E = len(d_mod)\n",
    "p_E = sf.gammaincc(0.5*dof_E, 0.5*chisqr_E)\n",
    "\n",
    "#print stuff\n",
    "print(f\"\"\"True model :\n",
    "chisqr = {chisqr_E}\n",
    "dof = {dof_E}\n",
    "goodness of fit = {p_E}\"\"\")"
   ]
  },
  {
   "cell_type": "markdown",
   "metadata": {},
   "source": [
    "##### CMB (Planck Data Release 3)\n",
    "\n",
    "The fluctuations in the cosmic microwave background (CMB) provide one of the best probes of the fundamental cosmological parameters.  The current best observations of the full-sky CMB is from the Planck satellite.  One set of parameters derived from their data is $\\Omega_{\\mathrm{de}}=0.6853$, $w=-1$ (assumed for this fit), and $h=0.6732$.  A number of simplifications have been made here, see their [Cosmological Parameters paper](https://arxiv.org/abs/1807.06209) for details.  These values are extracted from Table 1.\n",
    "\n",
    "*Note:* You should find this is a much better fit than the previous two models, but still not a great one.  This suggests there may still be some tension between the CMB and supernova data.  This \"tension\" has persisted for a number of years and is an ongoing area of research to understand if it is real and what it would mean."
   ]
  },
  {
   "cell_type": "code",
   "execution_count": 6,
   "metadata": {
    "deletable": false,
    "nbgrader": {
     "checksum": "204710e5cfa87e1931a494b67d90b9cd",
     "grade": true,
     "grade_id": "cell-dc22eceb50ed871f",
     "locked": false,
     "points": 2,
     "schema_version": 1,
     "solution": true
    }
   },
   "outputs": [
    {
     "name": "stdout",
     "output_type": "stream",
     "text": [
      "True model :\n",
      "chisqr = 665.7229577287347\n",
      "dof = 580\n",
      "goodness of fit = 0.0077184877135666055\n"
     ]
    }
   ],
   "source": [
    "#Construct constants\n",
    "Omega_de_CMB = .6853\n",
    "h_CMB = .6732\n",
    "\n",
    "#Calulate distance modulus with the model\n",
    "u_model_CMB = distance_modulus(r_shift, Omega_de_CMB, h=h_CMB)\n",
    "\n",
    "#Calculate chisqr, dof and p-value\n",
    "chisqr_CMB = np.sum(((d_mod-u_model_CMB)/unc)**2)\n",
    "dof_CMB = len(d_mod)\n",
    "p_CMB = sf.gammaincc(0.5*dof_CMB, 0.5*chisqr_CMB)\n",
    "\n",
    "#print stuff\n",
    "print(f\"\"\"True model :\n",
    "chisqr = {chisqr_CMB}\n",
    "dof = {dof_CMB}\n",
    "goodness of fit = {p_CMB}\"\"\")"
   ]
  },
  {
   "cell_type": "markdown",
   "metadata": {},
   "source": [
    "## Parameter Fits\n",
    "\n",
    "We can also fit for the best values of the cosmological parameters, $\\Omega_{\\mathrm{de}}$, $w$, and $h$.  We will do this by first fitting for one parameter, then two, then all of them.  At each step we should see the value of the $\\chi^2$ decreases (at least by a little) but this does **not** necessarily mean that we have a better fit as shown by the goodness of fit.  In other words, the data may not justify adding more parameters to the model.\n",
    "\n",
    "To get some idea of the expected results, the best fit values from the Supernova Cosmology Project and other cosmological observations are $\\Omega_{\\mathrm{de}}=0.729 \\pm 0.014$ and $w=-1.013 (+0.068/-0.073)$.  They do not quote a value for the Hubble constant, $h$, but it is expected to be around $0.7$. These results come from a much more sophisticated analysis than we will perform, does not rely on the assumption of Gaussian errors, and includes both statistical and systematic errors.  We will not find exactly the same results but they should be similar. (You can learn the very gory details from their [paper](http://arxiv.org/abs/1105.3470). On going observations, particularly by the SH0ES project, continues to refine these values and they continue to deviate from those derived from the CMB.)"
   ]
  },
  {
   "cell_type": "markdown",
   "metadata": {},
   "source": [
    "##### Fit for $\\Omega_{\\mathrm{de}}$:\n",
    "\n",
    "Fix $w=-1$ and $h=0.7$.  Fit for $\\Omega_{\\mathrm{de}}$.  Print the best fit value for $\\Omega_{\\mathrm{de}}$, its uncertainty, the $\\chi^2$ for the fit, the number of degrees of freedom, and the goodness of fit."
   ]
  },
  {
   "cell_type": "code",
   "execution_count": 7,
   "metadata": {
    "deletable": false,
    "nbgrader": {
     "checksum": "92de4a3e1ffdf742fb2e6d270c84ba37",
     "grade": true,
     "grade_id": "cell-373385fcbd22fdb1",
     "locked": false,
     "points": 5,
     "schema_version": 1,
     "solution": true
    }
   },
   "outputs": [
    {
     "name": "stdout",
     "output_type": "stream",
     "text": [
      "Single parameter fit :\n",
      "Omega_de = 0.7485652591994328 +/- 0.0002370795559356817\n",
      "chisqr = 567.0134033332024\n",
      "dof = 579\n",
      "goodness of fit = 0.6312162608930691\n"
     ]
    }
   ],
   "source": [
    "#Fit\n",
    "parameters1, co1 = opt.curve_fit(\n",
    "    lambda z, Omega_de : distance_modulus(z, Omega_de), r_shift, d_mod)\n",
    "\n",
    "#Calulate chisqr, dof, and pvalue\n",
    "chisqr1 = np.sum(((distance_modulus(r_shift, parameters1)-d_mod)/unc)**2)\n",
    "dof1 = len(d_mod) - len(parameters1)\n",
    "p1 = sf.gammaincc(.5*dof1, .5*chisqr1)\n",
    "\n",
    "#Print\n",
    "print(f\"\"\"Single parameter fit :\n",
    "Omega_de = {parameters1[0]} +/- {co1[0][0]}\n",
    "chisqr = {chisqr1}\n",
    "dof = {dof1}\n",
    "goodness of fit = {p1}\"\"\")"
   ]
  },
  {
   "cell_type": "markdown",
   "metadata": {},
   "source": [
    "##### Fit for $\\Omega_{\\mathrm{de}}$ and $w$:\n",
    "\n",
    "Fix $h=0.7$.  Fit for $\\Omega_{\\mathrm{de}}$ and $w$.  Print the best fit values for $\\Omega_{\\mathrm{de}}$ and $w$, their uncertainties, the $\\chi^2$ for the fit, the number of degrees of freedom, and the goodness of fit."
   ]
  },
  {
   "cell_type": "code",
   "execution_count": 8,
   "metadata": {
    "deletable": false,
    "nbgrader": {
     "checksum": "6e054428d60e1904e6bb012ffaa558bb",
     "grade": true,
     "grade_id": "cell-c0fa9543d4ac254f",
     "locked": false,
     "points": 5,
     "schema_version": 1,
     "solution": true
    }
   },
   "outputs": [
    {
     "name": "stdout",
     "output_type": "stream",
     "text": [
      "Two parameter fit :\n",
      "Omega_de = 0.6438388736530088 +/- 0.003092400093558236\n",
      "w = -1.3396270499836835 +/- 0.053275595228100305\n",
      "chisqr = 576.0638920934628\n",
      "dof = 578\n",
      "goodness of fit = 0.5149142150848114\n"
     ]
    }
   ],
   "source": [
    "#Fit\n",
    "parameters2, co2 = opt.curve_fit(\n",
    "    lambda z, Omega_de, w : distance_modulus(z, Omega_de, w), r_shift, d_mod)\n",
    "\n",
    "\n",
    "#Calulate chisqr, dof, and pvalue\n",
    "chisqr2 = np.sum(((distance_modulus(r_shift, parameters2[0], parameters2[1])-d_mod)/unc)**2)\n",
    "dof2 = len(d_mod) - len(parameters2)\n",
    "p2 = sf.gammaincc(.5*dof2, .5*chisqr2)\n",
    "\n",
    "#Print\n",
    "print(f\"\"\"Two parameter fit :\n",
    "Omega_de = {parameters2[0]} +/- {co2[0][0]}\n",
    "w = {parameters2[1]} +/- {co2[1][1]}\n",
    "chisqr = {chisqr2}\n",
    "dof = {dof2}\n",
    "goodness of fit = {p2}\"\"\")"
   ]
  },
  {
   "cell_type": "markdown",
   "metadata": {},
   "source": [
    "##### Fit for $\\Omega_{\\mathrm{de}}$, $w$, and $h$:\n",
    "\n",
    "Fit for $\\Omega_{\\mathrm{de}}$, $w$, and $h$.  Print the best fit values for $\\Omega_{\\mathrm{de}}$, $w$, and $h$, their uncertainties, the $\\chi^2$ for the fit, the number of degrees of freedom, and the goodness of fit."
   ]
  },
  {
   "cell_type": "code",
   "execution_count": 9,
   "metadata": {
    "deletable": false,
    "nbgrader": {
     "checksum": "8daa1bb15ed5dee6075e0ad78d8f037c",
     "grade": true,
     "grade_id": "cell-b5948be8e5073762",
     "locked": false,
     "points": 5,
     "schema_version": 1,
     "solution": true
    }
   },
   "outputs": [
    {
     "name": "stdout",
     "output_type": "stream",
     "text": [
      "Two parameter fit :\n",
      "Omega_de = 0.6374095539530139 +/- 0.003147886778364026\n",
      "w = -1.4014780874605262 +/- 0.09528595389377423\n",
      "h = 0.7024859872234698 +/- 5.989236731295226e-05\n",
      "chisqr = 575.677393466297\n",
      "dof = 577\n",
      "goodness of fit = 0.5077124552843262\n"
     ]
    }
   ],
   "source": [
    "#Fit\n",
    "parameters3, co3 = opt.curve_fit(distance_modulus, r_shift, d_mod)\n",
    "\n",
    "#Calulate chisqr, dof, and pvalue\n",
    "chisqr3 = np.sum(((distance_modulus(r_shift, parameters3[0],\n",
    "                    parameters3[1], parameters3[2])-d_mod)/unc)**2)\n",
    "dof3 = len(d_mod) - len(parameters3)\n",
    "p3 = sf.gammaincc(.5*dof3, .5*chisqr3)\n",
    "\n",
    "#Print\n",
    "print(f\"\"\"Two parameter fit :\n",
    "Omega_de = {parameters3[0]} +/- {co3[0][0]}\n",
    "w = {parameters3[1]} +/- {co3[1][1]}\n",
    "h = {parameters3[2]} +/- {co3[2][2]}\n",
    "chisqr = {chisqr3}\n",
    "dof = {dof3}\n",
    "goodness of fit = {p3}\"\"\")"
   ]
  },
  {
   "cell_type": "markdown",
   "metadata": {},
   "source": [
    "## Figure\n",
    "\n",
    "Let us put all the results together into a single figure.  Plot the data with error bars using `errorbar`.  Include lines for the matter dominated and Einstein-deSitter models from above.  You should see by eye that these models do not fit the data well.  Include a line from one of the best fit models.  [In the final figure do not include the Planck model nor all of the fits as these lines should be indistinguishable in the figure.  Feel free to verify this.]"
   ]
  },
  {
   "cell_type": "code",
   "execution_count": 10,
   "metadata": {
    "deletable": false,
    "nbgrader": {
     "checksum": "e86144df13531e0b52df87a9aa0e01cb",
     "grade": true,
     "grade_id": "cell-84a2689c419bd4cd",
     "locked": false,
     "points": 5,
     "schema_version": 1,
     "solution": true
    }
   },
   "outputs": [
    {
     "data": {
      "image/png": "[encoded data removed]",
      "text/plain": [
       "<Figure size 432x288 with 1 Axes>"
      ]
     },
     "metadata": {
      "needs_background": "light"
     },
     "output_type": "display_data"
    }
   ],
   "source": [
    "fig = plt.figure()\n",
    "ax = fig.add_subplot(111)\n",
    "#Sort data\n",
    "ind = np.argsort(r_shift)\n",
    "ax.plot(r_shift[ind], u_model_E[ind], label = \"Einstein-deSitter\")\n",
    "ax.plot(r_shift[ind], u_model_md[ind], label = 'matter dominated',\n",
    "        linestyle = '--', color = 'black')\n",
    "ax.plot(r_shift[ind], distance_modulus(r_shift, *parameters3)[ind],\n",
    "        label = 'Best Fit', linestyle = '-.')\n",
    "ax.errorbar(r_shift, d_mod, yerr=unc, fmt = 'ro', ecolor = 'g', elinewidth = 0.75, markersize = 0.5)\n",
    "ax.legend()\n",
    "ax.set_ylabel('distance modulus')\n",
    "ax.set_xlabel('redshift')\n",
    "ax.set_title('Models of Supernova Data');"
   ]
  },
  {
   "cell_type": "markdown",
   "metadata": {},
   "source": [
    "Based on the results and figure from above, explain why the awarding of the Nobel prize was justified, that is, why the supernova data requires the expansion rate of our Universe to be accelerating."
   ]
  },
  {
   "cell_type": "markdown",
   "metadata": {
    "deletable": false,
    "nbgrader": {
     "checksum": "9f8c3f6c803e19b9f0d5f8259ad0c7ee",
     "grade": true,
     "grade_id": "cell-bf3ce301c08c5e94",
     "locked": false,
     "points": 3,
     "schema_version": 1,
     "solution": true
    }
   },
   "source": [
    "The goal of all of physics is to create a mathematical model that agrees with our observations of the universe. In this case, our observations are in the form of redshift data from supernovas. We thus want a model that will create something that looks like our observation, and hope to arrive at one by varying parameters already suggested by other models, in this case $\\Omega_{\\mathrm{de}}$, the fractional density of dark energy in the Universe. As stated, a non-zero $\\Omega_{\\mathrm{de}}$ suggests a Universe that is accelerating, or will accelerate after some time. A model that has $\\Omega_{\\mathrm{de}} = 0$, the matter dominated universe, fails to fit our observation. However, a model with a non-zero $\\Omega_{\\mathrm{de}}$, as suggested by our fitting algorithm, agrees with our observations. The Planck model produced a curve that closely matched the best fit curve of our observation, and it thus deserving of a Nobel prize."
   ]
  },
  {
   "cell_type": "markdown",
   "metadata": {},
   "source": [
    "## Member Participation\n",
    "\n",
    "See Lab00 for instructions on turning in labs.  We will follow this procedure the entire semester.\n",
    "\n",
    "In the following cell enter the *Case ID* for each student in the group who partcipated in this lab.  Again, see Lab00 for more details.  It is expected that you have read and understood those details."
   ]
  },
  {
   "cell_type": "markdown",
   "metadata": {},
   "source": [
    "mrb175\n",
    "<br>\n",
    "kls188\n",
    "<br>\n",
    "gbs32"
   ]
  }
 ],
 "metadata": {
  "anaconda-cloud": {},
  "authors": [
   {
    "name": "Craig J Copi",
    "semester": "Spring 2019"
   }
  ],
  "kernelspec": {
   "display_name": "Python 3",
   "language": "python",
   "name": "python3"
  },
  "language_info": {
   "codemirror_mode": {
    "name": "ipython",
    "version": 3
   },
   "file_extension": ".py",
   "mimetype": "text/x-python",
   "name": "python",
   "nbconvert_exporter": "python",
   "pygments_lexer": "ipython3",
   "version": "3.7.1"
  }
 },
 "nbformat": 4,
 "nbformat_minor": 2
}
