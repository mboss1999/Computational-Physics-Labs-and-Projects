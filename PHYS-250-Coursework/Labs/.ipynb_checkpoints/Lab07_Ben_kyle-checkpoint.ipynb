{
 "cells": [
  {
   "cell_type": "markdown",
   "metadata": {},
   "source": [
    "# Lab 07 : Problem Solving (part 2)"
   ]
  },
  {
   "cell_type": "markdown",
   "metadata": {},
   "source": [
    "## Objectives\n",
    "\n",
    "This is the second part of a two part lab.  **The solutions to this and the previous lab will be posted at the same time**.\n",
    "\n",
    "Ideally, the main lesson from this lab will be that despite all the care and testing we put into the previous lab, there will still be a subtle error in that work!\n",
    "\n",
    "We will put together things from our prevous lab and prelab.  We will create a generic implementation of the Newton-Raphson method, use it to solve our system of equations, discover there is a problem, and fix it!"
   ]
  },
  {
   "cell_type": "markdown",
   "metadata": {},
   "source": [
    "## Initialization\n",
    "\n",
    "As always, initialize your environment now by loading all modules required and setting up the plotting environment."
   ]
  },
  {
   "cell_type": "code",
   "execution_count": 1,
   "metadata": {
    "deletable": false,
    "nbgrader": {
     "checksum": "f7d7d67f5444865930ef2feeaad16e30",
     "grade": true,
     "grade_id": "cell-0d27b9d85e7d7dde",
     "locked": false,
     "points": 0,
     "schema_version": 1,
     "solution": true
    }
   },
   "outputs": [],
   "source": [
    "import numpy as np\n",
    "import matplotlib.pyplot as plt\n",
    "%matplotlib inline\n",
    "import scipy.optimize as opt\n",
    "import scipy.interpolate as interp\n",
    "import scipy.integrate as integ\n",
    "import scipy.linalg as la"
   ]
  },
  {
   "cell_type": "markdown",
   "metadata": {},
   "source": [
    "## Static Mass-Spring Configuration\n",
    "\n",
    "In the previous lab we began studying the mass-spring system shown below.\n",
    "\n",
    "![Static mass-spring system.](attachment:static_springs.png)\n",
    "\n",
    "We wish to find the static configuration for this system.  As stated in the previous lab, we are going to do this by finding the lengths, $\\ell_i$, and angles, $\\theta_i$, for the springs given the normalized spring constants, $\\kappa_i$ and the normalized masses $\\mu_j$.\n",
    "\n",
    "In the previous lab you wrote a function that implemented the static conditions which much be satisfied as a system of non-linear equations of the form $\\vec f(\\vec y) = 0$."
   ]
  },
  {
   "cell_type": "markdown",
   "metadata": {},
   "source": [
    "Copy your function from the previous lab but now call it `static_conditions_lab6`.  This may not be the final form ...."
   ]
  },
  {
   "cell_type": "code",
   "execution_count": 30,
   "metadata": {
    "deletable": false,
    "nbgrader": {
     "checksum": "52882662bf59de2707d70a58ccd55f56",
     "grade": true,
     "grade_id": "cell-10645597b67f2eea",
     "locked": false,
     "points": 2,
     "schema_version": 1,
     "solution": true
    }
   },
   "outputs": [],
   "source": [
    "def static_conditions_lab6 (y, l0, kappa, mu) :\n",
    "    \"\"\"\n",
    "    Define the ordering of y to be:\n",
    "    y[0] = l1, the stretched length of the first spring.\n",
    "    y[1] = l2, the stretched length of the second spring.\n",
    "    y[2] = l3, the stretched length of the third spring.\n",
    "    y[3] = theta1, the angle between the first spring and the x-axis.\n",
    "    y[4] = theta2, the angle between the second spring and the x-axis.\n",
    "    y[5] = theta3, the angle between the third spring and the x-axis.\n",
    "    \n",
    "    Angles are measured in degrees.\n",
    "    \n",
    "    l0 is in units of d, and kappa and mu are normalized spring constants and masses, respectively.\n",
    "    \"\"\"\n",
    "    \n",
    "    sysSolve = np.zeros_like(y)\n",
    "    sysSolve[0] = (kappa[2]/mu[0])*((y[2])-(l0[2]))*np.cos(np.deg2rad(y[5])) - (kappa[0]/mu[0])*((y[0])-(l0[0]))*np.cos(np.deg2rad(y[3]))\n",
    "    sysSolve[1] = (kappa[0]/mu[0])*((y[0])-(l0[0]))*np.sin(np.deg2rad(y[3])) - (kappa[2]/mu[0])*((y[2])-(l0[2]))*np.sin(np.deg2rad(y[5])) - 1\n",
    "    sysSolve[2] = (kappa[1]/mu[1])*((y[1])-(l0[1]))*np.cos(np.deg2rad(y[4])) - (kappa[2]/mu[1])*((y[2])-(l0[2]))*np.cos(np.deg2rad(y[5]))\n",
    "    sysSolve[3] = (kappa[1]/mu[1])*((y[1])-(l0[1]))*np.sin(np.deg2rad(y[4])) - (kappa[2]/mu[1])*((y[2])-(l0[2]))*np.sin(np.deg2rad(y[5])) - 1\n",
    "    sysSolve[4] = y[0]*np.cos(np.deg2rad(y[3]))+y[1]*np.cos(np.deg2rad(y[4]))+ y[2]*np.cos(np.deg2rad(y[5])) - 1\n",
    "    sysSolve[5] = y[1]*np.sin(np.deg2rad(y[4]))+y[2]*np.sin(np.deg2rad(y[5]))- y[0]*np.sin(np.deg2rad(y[3]))\n",
    "    return sysSolve"
   ]
  },
  {
   "cell_type": "markdown",
   "metadata": {},
   "source": [
    "## Newton-Raphson Method\n",
    "\n",
    "As discussed in class and shown in the example this week, we can use the Newton-Raphson method to solve a system of non-linear equations.  We saw that the Newton-Raphson method is an iterative algorithm.  Let $\\vec y_n$ be a guess for the desired solution.  An improved guess is given by\n",
    "$$ \\vec y_{n+1} = \\vec y_n + \\Delta\\vec y = \\vec y_n - \\mathsf{J}_{\\vec f}^{-1}(\\vec y) \\vec f(\\vec y), $$\n",
    "where $\\mathsf{J}_{\\vec f}(\\vec y)$ is the Jacobian matrix. From an initial guess, $\\vec y_0$, we iteratively improve our estimate and stop when convergence has been obtained, that is, when the correction becomes sufficiently small."
   ]
  },
  {
   "cell_type": "markdown",
   "metadata": {},
   "source": [
    "### Jacobian Matrix\n",
    "\n",
    "As we have seen, the Jacobian matrix is the matrix of first derivatives of the function.  Written more explicitly\n",
    "$$\n",
    "\\mathsf{J}_{\\vec f} (\\vec y) = \\begin{pmatrix}\n",
    "\\frac{\\partial f_1}{\\partial y_1} & \\frac{\\partial f_1}{\\partial y_2} & \\cdots \\\\\n",
    "\\frac{\\partial f_2}{\\partial y_1} & \\frac{\\partial f_2}{\\partial y_2} & \\cdots \\\\\n",
    "\\vdots & \\vdots & \\ddots\n",
    "\\end{pmatrix}\n",
    "$$\n",
    "\n",
    "This matrix can be calculated analytically or numerically.  Just as in the prelab, we will do so numerically using center differencing.  Thus, just knowing $\\vec f(\\vec y)$ and step sizes $\\vec h$ (potentially different step sizes for each coordinate) we can construct the Jacobian matrix.  Here you can use your work from the prelab with a small generalization."
   ]
  },
  {
   "cell_type": "markdown",
   "metadata": {},
   "source": [
    "Write a function for calculating the Jacobian matrix at a point $\\vec y$ using center differencing with step sizes $\\vec h$ for a system of equations described by a function $\\vec f(\\vec y)$.  The idea is the same as in the prelab, but here we now allow for this function to take extra arguments.  Though we could require the use of `lambda` function, we will not, we will instead use `args`.  As always, document your function!\n",
    "\n",
    "*Note:* Unlike the prelab, we will not do the manipulations of the stepsize, `h`, in this function.  The user is expected to provide the correct step sizes.  This is a better design.  You should not punish users who are careful by slowing down your functions to accomodate those who are not careful."
   ]
  },
  {
   "cell_type": "code",
   "execution_count": 3,
   "metadata": {
    "deletable": false,
    "nbgrader": {
     "checksum": "9918b0fa011a2d9248c6cc93f700faad",
     "grade": true,
     "grade_id": "cell-7e6da4edf256798c",
     "locked": false,
     "points": 3,
     "schema_version": 1,
     "solution": true
    }
   },
   "outputs": [],
   "source": [
    "def Jacobian(f, y, h, args=()) :\n",
    "    \"\"\"\n",
    "    Computes the Jacobian of a matrix given:\n",
    "    f: a function.\n",
    "    y: an array of values at which to evaluate the function.\n",
    "    h: an array of step sizes. Should be same length as y.\n",
    "    \"\"\"\n",
    "    h_step = np.diag(h)\n",
    "    yminush = y - h_step\n",
    "    yplush = y + h_step\n",
    "    center_differencing = (f(yplush,*args)-f(yminush,*args))/(2*h)\n",
    "    return center_differencing"
   ]
  },
  {
   "cell_type": "markdown",
   "metadata": {},
   "source": [
    "### Newton-Raphson Implementation\n",
    "\n",
    "We can now finally implement the Newton-Raphson method where we will calculate the Jacobian numerically.  As we have done for the Jacobian itself, this can be written in a generic way. Since the Newton-Raphson method works for any set of functions and associated Jacobian matrix, we can write an implementation that is independent of the particular problem we are solving.  Here we can pass in all the relevant functions.  In writing such a generic implementation, we allow for the specification of the desired convergence tolerances (absolute in `atol` and relative in `rtol`).  Finally, as noted in the example from this week, whenever we have an algorithm that depends on a convergence criterion to end we must specify a maximum number of iterations to allow.  Without this it is possible (and even likely) that we will encounter a case that never converges and thus the algorithm will never complete!"
   ]
  },
  {
   "cell_type": "markdown",
   "metadata": {},
   "source": [
    "Implement the Newton-Raphson iteration scheme in a function of the form given below.\n",
    "\n",
    "Here `f` is Python function that evaluates the set of functions for which we are finding roots and will be called as `f(y, *args)`, `Jacobian` computes the Jacobian matrix for the set of functions using center differencing with steps sizes given in `h` and will be called as defined above, `y0` is our initial guess at the roots, `itermax` is the maximum number of iterations allowed, and `atol` and `rtol` are the desired absolute and relative tolerances.\n",
    "\n",
    "Your function should return the best estimate of the roots (in a NumPy array) and the number of iterations required, as a tuple."
   ]
  },
  {
   "cell_type": "code",
   "execution_count": 4,
   "metadata": {
    "deletable": false,
    "nbgrader": {
     "checksum": "18e748c40d3d5986e447a1192f8eba68",
     "grade": true,
     "grade_id": "cell-2920a00ee217a6b5",
     "locked": false,
     "points": 5,
     "schema_version": 1,
     "solution": true
    }
   },
   "outputs": [],
   "source": [
    "def newton_raphson_iterate(f, Jacobian, y0, h, itermax, args=(), atol=1e-10, rtol=1e-10) :\n",
    "    \"\"\"\n",
    "    Iterates the Newton Raphson Method, starting at y0 as the initial guess.\n",
    "    f: function of y0.\n",
    "    Jacobian: The jacobian matrix given y0.\n",
    "    h: Array of step sizes. \n",
    "    itermax: Maximum number of iterations \n",
    "    \"\"\"\n",
    "    y = y0.copy()\n",
    "    niter = 1\n",
    "    while niter <= itermax :\n",
    "        J = Jacobian(f,y,h)\n",
    "        dy = np.dot(la.inv(J), f(y,*args))\n",
    "        y = y - dy\n",
    "        if np.allclose(np.zeros_like(dy), dy, atol=1e-10, rtol=1e-10) :\n",
    "            break\n",
    "        niter += 1\n",
    "    return (y, niter)"
   ]
  },
  {
   "cell_type": "markdown",
   "metadata": {},
   "source": [
    "### Visualization\n",
    "\n",
    "One test we will do to verify if our results make sense is to visualize the system.  You worked on this in the previous lab, we will now actually use it.\n",
    "\n",
    "Copy your visualization code from the previous lab."
   ]
  },
  {
   "cell_type": "code",
   "execution_count": 5,
   "metadata": {
    "deletable": false,
    "nbgrader": {
     "checksum": "c8bbe9034e9a41d4977fa8b3a2b5385e",
     "grade": true,
     "grade_id": "cell-37a786abca635e3c",
     "locked": false,
     "points": 2,
     "schema_version": 1,
     "solution": true
    }
   },
   "outputs": [],
   "source": [
    "def visualize_system (lengths, angles) :\n",
    "    \"\"\"\n",
    "    lengths[0] = stretched length of spring 1.\n",
    "    lengths[1] = stretched length of spring 2.\n",
    "    lengths[2] = stretched length of spring 3.\n",
    "    angles[0] = angle (from x-axis) of spring 1 in degrees.\n",
    "    angles[1] = angle (from x-axis) of spring 2 in degrees.\n",
    "    angles[2] = angle (from x-axis) of spring 3 in degrees.\n",
    "    \"\"\"\n",
    "    plt.plot((0,1),(1,1),'r-',label=\"Roof\")\n",
    "    plt.plot([0,lengths[0]*np.cos(np.deg2rad(angles[0]))],[1,1-lengths[0]*np.sin(np.deg2rad(angles[0]))],'b--',label=\"Spring 1\")\n",
    "    plt.plot([lengths[0]*np.cos(np.deg2rad(angles[0])),lengths[0]*np.cos(np.deg2rad(angles[0]))+lengths[2]*np.cos(np.deg2rad(angles[2]))],[1-lengths[0]*np.sin(np.deg2rad(angles[0])),1-lengths[0]*np.sin(np.deg2rad(angles[0]))+lengths[2]*np.sin(np.deg2rad(angles[2]))],'g--',label='Spring 3')\n",
    "    plt.plot([lengths[0]*np.cos(np.deg2rad(angles[0]))+lengths[2]*np.cos(np.deg2rad(angles[2])),1],[1-lengths[0]*np.sin(np.deg2rad(angles[0]))+lengths[2]*np.sin(np.deg2rad(angles[2])),1],'k--',label=\"Spring 2\")\n",
    "    plt.legend()\n",
    "    plt.axvline(0)\n",
    "    plt.axvline(1)"
   ]
  },
  {
   "cell_type": "markdown",
   "metadata": {},
   "source": [
    "### Example System\n",
    "\n",
    "There are many things we can do to test our code.  A reasonable approach would be to take the tests you defined in the previous lab, start from initial guesses **not exactly** correct, and see that the correct solutions are recovered.  I will leave it to you to do any such tests.\n",
    "\n",
    "The example system we will consider is the following mostly arbitrary one.\n",
    "\n",
    "For the springs let the natural lengths in units of $d$ be given by $\\ell_{0,1}=0.7$, $\\ell_{0,2}=0.45$, and $\\ell_{0,3}=0.2$, and the normalized spring constants be $\\kappa_1=1.1$, $\\kappa_2=2$, and $\\kappa_3=0.6$.  Let the normalized masses be $\\mu_1=3$ and $\\mu_2=1.4$.  Choose as initial guesses $\\ell_1=0.9$, $\\ell_2=0.55$, $\\ell_3=0.4$, $\\theta_1=\\pi/4$, $\\theta_2=\\pi/5$, and $\\theta_3=\\pi/8$.  Finally, use step sizes of $1\\times10^{-5}$ for all the lengths and $2\\times10^{-5}$ for all the angles when calculating the Jacobian matrix.\n",
    "(*Note:* The signs for all of these angle are positive and positive means the directions shown in the figure at the top of the lab.)"
   ]
  },
  {
   "cell_type": "markdown",
   "metadata": {},
   "source": [
    "Implement the above choices and use your code to solve for the static configuration.  Print the final results for the length and the angles (clearly organized) along with the number of iterations required to converge to a solution. Also produce a visualization of the static configuration."
   ]
  },
  {
   "cell_type": "code",
   "execution_count": 6,
   "metadata": {},
   "outputs": [],
   "source": [
    "## This isn't how we're supposed to do this, we should be using args instead of lambda.\n",
    "## This was just so I could get results and then continue from there, however, this will need to be\n",
    "## fixed before the end of the lab.\n",
    "statCon6 = lambda x : static_conditions_lab6(x,l0Arr,kappaArr,muArr)"
   ]
  },
  {
   "cell_type": "code",
   "execution_count": 60,
   "metadata": {
    "deletable": false,
    "nbgrader": {
     "checksum": "8d095b0a4386f79258b6aa05a378b0d1",
     "grade": true,
     "grade_id": "cell-07578d07ac017568",
     "locked": false,
     "points": 2,
     "schema_version": 1,
     "solution": true
    }
   },
   "outputs": [
    {
     "name": "stdout",
     "output_type": "stream",
     "text": [
      "[ 7.58789431e+05 -9.77019147e+02 -3.44305283e+07 -2.00508618e+04\n",
      " -9.14580267e+02  6.82409411e+04]\n",
      "21\n"
     ]
    }
   ],
   "source": [
    "l0Arr = np.array([0.7,0.45,0.2])\n",
    "kappaArr = np.array([1.1,2,0.6])\n",
    "muArr = np.array([3,1.4])\n",
    "y0Arr = np.array([0.9,0.55,0.4,np.pi/4,np.pi/5,np.pi/8])\n",
    "hArr = np.array([1e-5,1e-5,1e-5,2e-5,2e-5,2e-5])\n",
    "z = 1.0\n",
    "hArr = hArr + z\n",
    "hArr -= z\n",
    "NRI = newton_raphson_iterate(statCon6, Jacobian, y0Arr, hArr, itermax=20, atol=1e-10, rtol=1e-10)\n",
    "##### The above function should use args instead of lambda.\n",
    "print(NRI[0])\n",
    "print(NRI[1])\n",
    "## From what I heard, this is supposed to fail, so these results might be ok.\n",
    "## Looking later in the lab, this is supposed to fail spectacularly for negative lengths, so this is ok."
   ]
  },
  {
   "cell_type": "markdown",
   "metadata": {},
   "source": [
    "Comment on your results.  Do they seem reasonable?  Does anything seem strange or worrisome?"
   ]
  },
  {
   "cell_type": "markdown",
   "metadata": {
    "deletable": false,
    "nbgrader": {
     "checksum": "402a7f34de8b440c288f6497749fbf5b",
     "grade": true,
     "grade_id": "cell-e592fe309c2d0cff",
     "locked": false,
     "points": 2,
     "schema_version": 1,
     "solution": true
    }
   },
   "source": [
    "The results do not seem reasonable. The first length seems on order of what we might expect, but the second length is an order of magnitude greater and the third length is 4 order of magnitude greater than the second. As for the angles, we should expect them to be on the order of 0-360 degrees, whether the number be negative or positive. However, the angles are all on order of ~10^3, which does not fall in the range that we would like it to. Clearly, these results are rather strange given what we might expect."
   ]
  },
  {
   "cell_type": "markdown",
   "metadata": {},
   "source": [
    "### Further Tests\n",
    "\n",
    "At this point we should have a code that runs and produces reasonable looking results.  But are they *correct*?  This is always difficult to know.  The best we can do is test our results in every way we can think of.  We would not want to publish results only to later discover they are \"obviously\" wrong!\n",
    "\n",
    "Another way to test our results is to use a different method to calculate them.  In our case there are many algorithms implemented in `scipy.optimize` that will also solve a system of equations.  In particular, we can use `scipy.optimize.root`.  This is a generic function that implements a number of different algorithms.  It is called similar to how we have written `newton_raphson_iterate` so we should be able to just use the function we have written for evaluating our system of equations, along with the initial guess, and see what solution it finds.  We should try multiple methods and see if we get consistent results."
   ]
  },
  {
   "cell_type": "markdown",
   "metadata": {},
   "source": [
    "Use `scipy.optimize.root` with your function `static_conditions_lab6` and the system defined above to solve for the static system.  (You should not use your Jacobian function, these methods will calculate the Jacobian themselves using their own algorithms.)  You will need to look at the documentation for this function and play around a bit to determine how to use it and how to extract the results.  Check at least two different methods.  The expectation is that you will at least find **a different result** from yours and you may even find different results for different methods.  By different results we mean that the systems are physically different as seen in your visualizations. Print the different result (or results if you prefer) and visualize it along with your solution.  Since this is a \"quick test\" you do not need to print them in elegant form if you do not want to.  (*Note:* For my implementation using at least the `hybr` and `broyden1` methods I get different results.  What results you get will depend on your implementation.)"
   ]
  },
  {
   "cell_type": "code",
   "execution_count": 61,
   "metadata": {
    "deletable": false,
    "nbgrader": {
     "checksum": "1c4a812ccc12ae3ff7fbc9ffe51a5b07",
     "grade": true,
     "grade_id": "cell-57c227ebf8461e96",
     "locked": false,
     "points": 4,
     "schema_version": 1,
     "solution": true
    }
   },
   "outputs": [
    {
     "name": "stdout",
     "output_type": "stream",
     "text": [
      "[ -3.18425741  -0.89051462   2.37530471 -94.63339834 -97.3966023\n",
      "  74.6661124 ]\n"
     ]
    }
   ],
   "source": [
    "## Using the same IC as defined above.\n",
    "sysRoot = opt.root(static_conditions_lab6,y0Arr,args=(l0Arr, kappaArr, muArr))\n",
    "print(sysRoot.x)"
   ]
  },
  {
   "cell_type": "code",
   "execution_count": 62,
   "metadata": {},
   "outputs": [
    {
     "name": "stdout",
     "output_type": "stream",
     "text": [
      "[ 1470.21156956 -2484.02382968 -5618.09893585 17938.93289404\n",
      " 25750.05696932 -3965.68469379]\n"
     ]
    }
   ],
   "source": [
    "sysRoot1 = opt.root(static_conditions_lab6,y0Arr,args=(l0Arr, kappaArr, muArr), method='linearmixing')\n",
    "print(sysRoot1.x) "
   ]
  },
  {
   "cell_type": "markdown",
   "metadata": {},
   "source": [
    "Assuming that we have (at least) two different solutions we have to ask the question, does that make sense?  Here is the most difficult thing when solving numerical problems (or more generally when moving from solving homework problems to solving research problems).  We can easily verify that these are solutions to our equations (plug them back in and see that they do give $\\vec f(\\vec y)=0$).  But, physically, can there be more than one solution?  Remember, we are not solving a mathematics problem here, we are trying to model nature.  If we set up a real mass-spring system could we put it in more than one static configuration?\n",
    "\n",
    "Our thought process might be something like:\n",
    "- No!  There must only be one static configuration.\n",
    "- Well, if the system were symmetric then maybe, ..., but our system is not symmetric so that does not matter.\n",
    "- Hmm, I could imagine that if I moved mass 2 to the left of mass 1 then I could find a static configuration.  Of course it might not be stable to small perturbations, but that is ok.  But we see that our two solutions above do not follow this pattern. (Plus we would not find such a solution numerically using an iterative algorithm.)\n",
    "- Maybe there could be two configurations, one where some of the springs are compressed and other are stretched, and which ones are stretched and compressed can be changed around to balance the forces in different ways ... but again, that is not what these solutions do.\n",
    "- Of course this is a non-linear problem and non-linear problems are notorious for having multiple solutions (local extrema).  However, this is also a physical problem and the question ultimately reduces to whether or not a physical system can have multiple stable configurations of the type we have found.\n",
    "\n",
    "After going over this again and again we ultimately need to decide if we believe both of these solutions.  It is good to do this yourself.  When developing the lab we needed to do precisely this!\n",
    "\n",
    "In the end, both of these solutions cannot be correct, there must be something wrong.  Since these are valid solutions to our equations we must have implemented the Newton-Raphson method correctly.  This must mean there is something wrong with the equations we derived."
   ]
  },
  {
   "cell_type": "markdown",
   "metadata": {},
   "source": [
    "### Choice of Variables\n",
    "\n",
    "When we started this problem last lab, it probably seemed reasonable to use lengths and angles as variables.  This choice does impose some implicit assumptions.  If we were solving the problem analytically, we would implicitly always choose lengths to be positive and angles to be between $0$ and $2\\pi$.  Numerically, no such restrictions are imposed.  In fact, it is quite likely that our solutions do not satisfy these constraints.  Of course there is nothing special about these constraints.  It is perfectly valid to have a negative \"length\" as long as the angle compensates for this.\n",
    "\n",
    "To make it easier to understand our results it makes sense to convert them to a \"standard form\".  Here standard form means that all angles are between $0$ and $2\\pi$ (actually for $\\theta_3$ it would make sense to allow it to be between $-\\pi$ and $\\pi$, we will not treat it as a special case in what we do here), and all lengths are positive.  To achieve this we can use the modulo operator, `%`, which works for floating point numbers as well as integers.  Further, using array slicing (with boolean arrays or the `where` function), we can map any negative length to a positive length if we also change the angle by $\\pi$.  In other words, for any negative $\\ell_i$ we can map it as $\\ell_i \\rightarrow -\\ell_i$ if we also map the angle $\\theta_i \\rightarrow \\theta_i-\\pi$."
   ]
  },
  {
   "cell_type": "markdown",
   "metadata": {},
   "source": [
    "Write a function with the form given below that returns the remapped lengths and angles as described above.  **Do not change the input arrays.**  Make sure you always make a copy of the array in your function before making any changes."
   ]
  },
  {
   "cell_type": "code",
   "execution_count": 63,
   "metadata": {
    "deletable": false,
    "nbgrader": {
     "checksum": "d6f07a71ebcbc38617e6594f6c754326",
     "grade": true,
     "grade_id": "cell-6036636fb782d2e7",
     "locked": false,
     "points": 2,
     "schema_version": 1,
     "solution": true
    }
   },
   "outputs": [],
   "source": [
    "## This is correct, but can likely be improved, as it makes use of 3 loops. \n",
    "## However, worst case scenario, this does still work\n",
    "\n",
    "def to_standard_form (lengths, angles) :\n",
    "    \"\"\"\n",
    "    Converts lengths and angles to standard form, i.e.\n",
    "    lengths > 0, and\n",
    "    0 <= angles < 2pi\n",
    "    \"\"\"\n",
    "    lengths2 = lengths.copy()\n",
    "    angles2 = angles.copy()\n",
    "    lInd = np.where(lengths<0)\n",
    "    for i in lInd :\n",
    "        lengths2[i] = -lengths2[i]            # Negative lengths --> Positive lengths\n",
    "        angles2[i] = angles2[i] - 180         # Angles for these same lengths adjusted by pi\n",
    "    for j in np.arange(0,angles2.size) :\n",
    "        angles2[j] = angles2[j] % 360         # All angles brought to the interval (-360,360)\n",
    "    aInd = np.where(angles2<0)\n",
    "    for k in aInd :\n",
    "        angles2[k] = 360 + angles2[k]         # Negative angles adjusted, all angles now in [0,360)\n",
    "    return lengths2,angles2"
   ]
  },
  {
   "cell_type": "markdown",
   "metadata": {},
   "source": [
    "Convert your solution to standard form.  Again print the results and visualize the system.  **The visualization cannot have changed.**  If it did then your conversion is incorrect.  Finally, evaluate your function containing the system of equations and see if the standard form is a solution.  If things have gone as intended it will *not be a solution*!"
   ]
  },
  {
   "cell_type": "code",
   "execution_count": 64,
   "metadata": {
    "deletable": false,
    "nbgrader": {
     "checksum": "cfdef4458d082dafbeac0505aaa9c570",
     "grade": true,
     "grade_id": "cell-a7c5f8590b93f56a",
     "locked": false,
     "points": 2,
     "schema_version": 1,
     "solution": true
    }
   },
   "outputs": [
    {
     "data": {
      "image/png": "[encoded data removed]",
      "text/plain": [
       "<Figure size 432x288 with 1 Axes>"
      ]
     },
     "metadata": {},
     "output_type": "display_data"
    }
   ],
   "source": [
    "standF = to_standard_form(sysRoot.x[0:3],sysRoot.x[3:7])\n",
    "visualize_system(standF[0], standF[1])"
   ]
  },
  {
   "cell_type": "markdown",
   "metadata": {},
   "source": [
    "Under the assumption that you found multiple solutions using `scipy.optimize.root`, repeat the previous part for another solution you found.  Is this a valid solution?"
   ]
  },
  {
   "cell_type": "code",
   "execution_count": 65,
   "metadata": {
    "deletable": false,
    "nbgrader": {
     "checksum": "684211d85e2efe6669967ee020c5d704",
     "grade": true,
     "grade_id": "cell-ae37f3f98019b409",
     "locked": false,
     "points": 2,
     "schema_version": 1,
     "solution": true
    }
   },
   "outputs": [
    {
     "data": {
      "image/png": "[encoded data removed]",
      "text/plain": [
       "<Figure size 432x288 with 1 Axes>"
      ]
     },
     "metadata": {},
     "output_type": "display_data"
    }
   ],
   "source": [
    "# We don't get multiple solutions, which is a possible error. Should double check on things.\n",
    "# Using NRI[0] instead\n",
    "standF1 = to_standard_form(sysRoot1.x[0:3],sysRoot1.x[3:7])\n",
    "visualize_system(standF1[0], standF1[1])\n"
   ]
  },
  {
   "cell_type": "markdown",
   "metadata": {},
   "source": [
    "### Fixing the Problem\n",
    "\n",
    "At this point we should see that there is a problem.  We have two \"solutions\" but only one of them actually is a solution.  How did this happen?  There must be something wrong with how we wrote down our system of equations!"
   ]
  },
  {
   "cell_type": "markdown",
   "metadata": {},
   "source": [
    "Describe the error made in deriving the equations and how to correct it.  As some guidance, you should find that the problems occur when the length is negative.  Where does this affect our derivation?  Why does a negative length cause a problem?  You should think about this and discuss it as a group.  If you are stuck after struggling together you should then discuss your ideas with one of the instructors.  It is good to struggle for some time with this (this is how we learn) but ultimately we do want to resolve the issue and be able to correct it."
   ]
  },
  {
   "cell_type": "markdown",
   "metadata": {
    "deletable": false,
    "nbgrader": {
     "checksum": "3bab780501eb4bb54ddd114bc3f905f8",
     "grade": true,
     "grade_id": "cell-45ed01d9b5dbce58",
     "locked": false,
     "points": 5,
     "schema_version": 1,
     "solution": true
    }
   },
   "source": [
    "### Adam did more work than I solving the system of equations, and can probably explain better than I could.\n",
    "\n",
    "YOUR ANSWER HERE"
   ]
  },
  {
   "cell_type": "markdown",
   "metadata": {},
   "source": [
    "Implement your fix in a new function, now again called `static_conditions`."
   ]
  },
  {
   "cell_type": "code",
   "execution_count": 69,
   "metadata": {
    "deletable": false,
    "nbgrader": {
     "checksum": "e3bcc9b07af97a020ba6aa007307f193",
     "grade": true,
     "grade_id": "cell-205f6f6303c5e49e",
     "locked": false,
     "points": 5,
     "schema_version": 1,
     "solution": true
    }
   },
   "outputs": [],
   "source": [
    "def static_conditions (y, l0, kappa, mu) :\n",
    "    \"\"\"\n",
    "    New \n",
    "    Define the ordering of y to be:\n",
    "    y[0] = l1, the stretched length of the first spring.\n",
    "    y[1] = l2, the stretched length of the second spring.\n",
    "    y[2] = l3, the stretched length of the third spring.\n",
    "    y[3] = theta1, the angle between the first spring and the x-axis.\n",
    "    y[4] = theta2, the angle between the second spring and the x-axis.\n",
    "    y[5] = theta3, the angle between the third spring and the x-axis.\n",
    "    \n",
    "    Angles are measured in degrees.\n",
    "    \n",
    "    l0 is in units of d, and kappa and mu are normalized spring constants and masses, respectively.\n",
    "    \"\"\"\n",
    "    \n",
    "    sysSolve = np.zeros_like(y)\n",
    "    sysSolve[0] = (kappa[2]/mu[0])*((y[2])-(l0[2]))*np.cos(np.deg2rad(y[5])) - (kappa[0]/mu[0])*((y[0])-(l0[0]))*np.cos(np.deg2rad(y[3]))\n",
    "    sysSolve[1] = (kappa[0]/mu[0])*((y[0])-(l0[0]))*np.sin(np.deg2rad(y[3])) - (kappa[2]/mu[0])*((y[2])-(l0[2]))*np.sin(np.deg2rad(y[5])) - 1\n",
    "    sysSolve[2] = (kappa[1]/mu[1])*((y[1])-(l0[1]))*np.cos(np.deg2rad(y[4])) - (kappa[2]/mu[1])*((y[2])-(l0[2]))*np.cos(np.deg2rad(y[5]))\n",
    "    sysSolve[3] = (kappa[1]/mu[1])*((y[1])-(l0[1]))*np.sin(np.deg2rad(y[4])) - (kappa[2]/mu[1])*((y[2])-(l0[2]))*np.sin(np.deg2rad(y[5])) - 1\n",
    "    sysSolve[4] = np.abs(y[0])*np.cos(np.deg2rad(y[3]))+np.abs(y[1])*np.cos(np.deg2rad(y[4]))+ np.abs(y[2])*np.cos(np.deg2rad(y[5])) - 1\n",
    "    sysSolve[5] = np.abs(y[1])*np.sin(np.deg2rad(y[4]))+np.abs(y[2])*np.sin(np.deg2rad(y[5]))- np.abs(y[0])*np.sin(np.deg2rad(y[3]))\n",
    "    return sysSolve"
   ]
  },
  {
   "cell_type": "code",
   "execution_count": 71,
   "metadata": {},
   "outputs": [
    {
     "data": {
      "text/plain": [
       "array([-5.84250040e+07, -1.96697682e+08,  9.70107751e+07, -9.92663811e+04,\n",
       "       -2.12956665e+05, -3.09617950e+05])"
      ]
     },
     "execution_count": 71,
     "metadata": {},
     "output_type": "execute_result"
    }
   ],
   "source": [
    "fixstatcon = lambda x : static_conditions(x,l0Arr,kappaArr,muArr)\n",
    "(fixsoln,iter) = newton_raphson_iterate(fixstatcon, Jacobian, y0Arr, hArr, itermax=20, atol=1e-10, rtol=1e-10)\n",
    "fixsoln"
   ]
  },
  {
   "cell_type": "code",
   "execution_count": null,
   "metadata": {},
   "outputs": [],
   "source": []
  },
  {
   "cell_type": "markdown",
   "metadata": {},
   "source": [
    "Using your new function, solve the original system.  Print this solution and the number of iterations required, convert and print the standard form, and produce a visualization of the system.  You should, of course, have a valid solution!"
   ]
  },
  {
   "cell_type": "code",
   "execution_count": 43,
   "metadata": {
    "deletable": false,
    "nbgrader": {
     "checksum": "28a968d815566af2f38530d9b80165ac",
     "grade": true,
     "grade_id": "cell-164d76be42e6b742",
     "locked": false,
     "points": 4,
     "schema_version": 1,
     "solution": true
    }
   },
   "outputs": [
    {
     "ename": "TypeError",
     "evalue": "static_conditions() missing 3 required positional arguments: 'l0', 'kappa', and 'mu'",
     "output_type": "error",
     "traceback": [
      "\u001b[1;31m---------------------------------------------------------------------------\u001b[0m",
      "\u001b[1;31mTypeError\u001b[0m                                 Traceback (most recent call last)",
      "\u001b[1;32m<ipython-input-43-68f91fde9b0d>\u001b[0m in \u001b[0;36m<module>\u001b[1;34m()\u001b[0m\n\u001b[1;32m----> 1\u001b[1;33m \u001b[0mNRIFix\u001b[0m \u001b[1;33m=\u001b[0m \u001b[0mnewton_raphson_iterate\u001b[0m\u001b[1;33m(\u001b[0m\u001b[0mstatic_conditions\u001b[0m\u001b[1;33m,\u001b[0m \u001b[0mJacobian\u001b[0m\u001b[1;33m,\u001b[0m \u001b[0my0Arr\u001b[0m\u001b[1;33m,\u001b[0m \u001b[0mhArr\u001b[0m\u001b[1;33m,\u001b[0m \u001b[0mitermax\u001b[0m\u001b[1;33m=\u001b[0m\u001b[1;36m20\u001b[0m\u001b[1;33m,\u001b[0m \u001b[0margs\u001b[0m\u001b[1;33m=\u001b[0m\u001b[1;33m(\u001b[0m\u001b[1;33m)\u001b[0m\u001b[1;33m,\u001b[0m \u001b[0matol\u001b[0m\u001b[1;33m=\u001b[0m\u001b[1;36m1e-10\u001b[0m\u001b[1;33m,\u001b[0m \u001b[0mrtol\u001b[0m\u001b[1;33m=\u001b[0m\u001b[1;36m1e-10\u001b[0m\u001b[1;33m)\u001b[0m\u001b[1;33m\u001b[0m\u001b[0m\n\u001b[0m\u001b[0;32m      2\u001b[0m \u001b[1;31m##### Get this to utilize args somehow. Same for NRI earlier in the code.\u001b[0m\u001b[1;33m\u001b[0m\u001b[1;33m\u001b[0m\u001b[0m\n\u001b[0;32m      3\u001b[0m \u001b[0mprint\u001b[0m\u001b[1;33m(\u001b[0m\u001b[1;34m\"The solution to the system of equations is y =\"\u001b[0m\u001b[1;33m,\u001b[0m\u001b[0mNRIFix\u001b[0m\u001b[1;33m[\u001b[0m\u001b[1;36m0\u001b[0m\u001b[1;33m]\u001b[0m\u001b[1;33m)\u001b[0m\u001b[1;33m\u001b[0m\u001b[0m\n\u001b[0;32m      4\u001b[0m \u001b[0mprint\u001b[0m\u001b[1;33m(\u001b[0m\u001b[1;34m\"The solution was obtained after\"\u001b[0m\u001b[1;33m,\u001b[0m\u001b[0mNRIFix\u001b[0m\u001b[1;33m[\u001b[0m\u001b[1;36m1\u001b[0m\u001b[1;33m]\u001b[0m\u001b[1;33m,\u001b[0m\u001b[1;34m\"iterations of the Newton-Raphson method.\"\u001b[0m\u001b[1;33m)\u001b[0m\u001b[1;33m\u001b[0m\u001b[0m\n\u001b[0;32m      5\u001b[0m \u001b[0mstandardNRIFix\u001b[0m \u001b[1;33m=\u001b[0m \u001b[0mto_standard_form\u001b[0m\u001b[1;33m(\u001b[0m\u001b[0mNRIFix\u001b[0m\u001b[1;33m[\u001b[0m\u001b[1;36m0\u001b[0m\u001b[1;33m]\u001b[0m\u001b[1;33m[\u001b[0m\u001b[1;36m0\u001b[0m\u001b[1;33m:\u001b[0m\u001b[1;36m3\u001b[0m\u001b[1;33m]\u001b[0m\u001b[1;33m,\u001b[0m\u001b[0mNRIFix\u001b[0m\u001b[1;33m[\u001b[0m\u001b[1;36m0\u001b[0m\u001b[1;33m]\u001b[0m\u001b[1;33m[\u001b[0m\u001b[1;36m3\u001b[0m\u001b[1;33m:\u001b[0m\u001b[1;36m7\u001b[0m\u001b[1;33m]\u001b[0m\u001b[1;33m)\u001b[0m\u001b[1;33m\u001b[0m\u001b[0m\n",
      "\u001b[1;32m<ipython-input-4-e2926f75ebd3>\u001b[0m in \u001b[0;36mnewton_raphson_iterate\u001b[1;34m(f, Jacobian, y0, h, itermax, args, atol, rtol)\u001b[0m\n\u001b[0;32m     10\u001b[0m     \u001b[0mniter\u001b[0m \u001b[1;33m=\u001b[0m \u001b[1;36m1\u001b[0m\u001b[1;33m\u001b[0m\u001b[0m\n\u001b[0;32m     11\u001b[0m     \u001b[1;32mwhile\u001b[0m \u001b[0mniter\u001b[0m \u001b[1;33m<=\u001b[0m \u001b[0mitermax\u001b[0m \u001b[1;33m:\u001b[0m\u001b[1;33m\u001b[0m\u001b[0m\n\u001b[1;32m---> 12\u001b[1;33m         \u001b[0mJ\u001b[0m \u001b[1;33m=\u001b[0m \u001b[0mJacobian\u001b[0m\u001b[1;33m(\u001b[0m\u001b[0mf\u001b[0m\u001b[1;33m,\u001b[0m\u001b[0my\u001b[0m\u001b[1;33m,\u001b[0m\u001b[0mh\u001b[0m\u001b[1;33m)\u001b[0m\u001b[1;33m\u001b[0m\u001b[0m\n\u001b[0m\u001b[0;32m     13\u001b[0m         \u001b[0mdy\u001b[0m \u001b[1;33m=\u001b[0m \u001b[0mnp\u001b[0m\u001b[1;33m.\u001b[0m\u001b[0mdot\u001b[0m\u001b[1;33m(\u001b[0m\u001b[0mla\u001b[0m\u001b[1;33m.\u001b[0m\u001b[0minv\u001b[0m\u001b[1;33m(\u001b[0m\u001b[0mJ\u001b[0m\u001b[1;33m)\u001b[0m\u001b[1;33m,\u001b[0m \u001b[0mf\u001b[0m\u001b[1;33m(\u001b[0m\u001b[0my\u001b[0m\u001b[1;33m,\u001b[0m\u001b[1;33m*\u001b[0m\u001b[0margs\u001b[0m\u001b[1;33m)\u001b[0m\u001b[1;33m)\u001b[0m\u001b[1;33m\u001b[0m\u001b[0m\n\u001b[0;32m     14\u001b[0m         \u001b[0my\u001b[0m \u001b[1;33m=\u001b[0m \u001b[0my\u001b[0m \u001b[1;33m-\u001b[0m \u001b[0mdy\u001b[0m\u001b[1;33m\u001b[0m\u001b[0m\n",
      "\u001b[1;32m<ipython-input-3-bf56401d9444>\u001b[0m in \u001b[0;36mJacobian\u001b[1;34m(f, y, h, args)\u001b[0m\n\u001b[0;32m      9\u001b[0m     \u001b[0myminush\u001b[0m \u001b[1;33m=\u001b[0m \u001b[0my\u001b[0m \u001b[1;33m-\u001b[0m \u001b[0mh_step\u001b[0m\u001b[1;33m\u001b[0m\u001b[0m\n\u001b[0;32m     10\u001b[0m     \u001b[0myplush\u001b[0m \u001b[1;33m=\u001b[0m \u001b[0my\u001b[0m \u001b[1;33m+\u001b[0m \u001b[0mh_step\u001b[0m\u001b[1;33m\u001b[0m\u001b[0m\n\u001b[1;32m---> 11\u001b[1;33m     \u001b[0mcenter_differencing\u001b[0m \u001b[1;33m=\u001b[0m \u001b[1;33m(\u001b[0m\u001b[0mf\u001b[0m\u001b[1;33m(\u001b[0m\u001b[0myplush\u001b[0m\u001b[1;33m,\u001b[0m\u001b[1;33m*\u001b[0m\u001b[0margs\u001b[0m\u001b[1;33m)\u001b[0m\u001b[1;33m-\u001b[0m\u001b[0mf\u001b[0m\u001b[1;33m(\u001b[0m\u001b[0myminush\u001b[0m\u001b[1;33m,\u001b[0m\u001b[1;33m*\u001b[0m\u001b[0margs\u001b[0m\u001b[1;33m)\u001b[0m\u001b[1;33m)\u001b[0m\u001b[1;33m/\u001b[0m\u001b[1;33m(\u001b[0m\u001b[1;36m2\u001b[0m\u001b[1;33m*\u001b[0m\u001b[0mh\u001b[0m\u001b[1;33m)\u001b[0m\u001b[1;33m\u001b[0m\u001b[0m\n\u001b[0m\u001b[0;32m     12\u001b[0m     \u001b[1;32mreturn\u001b[0m \u001b[0mcenter_differencing\u001b[0m\u001b[1;33m\u001b[0m\u001b[0m\n",
      "\u001b[1;31mTypeError\u001b[0m: static_conditions() missing 3 required positional arguments: 'l0', 'kappa', and 'mu'"
     ]
    }
   ],
   "source": [
    "NRIFix = newton_raphson_iterate(static_conditions, Jacobian, y0Arr, hArr, itermax=20, args=(), atol=1e-10, rtol=1e-10)\n",
    "##### Get this to utilize args somehow. Same for NRI earlier in the code.\n",
    "print(\"The solution to the system of equations is y =\",NRIFix[0])\n",
    "print(\"The solution was obtained after\",NRIFix[1],\"iterations of the Newton-Raphson method.\")\n",
    "standardNRIFix = to_standard_form(NRIFix[0][0:3],NRIFix[0][3:7])\n",
    "print(\"The standard form of the solution is y =\",standardNRIFix)\n",
    "visualize_system(standardNRIFix[0], standardNRIFix[1])\n",
    "## If the new static_conditions is correct, this shouldn't look completely fucked.\n",
    "\n",
    "######### Also all of these comments are supposed to be guidance since I probably won't be able to meet\n",
    "######### this weekend. As such, they should DEFINITELY be deleted before the lab is turned in, so if I\n",
    "######### can't meet at all this weekend, you guys should send me a completed version of the lab so I can\n",
    "######### look things over, make sure these comments are deleted and that everything is working.\n",
    "\n",
    "######### Really though, all that's left is describing why we failed in the first place, fixing that, and \n",
    "######### fixing some of the code that I slapped together and can be improved, notabl the NRI variable earlier\n",
    "######### in the code that uses lambda instead of args and the to_standard_form function that uses 3 loops.\n",
    "######### Also, might want to look into whether or not opt.root should be giving us more than 1 solution."
   ]
  },
  {
   "cell_type": "markdown",
   "metadata": {},
   "source": [
    "## Alternative Approach\n",
    "\n",
    "Phew, we have solved the problem and completed the lab.  However, we may wonder if there is a better approach that would have avoided the subtleties from the beginning.  The answer is yes.  Here is a suggested alternative approach.  You do not need to implement this yourself, but it should not be too hard to do so.  In particular, you should just need to define a new function, `static_conditions_alt`, and can then reuse your `Jacobian` and `newton_raphson_iterate` functions.\n",
    "\n",
    "A better approach is to just do everything in terms of vectors.  When we first start using vectors in introductory physics we often complain and think they are needlessly complicated.  The approach we have used in this lab seems far more natural to us.  Hopefully, as we learn more we recognize that vectors, in fact, make things significantly easier and are a much better way to approach problems.  Further, they allow us to very easily generalize the problem as discussed in the previous lab.  One way to represent this system is shown below.\n",
    "\n",
    "![Static mass-spring system with vectors.](attachment:static_springs_vectors.png)\n",
    "\n",
    "Here we allow for an arbitrary origin to our coordinate system and specify the locations of the supports as the vectors $\\vec R_j$ (we could easily have more than two) and the locations of massess as $\\vec r_j$ (again, we could easily have more than two).  Our objective is to find these $\\vec r_j$ given $\\vec R_j$, and the same parameters for the springs, $\\kappa_i$, and the masses, $\\mu_j$.  The red arrows in the figure represent the length vectors for the springs, $\\vec\\ell_i$.\n",
    "\n",
    "Notice that now we are only solving for the positions of the masses.  This means solving for four quantities, not six!  We thus only need four equations, all of which come from Newton's second law.  This raises some questions.\n",
    "- What happened to the extra quantities/extra conditions that were required in our original fomulation?\n",
    "- Where are the angles in this new formulation?\n",
    "- Why is this system non-linear?  The spring force is linear in the displacement after all.\n",
    "- How do we naturally avoid the issue we encountered in our solution developed over the past two labs?\n",
    "\n",
    "In answering these questions we see the power (and beauty) of using vectors!"
   ]
  },
  {
   "cell_type": "markdown",
   "metadata": {},
   "source": [
    "## Member Participation\n",
    "\n",
    "See Lab00 for instructions on turning in labs.  We will follow this procedure the entire semester.\n",
    "\n",
    "In the following cell enter the *Case ID* for each student in the group who partcipated in this lab.  Again, see Lab00 for more details.  It is expected that you have read and understood those details."
   ]
  },
  {
   "cell_type": "markdown",
   "metadata": {},
   "source": []
  }
 ],
 "metadata": {
  "anaconda-cloud": {},
  "authors": [
   {
    "name": "Craig J Copi",
    "semester": "Spring 2019"
   }
  ],
  "kernelspec": {
   "display_name": "Python 3",
   "language": "python",
   "name": "python3"
  },
  "language_info": {
   "codemirror_mode": {
    "name": "ipython",
    "version": 3
   },
   "file_extension": ".py",
   "mimetype": "text/x-python",
   "name": "python",
   "nbconvert_exporter": "python",
   "pygments_lexer": "ipython3",
   "version": "3.6.5"
  }
 },
 "nbformat": 4,
 "nbformat_minor": 2
}
