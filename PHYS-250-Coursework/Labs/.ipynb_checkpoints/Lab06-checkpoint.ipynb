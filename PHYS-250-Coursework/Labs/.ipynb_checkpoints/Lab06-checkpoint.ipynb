{
 "cells": [
  {
   "cell_type": "markdown",
   "metadata": {},
   "source": [
    "# Lab 06 : Problem Solving (part 1)"
   ]
  },
  {
   "cell_type": "markdown",
   "metadata": {},
   "source": [
    "## Objectives\n",
    "\n",
    "This is the first part of a two part lab.  **The solutions to this lab will not be posted until both parts of the lab are complete**.\n",
    "\n",
    "We will work through the details of how to solve a problem.  This will include analytic manipulations, clear documentation, and parameter independent implementations.\n",
    "\n",
    "The first part will mainly focus on setting up the problem and getting it into a form we can solve numerically."
   ]
  },
  {
   "cell_type": "markdown",
   "metadata": {},
   "source": [
    "## Initialization\n",
    "\n",
    "As always, initialize your environment now by loading all modules required and setting up the plotting environment."
   ]
  },
  {
   "cell_type": "code",
   "execution_count": 1,
   "metadata": {
    "deletable": false,
    "nbgrader": {
     "checksum": "bc978df247c1205b52688e10bac5318b",
     "grade": true,
     "grade_id": "cell-ba47ec95174ca054",
     "locked": false,
     "points": 0,
     "schema_version": 1,
     "solution": true
    }
   },
   "outputs": [],
   "source": [
    "import numpy as np\n",
    "import matplotlib.pyplot as plt\n",
    "%matplotlib inline\n",
    "import scipy.optimize as opt\n",
    "import scipy.interpolate as interp\n",
    "import scipy.special as sf\n",
    "import matplotlib as mpl\n",
    "mpl.rc('xtick', direction='in', top=True)\n",
    "mpl.rc('ytick', direction='in', right=True)\n",
    "mpl.rc('xtick.minor', visible=True)\n",
    "mpl.rc('ytick.minor', visible=True)\n",
    "import scipy.integrate as integ"
   ]
  },
  {
   "attachments": {
    "static_springs.png": {
     "image/png": "[encoded data removed]"
    }
   },
   "cell_type": "markdown",
   "metadata": {},
   "source": [
    "## Static Mass-Spring Configuration\n",
    "\n",
    "In the next two labs we will write code that will allow us to determine the static configuration for a mass-spring system of the type shown below.  To do so we will iteratively use the Newton-Raphson method to solve a system of non-linear equations.  Before we can do that, we first need to set up the problem.  That is the main purpose of this lab!\n",
    "\n",
    "![Static spring configuration](attachment:static_springs.png)\n",
    "\n",
    "The figure above shows a conventional way to represent a system of two masses and three springs.  The choices of angles, labels for the springs, *etc.* may not be the easiest for a numerical implementation, but it is familiar to us from an introductory physics course.  Thus, our numerical solution must take inputs consistent with this figure and must also produce outputs consistent with it.\n",
    "\n",
    "In our code we can choose to define things differently and map between the choices made in the figure and choices that we find more convenient.  This is always an issue when solving a problem, particularly numerically.  Though there may be a more convenient way to represent the information in our code, changing from the convention shown in the figure comes at a cost.  Ultimately we want our code to be understandable.  We want other people to be able to read it and we also want to be able to modify it ourselves, particularly if we come back months or years later.  We do not want to have to work hard to understand some different convention chosen at the moment when we were writing the code but now does not make sense to us!  Regardless of what choices we make, they must be clearly documented.\n",
    "\n",
    "### Problem Specification\n",
    "\n",
    "To solve this system we first need to know exactly what problem we want to solve.  Vaguely it is to determine the static configuration.  It is worth thinking about what that means for yourself.  For the lab we will clearly specify the system along with what input will be given and what output is to be produced.  You will be \"guided\" on how to think about and set up this problem.  That does not mean this will be the best approach.  This will be revisited at the end of the next lab.\n",
    "\n",
    "When solving a problem we should try to be as general as possible.  Rarely are we really interesting in the exact problem given, instead we are interested in a class of problems and would like to be able to solve any in that class.  In this case we could imagine many generalizations to the system shown in the figure.  We could allow for many changes.\n",
    "1. Arbitrary number of masses.\n",
    "1. Arbitrary number of connecting springs to each mass.\n",
    "1. Arbitrary number of support points.\n",
    "1. Three dimensional configuration.\n",
    "\n",
    "We should include generalizations in our code if they do not make the solution significantly more complicated.  For this lab you do not need to include such generalizations, but you should think about them.\n",
    "\n",
    "Our problem will be: given two masses, $m_1$ and $m_2$, connected by three springs with spring constants $k_1$, $k_2$, and $k_3$ and natural lengths $\\ell_{0,1}$, $\\ell_{0,2}$, and $\\ell_{0,3}$ at two support points separated by a distance $d$, determine the lengths $\\ell_1$, $\\ell_2$, and $\\ell_3$ of the springs, along with the angles $\\theta_1$, $\\theta_2$, and $\\theta_3$.\n",
    "\n",
    "Actually, before proceeding we can do more than that.  As is almost always the case we need to worry about units.  Yet units should not matter.  In fact, in the problem given does it matter if the distance between the support points is 1 cm, 1 meter, 1 mile, *etc.*?  No!  In general it is always best to work in terms of dimensionless quantities, that is, quantities that are relative to each other.  In this case we really do not care what $d$ is, all we really care about is how all the lengths in this system compare to $d$.  This means we can think of measuring all lengths in units of $d$, or equivalently that we will specify the natural lengths as the ratio $\\ell_{0,i}/d$ and find the ratio of lengths $\\ell_i/d$ as our solution.  Effectively this means that we can \"just set\" $d=1$ and when we say, for example, that $\\ell_{0,1}=1.5$ we mean that $\\ell_{0,1}=1.5 d$.  Similarly it is convenient to specify the masses in terms of some mass unit, it really does not matter what it is.  Let us call this mass $M$.  We will thus always specify things as a ratio of masses.  To make this more clear let us define $\\mu_j \\equiv m_j/M$.  Finally¸ instead of specifying the spring constants in some units we can normalize them with this mass scale too by defining $\\kappa_i \\equiv \\frac{k_i d}{M g}$, where $g$ is the gravitational constant.\n",
    "\n",
    "The new statment of our problem is as follows.  Given two normalize masses, $\\mu_j$, and three springs with normalized spring constants, $\\kappa_i$, and natural lengths, $\\ell_{0,i}$ in units of $d$, determine in the static configuration the lengths of the springs, $\\ell_i$ in units of $d$ along with the angles $\\theta_i$."
   ]
  },
  {
   "cell_type": "markdown",
   "metadata": {},
   "source": [
    "### System of Equations\n",
    "\n",
    "We need to find six quantities, $\\ell_i$ and $\\theta_i$, so we need six equations to solve.  Ultimately we will be able to write these equations in the form\n",
    "$$ \\vec f(\\vec y) = 0 $$\n",
    "and our goal will be to find the $\\vec y$ that solves this system of nonlinear equations.\n",
    "\n",
    "To begin we need the system of equations.  You will derive them and document them here.\n",
    "\n",
    "What does it mean to \"document\"?  You should give enough information that either you, or a classmate, could easily follow the steps and reproduce your results.  This means you should not just give the final equations without any discussion/description, nor should you provide step-by-step algebraic manipulations.  Instead you should determine what are the key ideas, what are the key steps, what intermediate steps are worth seeings, and finally, what is the final result."
   ]
  },
  {
   "cell_type": "markdown",
   "metadata": {},
   "source": [
    "Derive a system of nonlinear equations of the form \"left-hand side equals zero\" for the mass-spring system.  Express your equations in terms of the quantites $\\ell_i$ and $\\theta_i$ given the inputs $\\ell_{0,i}$, $\\kappa_i$, and $\\mu_j$.  Clearly describe your solution and document your equations giving their final form as a system of six equations, all written using `Markdown` and LaTeX.  As good, young physicists your first thought will be to draw free-body diagrams.  Follow the usual procedure you would from introductory physics and describe it below."
   ]
  },
  {
   "attachments": {
    "static_springs_freebody.png": {
     "image/png": "[encoded data removed]"
    }
   },
   "cell_type": "markdown",
   "metadata": {
    "deletable": false,
    "nbgrader": {
     "checksum": "5df18d945706ec1ce4d9be267cfd16cb",
     "grade": true,
     "grade_id": "cell-75e9117d24ff0642",
     "locked": false,
     "points": 10,
     "schema_version": 1,
     "solution": true
    }
   },
   "source": [
    "We derived 6 equations based on the free body diagrams of the individual masses and the two mass-spring system. Because this system is static, we know that each of those free body diagrams will be balanced. This means the sum of the forces going in each direction will end up equaling zero. \n",
    "When considering $m_1$ by itself the equations that arise from the FBD are \n",
    "\\begin{align}\n",
    "    -m_1g + k_3(l_3-l_{0,3})\\sin(\\theta_3) + k_1(l_1-l_{0,1})\\sin(\\theta_1)  &= 0 \\\\\n",
    "    k_3(l_3-l_{0,3})\\cos(\\theta_3) - k_1(l_1-l_{0,1})\\cos(\\theta_1) &= 0\n",
    "\\end{align}\n",
    "When considering $m_2$ by itself the equations that arise from the FBD are\n",
    "\\begin{align}\n",
    "    -m_2g -k_3(l_3-l_{0,3})\\sin(\\theta_3) + k_2(l_2-l_{0,2})\\sin(\\theta_2) &= 0 \\\\\n",
    "    k_3(l_3-l_{0,3})\\cos(\\theta_3) - k_2(l_2-l_{0,2})\\cos(\\theta_2) &= 0\n",
    "\\end{align}\n",
    "And when considering the the two mass system the equations are\n",
    "\\begin{align}\n",
    "    -(m_1+m_2)g + k_2(l_2-l_{0,2})\\sin(\\theta_2) + k_1(l_1-l_{0,1})\\sin(\\theta_1) &= 0 \\\\\n",
    "    k_1(l_1-l_{0,1})\\cos(\\theta_1) + - k_2(l_2-l_{0,2})\\cos(\\theta_2) &= 0\n",
    "\\end{align}\n",
    "Changing the system into dimensionless variables as specified above gives us this normalized set of six equations:\n",
    "\\begin{align}\n",
    "    \\mu_1 + \\kappa_1(\\ell_{0,1}-\\ell_1)\\sin(\\theta_1) + \\kappa_3(\\ell_{0,3}-\\ell_3)\\sin(\\theta_3) &= 0 \\\\\n",
    "    \\kappa_3(\\ell_3-\\ell_{0,3}\\cos(\\theta_3) + \\kappa_1(\\ell_{0,1}-\\ell_1)\\cos(\\theta_1) &= 0 \\\\\n",
    "    \\mu_2 + \\kappa_3(\\ell_3-\\ell_{0,3})\\sin(\\theta_3) + \\kappa_2(\\ell_{0,2}-\\ell_2)\\sin(\\theta_2) &= 0 \\\\\n",
    "    \\kappa_2(\\ell_2-\\ell_{0,2})\\cos(\\theta_2) + \\kappa_3(\\ell_{0,3}-\\ell_3)\\cos(\\theta_3) &= 0 \\\\\n",
    "    \\mu_1 + \\mu_2 +\\kappa_2(\\ell_{0,2}-\\ell_2)\\sin(\\theta_2) +\\kappa_1(\\ell_{0,1}-\\ell_1)\\sin(\\theta_1) &= 0 \\\\\n",
    "    \\kappa_1(\\ell_{0,1}-\\ell_1)\\cos(\\theta_1) + \\kappa_2(\\ell_2-\\ell_{0,2})\\cos(\\theta_2)  &= 0\n",
    "\\end{align}        "
   ]
  },
  {
   "cell_type": "markdown",
   "metadata": {},
   "source": [
    "### Implementation of the System of Equations\n",
    "\n",
    "The next step is to implement these equations.  In general we have choices to make in terms of how we order our variables.  Here the order will be specified for you.  **The order you must use** is\n",
    "```\n",
    "y = (l1, l2, l3, theta1, theta2, theta3)\n",
    "```\n",
    "\n",
    "You will now write a function that calculates your system of equations and returns it as a numpy array.  What order should you write the equations in?  It does not matter, however, you should make it easy to understand.  You chose an order to write them in your documentation above, use the same order here!  It will be far less confusing to the reader if you preserve this ordering.  In other words, be consistent between your documentation and code!\n",
    "\n",
    "Ultimately we are going to want our function to work even if `y` is given as a two dimensional array of shape $(6,N)$ for arbitrary $N$.  In other words, there will be six rows and an arbitrary number of columns.  If you write your function in the \"natural\" way with appropriate uses of things like `np.zeros_like`, it will \"just work\".  We will discuss more details of this next week."
   ]
  },
  {
   "cell_type": "markdown",
   "metadata": {},
   "source": [
    "Write a function to return your system of equations as a numpy array.  Your function must be of the form\n",
    "```\n",
    "def static_conditions (y, l0, kappa, mu) :\n",
    "```\n",
    "where `y` is ordered as discussed above, `l0` is an array containing the natural lengths of the spring (in units of $d$), `kappa` are the normalized spring constants, and `mu` are the normalized masses.  **Clearly document your code.**"
   ]
  },
  {
   "cell_type": "code",
   "execution_count": 2,
   "metadata": {
    "deletable": false,
    "nbgrader": {
     "checksum": "2fed19688d8819d80bf78a90a15ebfc3",
     "grade": true,
     "grade_id": "cell-e56bc62f00d549f7",
     "locked": false,
     "points": 10,
     "schema_version": 1,
     "solution": true
    }
   },
   "outputs": [],
   "source": [
    "def static_conditions (y, l0, kappa, mu) :\n",
    "    \"\"\"Returns the left hand side of the six equations describing the spring mass system\n",
    "    in an array. This array will have shape (6,N) for arbitrary N. The rows of the returned\n",
    "    array will be in the same order as the six equations are shown in the above \n",
    "    documentation.\n",
    "    Parameters\n",
    "    ----------\n",
    "    y : a (6,N) array containing spring lengths (units of d) and angles (units of radians)\n",
    "    of the system.\n",
    "    l0 : a 3 element array containing the natural spring lengths in units of d.\n",
    "        l0[0] : natural length of spring 1.\n",
    "        l0[1] : natural length of spring 2.\n",
    "        l0[2] : natural length of spring 3.\n",
    "    kappa : a 3 element array containing normalized spring constants.\n",
    "        kappa[0] : normalized spring constant of spring 1.\n",
    "        kappa[1] : normalized spring constant of spring 2.\n",
    "        kappa[2] : normalized spring constant of spring 3.\n",
    "    mu : a 2 element array containg the normalized masses.\n",
    "        mu[0] : mass 1.\n",
    "        mu[1] : mass 2.\"\"\"\n",
    "    eqns = np.zeros_like(y)\n",
    "    eqns[0] = mu[0] + kappa[0]*(l0[0]-y[0])*np.sin(y[3]) + kappa[1]*(l0[2]-y[2])*np.sin(y[5])\n",
    "    eqns[1] = kappa[2]*(y[2]-l0[2])*np.cos(y[5]) + kappa[0]*(l0[0]-y[0])*np.cos(y[3])\n",
    "    eqns[2] = mu[1] + kappa[2]*(y[2]-l0[2])*np.sin(y[5]) + kappa[1]*(l0[1]-y[1])*np.sin(y[4])\n",
    "    eqns[3] = kappa[1]*(y[1]-l0[1])*np.cos(y[4]) + kappa[2]*(l0[2]-y[2])*np.cos(y[5])\n",
    "    eqns[4] = mu[0] + mu[1] + kappa[1]*(l0[1]-y[1])*np.sin(y[4]) + kappa[0]*(l0[0]-y[0])*np.sin(y[4])\n",
    "    eqns[5] = kappa[0]*(l0[0]-y[0])*np.cos(y[3])+kappa[1]*(y[1]-l0[1])*np.cos(y[4])\n",
    "    return eqns"
   ]
  },
  {
   "cell_type": "markdown",
   "metadata": {},
   "source": [
    "### Testing\n",
    "\n",
    "Now that we have written a function we are not done, it needs to work!  As we have seen, \"work\" means many things.  Of course it must be valid code: given the inputs it produces output.  It also must be correct code: given certain inputs it produces known, correct outputs.\n",
    "\n",
    "Running the function to see if it produces output is easy, this is how you can debug your code.  Knowing that it produces correct output is more difficult.\n",
    "\n",
    "Writing a complete test suite is hard work.  Simple test cases do not cover all possibilities.  While it is best to have as many and as complicated a set of tests as possible, we will be content with just a few, simple tests here.\n",
    "\n",
    "The test cases should be *physical*.  They should be physical systems for which we know the answer.  They should not be based on the system of equations with some of the parameters set.  In other words, we should not plug some numbers into the system of equations and solve for the others.  We want to *test* the validity of the system of equations, not just verify that the computer can do arithmetic."
   ]
  },
  {
   "cell_type": "markdown",
   "metadata": {},
   "source": [
    "Here you will describe two physical test cases that can be used to verify that your system of equations and its implementation is correct.  These will be clearly documented using `Markdown` and LaTeX, describing the inputs and the expected outputs for these cases.\n",
    "(*Hint:* What static configurations do we know?  In other words, for what conditions will $\\vec f(\\vec y)=0$?)"
   ]
  },
  {
   "cell_type": "markdown",
   "metadata": {},
   "source": [
    "### Test 1\n",
    "\n",
    "#### Description\n",
    "\n",
    "Clearly describe your first test case."
   ]
  },
  {
   "cell_type": "markdown",
   "metadata": {
    "deletable": false,
    "nbgrader": {
     "checksum": "6b7b02926f6ffd8a5cab81247c71be33",
     "grade": true,
     "grade_id": "cell-d941046f078d9e73",
     "locked": false,
     "points": 3,
     "schema_version": 1,
     "solution": true
    }
   },
   "source": [
    "We will set $\\kappa_1$ equal to $\\kappa_2$, $m_1$ equal to $m_2$, $\\ell_{0,1}$ equal to $\\ell_{0,2}$ and $\\ell_{0,3}$ equal to 1. In this case, the masses will both hang straight down because spring 3 will exert no force on either mass because it will be at its natural length. Therefore, $\\theta_1$ and $\\theta_2$ will be $90^\\circ$ while $\\theta_3$ will be 0. $\\ell_3$ will be 1 as previously discussed. Finally it can be determined from the FBD of $m_1$ and $m_2$ along with the fact that $m_1$ and $m_2$ are equal that\n",
    "$$\\ell_1=\\ell_2=\\frac{\\mu_1}{\\kappa_1}+\\ell_{0,1}=\\frac{\\mu_2}{\\kappa_2}+\\ell_{0,2}$$\n",
    "We will pick arbitray an value to set $\\kappa_1$ and $\\kappa_2$ to equal. The same procedure will be done for $m_1$ and $m_2$ as well as $\\ell_{0,1}$ and $\\ell_{0,2}$. $\\kappa_3$ will also be picked arbitrarily because it should have no effect on the outcome given spring 3 will be at its natural length. Then we will assert that the lengths and angles are their expected values by seeing if the `static_conditions` function returns an array of zeros given the conditions discussed."
   ]
  },
  {
   "cell_type": "markdown",
   "metadata": {},
   "source": [
    "#### Implementation\n",
    "\n",
    "Implement your test case using `assert()` as discussed in the PreLab."
   ]
  },
  {
   "cell_type": "code",
   "execution_count": 3,
   "metadata": {
    "deletable": false,
    "nbgrader": {
     "checksum": "7f58342318cf16a23892c52193ea2acc",
     "grade": true,
     "grade_id": "cell-8f75565462c56270",
     "locked": false,
     "points": 3,
     "schema_version": 1,
     "solution": true
    }
   },
   "outputs": [],
   "source": [
    "kappa12 = 432.234324 #kappa1 and kappa2 because they are equal\n",
    "kappa3 = 5789245.26 #kappa3\n",
    "mu12 = 3416.419643 #mu1 and mu2 because they are equal\n",
    "l0_12 = 96458.56 #l0_1 and l0_2 because they are equal\n",
    "l0_3 = 1 #l0_3\n",
    "l_12 = mu12/kappa12+l0_12 #l1 and l2 because they are the same\n",
    "l3 = l0_3 #l3\n",
    "theta12 = np.pi/2 #theta1 and theta2 because they are the same\n",
    "theta3 = 0\n",
    "\n",
    "y = np.array([l_12, l_12, l3, theta12, theta12, theta3])\n",
    "l0 = np.array([l0_12, l0_12, l0_3])\n",
    "kappa = np.array([kappa12, kappa12, kappa3])\n",
    "mu = np.array([mu12, mu12])\n",
    "\n",
    "test = static_conditions(y, l0, kappa, mu)\n",
    "assert(np.allclose(test, np.zeros_like(test)))"
   ]
  },
  {
   "cell_type": "markdown",
   "metadata": {},
   "source": [
    "### Test 2\n",
    "\n",
    "#### Description\n",
    "\n",
    "Clearly describe your second test case."
   ]
  },
  {
   "cell_type": "markdown",
   "metadata": {
    "deletable": false,
    "nbgrader": {
     "checksum": "db0101a0bf5e460d74eed1b8111fe0f4",
     "grade": true,
     "grade_id": "cell-3829e3a0c52231f6",
     "locked": false,
     "points": 3,
     "schema_version": 1,
     "solution": true
    }
   },
   "source": [
    "This test will be the same as Test 1 except spring 3 will no longer be at its natural length. We will also set $\\theta_1$ and $\\theta_2$ equal to $30^\\circ$. FBD analysis of each mass separetly and of both masses together yields the following relationships after some algebra:\n",
    "$$\\begin{align}\n",
    "\\ell_1=\\ell_2=\\frac{\\mu_1}{\\kappa_1}\\frac{1}{\\sin\\theta_1}+\\ell_{0,1}=\\frac{\\mu_2}{\\kappa_2}\\frac{1}{\\sin\\theta_2}+\\ell_{0,2} \\\\\n",
    "\\ell_3=\\frac{\\kappa_1}{\\kappa_3}(\\ell_1-\\ell_{0,1})\\cos\\theta_1+\\ell_{0,3}=\\frac{\\kappa_2}{\\kappa_3}(\\ell_2-\\ell_{0,2})\\cos\\theta_2+\\ell{0,3}\n",
    "\\end{align}$$\n",
    "We will pick an arbitray value for $\\mu_1$ and $\\mu_2$, $\\kappa_1$ and $\\kappa_2$, $\\ell_{0,1}$ and $\\ell_{0,2}$, $\\kappa_3$ and then $\\ell_{0,3}$. However, the value for $\\ell_{0,3}$ must be less than 1 because it was assumed spring 3 was extended in the FBD analysis. We then expect $\\theta_3$ to equal 0, and the natual lengths to be given by the above equations. We will assert this below by using the `static_conditions` function."
   ]
  },
  {
   "cell_type": "markdown",
   "metadata": {},
   "source": [
    "#### Implementation\n",
    "\n",
    "Implement your test case using `assert()` as discussed in the PreLab."
   ]
  },
  {
   "cell_type": "code",
   "execution_count": 25,
   "metadata": {
    "deletable": false,
    "nbgrader": {
     "checksum": "4c6eaf838d29306f4b7c884ded3ff7c9",
     "grade": true,
     "grade_id": "cell-2af3420af0a011c8",
     "locked": false,
     "points": 3,
     "schema_version": 1,
     "solution": true
    }
   },
   "outputs": [],
   "source": [
    "kappa12 = .68523 #kappa1 and kappa2 because they are equal\n",
    "kappa3 = 5363.27156 #kappa3\n",
    "mu12 = 78.1165430 #mu1 and mu2 because they are equal\n",
    "l0_12 = 4.2356 #l0_1 and l0_2 because they are equal\n",
    "l0_3 = 14.562 #l0_3\n",
    "theta12 = np.pi/6 #theta1 and theta2 because they are the same\n",
    "l_12 = mu12/kappa12/np.sin(theta12)+l0_12 #l1 and l2 because they are the same\n",
    "l3 = kappa12/kappa3*(l_12-l0_12)*np.cos(theta12)+l0_3 #l3\n",
    "theta3 = 0 \n",
    "\n",
    "y = np.array([l_12, l_12, l3, theta12, theta12, theta3])\n",
    "l0 = np.array([l0_12, l0_12, l0_3])\n",
    "kappa = np.array([kappa12, kappa12, kappa3])\n",
    "mu = np.array([mu12, mu12])\n",
    "\n",
    "test = static_conditions(y, l0, kappa, mu)\n",
    "assert(np.allclose(test, np.zeros_like(test)))"
   ]
  },
  {
   "cell_type": "markdown",
   "metadata": {},
   "source": [
    "#### Two Dimensional Test\n",
    "\n",
    "We next want to verify that our function runs for a two dimensional input for `y` but with the usual one dimensional inputs for all the other quantities.  Here we are just going to verify that it runs, not that the output is correct.  The following cell will do this.  Since the input is arbitrary, your output will not be an array of zeros, that is fine.  However, we are going to input a $(6,4)$ array for `y` and **must** get a $(6,4)$ array as output.  If this is not the case, then you have not written your `static_conditions` function in a vectorized form."
   ]
  },
  {
   "cell_type": "markdown",
   "metadata": {},
   "source": [
    "Test that your version of `static_condition` returns something for a two dimensional array, `y`, of shape $(6, N)$.  You can use arbitrary inputs for the other variables (most easily just one of your test cases from above).  For `y` just use arbitrary values, for example,\n",
    "```\n",
    "y = np.random.random(size=(6, 4))\n",
    "```\n",
    "The return value of `static_conditions` will not be zero, but that is fine.  We just want to see that it returns something with the same shape as `y`.  Again, we will spend more time talking about this next week and will learn why we need this!\n",
    "\n",
    "(*Note:* You can use `assert` here too if you like.  You can compare the shapes of the arrays by comparing `y.shape` to the shape of the output of your `static_conditions` function.)"
   ]
  },
  {
   "cell_type": "code",
   "execution_count": 11,
   "metadata": {
    "deletable": false,
    "nbgrader": {
     "checksum": "1fb9d1964a802990abd8b3a6d2af15a0",
     "grade": true,
     "grade_id": "cell-fd4ccf6b4be7f8e6",
     "locked": false,
     "points": 2,
     "schema_version": 1,
     "solution": true
    }
   },
   "outputs": [],
   "source": [
    "rand = np.random.random(size=(6, 4))\n",
    "test_2D = static_conditions(y, l0, kappa, mu)\n",
    "assert(y.shape == test_2D.shape)"
   ]
  },
  {
   "cell_type": "markdown",
   "metadata": {},
   "source": [
    "### Visualization\n",
    "\n",
    "As we have seen, a good way to display results is through a figure.  Here there is not a clear figure to draw so instead we will \"draw\" the system.  Matplotlib is not designed for drawing diagrams!  Even so, we can make a simple plot that will represent the positions of the masses and the springs which can help us catch obvious errors in our results.  We will use this more next lab.  For now we just want to write the function to make the figure.\n",
    "\n",
    "We will write a function that given the lengths and angles of the springs produces a plot showing the positions of the supports and masses as markers and springs as lines.  In this function you should **calculate all the positions**.  That is, let the leftmost support be at `(0,0)`.  From the input information calculate the positions of the masses **and the position of the final support**.  It may seem odd to do this, after all we *know* that the final support must be at `(1,0)`, so why calculate this?  By calculating it this does a couple of things.  Firstly, it allows us to display cases that do not satisfy our system of non-linear equations.  Secondly, it serves as a simple consistency check when are inputs do satisfy the system of non-linear equations.  Remember, part of the point of doing this is to test our results!"
   ]
  },
  {
   "cell_type": "markdown",
   "metadata": {},
   "source": [
    "Write a function to produce a visualization of mass-spring system as described above.  You function must be of the form\n",
    "```\n",
    "def visualize_system (lengths, angles) :\n",
    "```\n",
    "where `lengths` is an array containing the lengths of the springs in units of the separation, $d$, and `angles` is an array containing the angles of the springs in radians.  The orders in these arrays is the same as is labeled in the figure at the beginning of the lab.  Also draw a horiztonal line at the level of the supports (the ceiling).\n",
    "\n",
    "We are creating a simple visualization so this does not need to be a detailed figure, we can construct it using simple means."
   ]
  },
  {
   "cell_type": "code",
   "execution_count": 23,
   "metadata": {
    "deletable": false,
    "nbgrader": {
     "checksum": "b0f6804f80a6a8fe9539186611940487",
     "grade": true,
     "grade_id": "cell-3d55b9b35fc81b5c",
     "locked": false,
     "points": 4,
     "schema_version": 1,
     "solution": true
    }
   },
   "outputs": [],
   "source": [
    "def visualize_system (lengths, angles) :\n",
    "    \"\"\"Makes a plot to visualize the spirng mass system.\n",
    "    Parameters\n",
    "    ----------\n",
    "    lengths : a 3 element array of spring lengths\n",
    "        lengths[0] : length of spring 1\n",
    "        lengths[1] : length of spring 2\n",
    "        lengths[3] : length os spring 3\n",
    "    angles : a 3 element array of spring angles in radians\n",
    "        angles[0] : theta1 in the figure\n",
    "        angles[1] : theta2 in the figure\n",
    "        angles[2] : theta3 in the figure\"\"\"\n",
    "    x = np.zeros(lengths.size + 1)\n",
    "    y = x.copy()\n",
    "    x[1] = lengths[0]*np.cos(angles[0])\n",
    "    x[2] = x[1]+lengths[2]*np.cos(angles[2])\n",
    "    x[3] = x[2]+lengths[1]*np.cos(angles[1])\n",
    "    y[1] = -lengths[0]*np.sin(angles[0])\n",
    "    y[2] = y[1] + lengths[2]*np.sin(angles[2])\n",
    "    y[3] = y[2] + lengths[1]*np.sin(angles[1])\n",
    "    fig = plt.figure()\n",
    "    ax = fig.add_subplot(111)\n",
    "    ax.scatter(x, y)\n",
    "    ax.set_ylabel('Height')\n",
    "    ax.set_xlabel('Horizontal Displacement')\n",
    "    ax.set_title('Mass-Spring System Visualization')\n",
    "    return None"
   ]
  },
  {
   "cell_type": "markdown",
   "metadata": {},
   "source": [
    "Run your visualization function for one of your test cases.  The resulting figure must be what you expect!"
   ]
  },
  {
   "cell_type": "code",
   "execution_count": 27,
   "metadata": {
    "deletable": false,
    "nbgrader": {
     "checksum": "91fc590742e89bca3369804c2327b98e",
     "grade": true,
     "grade_id": "cell-88590ec55accd4a9",
     "locked": false,
     "points": 2,
     "schema_version": 1,
     "solution": true
    }
   },
   "outputs": [
    {
     "data": {
      "image/png": "[encoded data removed]",
      "text/plain": [
       "<Figure size 432x288 with 1 Axes>"
      ]
     },
     "metadata": {
      "needs_background": "light"
     },
     "output_type": "display_data"
    }
   ],
   "source": [
    "lengths = y[:3]\n",
    "angles = y[3:]\n",
    "visualize_system(lengths, angles)"
   ]
  },
  {
   "cell_type": "markdown",
   "metadata": {},
   "source": [
    "## Member Participation\n",
    "\n",
    "See Lab00 for instructions on turning in labs.  We will follow this procedure the entire semester.\n",
    "\n",
    "In the following cell enter the *Case ID* for each student in the group who partcipated in this lab.  Again, see Lab00 for more details.  It is expected that you have read and understood those details."
   ]
  },
  {
   "cell_type": "markdown",
   "metadata": {},
   "source": [
    "mrb175\n",
    "<br>\n",
    "kls188\n",
    "<br>\n",
    "gps32"
   ]
  }
 ],
 "metadata": {
  "anaconda-cloud": {},
  "authors": [
   {
    "name": "Craig J Copi",
    "semester": "Spring 2019"
   }
  ],
  "kernelspec": {
   "display_name": "Python 3",
   "language": "python",
   "name": "python3"
  },
  "language_info": {
   "codemirror_mode": {
    "name": "ipython",
    "version": 3
   },
   "file_extension": ".py",
   "mimetype": "text/x-python",
   "name": "python",
   "nbconvert_exporter": "python",
   "pygments_lexer": "ipython3",
   "version": "3.7.1"
  }
 },
 "nbformat": 4,
 "nbformat_minor": 2
}
