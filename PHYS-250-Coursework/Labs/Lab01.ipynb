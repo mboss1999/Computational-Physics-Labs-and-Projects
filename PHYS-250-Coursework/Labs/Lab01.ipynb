{
 "cells": [
  {
   "cell_type": "markdown",
   "metadata": {},
   "source": [
    "# Lab 01 : Root Finding"
   ]
  },
  {
   "cell_type": "markdown",
   "metadata": {},
   "source": [
    "#### Objectives\n",
    "\n",
    "The main objectives of this lab are as follows.\n",
    "\n",
    "- Learn that solving numerical problems requires a lot of analytic work too!  This is a necessary feature!  Computational techniques are an additional tool we use when solving problems, not a replacement for the analytic tools we already know.\n",
    "- Study root finding using functions from `scipy.optimize`.\n",
    "- Learn more about making good plots by creating our first real one!\n",
    "- Become more comfortable using the built-in documentation by always you looking up the documentation on new functions."
   ]
  },
  {
   "cell_type": "markdown",
   "metadata": {},
   "source": [
    "## Initialization"
   ]
  },
  {
   "cell_type": "markdown",
   "metadata": {},
   "source": [
    "Put all the initialization in the cell below.  This should include loading `numpy` and setting up plotting (loading the module and running `%matplotlib`).  It should also include loading `scipy.optimize`.\n",
    "\n",
    "###### Environment Initialization Code:"
   ]
  },
  {
   "cell_type": "code",
   "execution_count": 1,
   "metadata": {
    "deletable": false,
    "nbgrader": {
     "checksum": "2c5c1b960bdd26861b91b8a94a2afce3",
     "grade": true,
     "grade_id": "cell-5fc386b3780ea952",
     "locked": false,
     "points": 0,
     "schema_version": 1,
     "solution": true
    }
   },
   "outputs": [],
   "source": [
    "import numpy as np\n",
    "import matplotlib.pyplot as plt\n",
    "%matplotlib inline\n",
    "import scipy.optimize as opt"
   ]
  },
  {
   "cell_type": "markdown",
   "metadata": {},
   "source": [
    "## Problem Statement\n",
    "\n",
    "Here we will solve the following problem.  Consider a water hose with initial water velocity, $v$, aimed at an angle, $\\alpha$, with respect to the ground, targetting a fire a height, $h$, above the ground.  It can be shown that to hit the target the horizontal distance, $x$, between the nozzle and the fire satisfies the quadratic equation\n",
    "$$ \\frac{g}{2v^2\\cos^2\\alpha} x^2 - x \\tan\\alpha + h = 0. $$\n",
    "Our goal is to find the optimal angle, $\\alpha_O$, at which to aim the hose such that we hit the fire from the maximum distance away, $x_{\\mathrm{max}}$.\n",
    "\n",
    "Throughout this lab we will use $g=9.8\\;\\mathrm{m/s^2}$.\n",
    "\n",
    "(*Note:* \"It can be shown\" means that you know how to do this and should think about how you would do it, but you are not being asked to do it here.)"
   ]
  },
  {
   "cell_type": "markdown",
   "metadata": {},
   "source": [
    "## Preliminaries\n",
    "\n",
    "We have a problem and we are taking a course in computational physics so our first thought is probably to start typing away hoping that the computer will produce answers.  *This is the wrong approach!*  In fact, we need to spend a fair bit of time doing analytic work to\n",
    "1. manipulate the system to answer specific questions,\n",
    "2. turn these manipulations into a form the computer can handle,\n",
    "3. calculate simple cases to test the numerical results,\n",
    "4. deal with \"numerical issues\".\n",
    "\n",
    "To begin, the system described in the problem statement is a familiar one.  It really has nothing to do with the flow of water.  It is a topic studied extensively in introductory physics.  When solving numerical problems it is important to understand the physics of the system being studied.  This allows us to use our intuition to determine whether results produced by our codes make sense or not.  Remember that a computer does what we tell it to do, which is often not what we want it to do!  Thus we need to break our analysis down into small, understandable steps and constantly ask whether or not the results at each step make sense."
   ]
  },
  {
   "cell_type": "markdown",
   "metadata": {},
   "source": [
    "What well known physics topic is this problem really about? [*Note:* If it is not immediate obvious then come back to this question after working on some of the other parts.]"
   ]
  },
  {
   "cell_type": "markdown",
   "metadata": {
    "deletable": false,
    "nbgrader": {
     "checksum": "05e57b2679099ee0850b29f3e3ac65d9",
     "grade": true,
     "grade_id": "cell-5e843d36705066e0",
     "locked": false,
     "points": 1,
     "schema_version": 1,
     "solution": true
    }
   },
   "source": [
    "This physics problem is about optimization of the range of an object in projectile motion."
   ]
  },
  {
   "cell_type": "markdown",
   "metadata": {},
   "source": [
    "## Test Case\n",
    "\n",
    "As stated above, it is essential to have a test case (or preferably more than one) in mind whenever solving a problem.  You will see in future labs that you are first asked to solve a known case before applying your technique to unknown cases which cannot be solved analytically.  Though correctly solving a simpler problem is not a guarantee that your technique will work for more complicated problems, at least it gives you some confidence.  On the other hand, if your technique does not work for a simple problem, there is no reason to believe it works for a complicated one!\n",
    "\n",
    "Here we will start with the simple case of starting and ending at the same height, $h=0$.  This is a problem you have solved before!"
   ]
  },
  {
   "cell_type": "markdown",
   "metadata": {},
   "source": [
    "For $h=0$, state the optimal angle, $\\alpha_O$, that leads to the maximum distance the water travels, $x_{\\mathrm{max}}$.  Also calculate $x_{\\mathrm{max}}$.  Specify your answers below.  (*Note:* As you have seen in notebooks, we can insert full documentation including nicely formatted equations using $\\LaTeX$.  You are not expected to do that yet.  We will learn more about formating equations in the future.  For now just make sure your answers can be clearly understood.)"
   ]
  },
  {
   "cell_type": "markdown",
   "metadata": {
    "deletable": false,
    "nbgrader": {
     "checksum": "9adbf14db95ef564a1c91f1b97843bb7",
     "grade": true,
     "grade_id": "cell-262b3a0188a5e2f5",
     "locked": false,
     "points": 1,
     "schema_version": 1,
     "solution": true
    }
   },
   "source": [
    "The first step is to find an equation for $x$ in terms of $\\alpha$:\n",
    "\n",
    "$$ x = \\frac{v^2\\sin2\\alpha}{g} $$\n",
    "\n",
    "We can then take the derivative of this function with respect to $\\alpha$, which gives\n",
    "\n",
    "$$ \\frac{dx}{d\\alpha} = \\frac{2v^2\\cos2\\alpha}{g} $$\n",
    "\n",
    "The roots of this function, $\\frac{dx}{d\\alpha} = 0$, give us the $\\alpha$ values for the minimum and maximum values of $x$:\n",
    "\n",
    "$$ 0 = \\frac{2v^2\\cos2\\alpha}{g} $$\n",
    "\n",
    "Solving gives\n",
    "\n",
    "$$ \\cos2\\alpha = 0 $$\n",
    "\n",
    "and so\n",
    "\n",
    "$$ \\alpha_O = \\frac{\\pi}{4}$$\n",
    "\n",
    "Plugging $\\alpha_O$ into the original equation returns $x_{\\mathrm{max}} = \\frac{v^2}{g}$"
   ]
  },
  {
   "cell_type": "markdown",
   "metadata": {},
   "source": [
    "## Solving the Problem\n",
    "\n",
    "We are now ready to think about the general problem.  We will begin by *analytically* solving the quadratic equation for $x(\\alpha)$.  Even this simple step is fraught with danger.  If we blindly apply the solution we know to quadratic equations we will encounter a problem."
   ]
  },
  {
   "cell_type": "markdown",
   "metadata": {},
   "source": [
    "Naively solving the quadratic equation would give us terms in the solution that include contributions proportional to $1/\\cos^2\\alpha$.  Numerically, why is having $\\cos\\alpha$ in the denominator a problem?  What would happen if we try to evaluate such a term for all values of the angle with $0\\le\\alpha\\le\\pi$?"
   ]
  },
  {
   "cell_type": "markdown",
   "metadata": {
    "deletable": false,
    "nbgrader": {
     "checksum": "bbfe28fc1eb00d0c43a9cebdc2ae4e92",
     "grade": true,
     "grade_id": "cell-1b1b9b06b59a2912",
     "locked": false,
     "points": 1,
     "schema_version": 1,
     "solution": true
    }
   },
   "source": [
    "At $\\alpha = \\frac{\\pi}{2}$ we would either have to divide by zero, or a number very close to zero, which would blow up our equation to an incredibly large number."
   ]
  },
  {
   "cell_type": "markdown",
   "metadata": {},
   "source": [
    "To deal with the problem noted above it is probably best to multiply the quadratic equation by $\\cos^2\\alpha$ and use that as our base equation.  In fact, we can go further than this.  It may be more elegant to rewrite the equation in terms of $\\sin(2\\alpha)$ and $\\cos(2\\alpha)$ using double angle formulas.  Or it may not!  How far we go in manipulating the equations analytically is up to us and is a balance between wanting to have simple, easy to read and implement equations, and minimizing the amount of time we spend manipulating an equation that is going to be solved numerically anyway."
   ]
  },
  {
   "cell_type": "markdown",
   "metadata": {},
   "source": [
    "Analytically solve the quadratic equation, modified as discussed above, for $x(\\alpha)$ and write it in a form that can be evaluated numerically.  Since we have yet to discuss how to typeset such equations, we will instead only define it as a function.  Define a function that given $\\alpha$, $h$, and $v$, returns the solution.  Of course, since we are solving a quadratic equation we know there are two solutions.  To account for this, write a function based on the template\n",
    "```\n",
    "def xalpha(alpha, h, v, sgn=+1):\n",
    "``` \n",
    "\n",
    "Here `sgn` refers to the \"$\\pm$\" that appears in the solution to a quadratic equation.  By default we choose the \"$+$\" solution, but can get the \"$-$\" solution by passing in `-1`.\n",
    "\n",
    "Further, this function should be used by a human.  As a human we typically express angles in degrees.  This is not how a computer expresses angles, it wants radians (see the documentation for the sine function).  Your function should accept `alpha` in degrees.\n",
    "\n",
    "Finally, any non-trivial function must have documentation!  Here you are given the documentation, make sure your function is consistent with it!  In the future you must provide this information yourself.  The general idea is that when you come back and look at this function in a week or month or ... will you immediately be able to tell what it is doing without having to go through the whole lab again?"
   ]
  },
  {
   "cell_type": "code",
   "execution_count": 2,
   "metadata": {
    "deletable": false,
    "nbgrader": {
     "checksum": "03515b0686e9986ffc8078b8c84a6336",
     "grade": true,
     "grade_id": "cell-a79bbb035b69c396",
     "locked": false,
     "points": 3,
     "schema_version": 1,
     "solution": true
    }
   },
   "outputs": [],
   "source": [
    "def xalpha(alpha, h, v, sgn=+1) :\n",
    "    \"\"\"Distance as a function of angle, alpha, to hit a target at height h.\n",
    "    alpha : angle expressed in degrees,\n",
    "    h : height of target in meters,\n",
    "    v : speed of water in m/s,\n",
    "    sgn : +1 or -1, determines which solution of the quadratic equation to calculate.\n",
    "    \"\"\"\n",
    "    alpha = alpha*np.pi/180\n",
    "    coef = 1/(2*9.81)\n",
    "    term_1 = v**2*np.sin(2*alpha)\n",
    "    term_2 = np.sqrt(v**4*np.sin(2*alpha)**2-v**2*8*9.81*np.cos(alpha)**2*h)\n",
    "    return coef*(term_1+sgn*term_2)"
   ]
  },
  {
   "cell_type": "markdown",
   "metadata": {},
   "source": [
    "To test your function, print the two solutions for $h=0$ along with the expected results.  These must agree!  If they do not, go back and figure out why not! (*Note:* You were not told $v$, why not?  What should you do in this case?)"
   ]
  },
  {
   "cell_type": "code",
   "execution_count": 3,
   "metadata": {
    "deletable": false,
    "nbgrader": {
     "checksum": "decfedb1ba8f9c61c1741ca5602b73d5",
     "grade": true,
     "grade_id": "cell-ec9cc02cded06d5f",
     "locked": false,
     "points": 2,
     "schema_version": 1,
     "solution": true
    }
   },
   "outputs": [
    {
     "name": "stdout",
     "output_type": "stream",
     "text": [
      "16.0 expected 16.0\n",
      "0.0 expected 0\n",
      "9.000000000000002 expected 9.000000000000002\n",
      "0.0 expected 0\n",
      "4.0 expected 4.0\n",
      "0.0 expected 0\n",
      "1.0 expected 1.0\n",
      "0.0 expected 0\n",
      "0.0 expected 0.0\n",
      "0.0 expected 0\n",
      "1.0 expected 1.0\n",
      "0.0 expected 0\n",
      "4.0 expected 4.0\n",
      "0.0 expected 0\n",
      "9.000000000000002 expected 9.000000000000002\n",
      "0.0 expected 0\n",
      "16.0 expected 16.0\n",
      "0.0 expected 0\n"
     ]
    }
   ],
   "source": [
    "## If we are not told v, we should just pick a value, but make sure to stay consistent between the test and the expectation.\n",
    "## Here I have defined v outside of the functions to ensure they are using the same value.\n",
    "v_array = [-4,-3,-2,-1,0,1,2,3,4]\n",
    "for v in v_array:\n",
    "    v = np.sqrt(9.81)*v\n",
    "    print(xalpha(45,0,v),'expected',v**2 / 9.81)\n",
    "    print(xalpha(45,0,v,-1),'expected',0)"
   ]
  },
  {
   "cell_type": "markdown",
   "metadata": {},
   "source": [
    "Finally, we want to find the optimal angle.  We know that we can find extrema using derivatives.  In particular here we wish to find $\\alpha_O$ such that\n",
    "$$ \\left. \\frac{\\mathrm{d}x}{\\mathrm{d}\\alpha} \\right|_{\\alpha=\\alpha_O} = 0. $$\n",
    "\n",
    "Since we just solved for $x(\\alpha)$ our first thought might be take the derivative of it with respect to $\\alpha$.  *Do not do this!*  That is quite painful, there must be an easier way.  Just because we are doing some manipulations analytically that does not mean we need to do them in the most difficult way.  A much simpler approach is to *implicitly differentiate* the original quadratic equation using the fact that the derivative of $x$ with respect to $\\alpha$ when evaluated at $\\alpha_O$ is zero.  Actually, we should differentiate the modified form of the quadratic equation used above to solve for $x(\\alpha)$ (the one without the $\\cos\\alpha$ in the denominator).  Do so to find an equation of the form $f(\\alpha_O)=0$ which can be solved using a root finder.  Note that you will also have $x(\\alpha_O)$ appearing in your equation.  This is fine, and actually preferred.  Such an equation is easy for us to understand.  It is also easy for the computer since we have already defined a function for $x(\\alpha)$."
   ]
  },
  {
   "cell_type": "markdown",
   "metadata": {},
   "source": [
    "Calculate an equation of the form $f(\\alpha_O)=0$ that can be solved to find the optimal angle $\\alpha_O$.  Define the function $f(\\alpha_O)$ of the form\n",
    "```\n",
    "def optimal_alpha(alpha, h, v, sgn=+1) :\n",
    "```\n",
    "similar to `xalpha` defined above.  Make sure you write it in a form that works for all allowed values of `alpha`.\n",
    "Finally, do not forget to document your function."
   ]
  },
  {
   "cell_type": "code",
   "execution_count": 4,
   "metadata": {
    "deletable": false,
    "nbgrader": {
     "checksum": "9c9a97dc2c6af60d416437cdfa772b46",
     "grade": true,
     "grade_id": "cell-55265c609a617099",
     "locked": false,
     "points": 5,
     "schema_version": 1,
     "solution": true
    }
   },
   "outputs": [],
   "source": [
    "def optimal_alpha(alpha, h, v, sgn=+1) :\n",
    "    \"\"\"Derivative of horizontal distance with respect to angle as a function of angle, initial velocity,\n",
    "    and height.\n",
    "    alpha : angle expressed in degrees,\n",
    "    h : height of target in meters,\n",
    "    v : speed of water in m/s,\n",
    "    sgn : +1 or -1, determines which solution of the quadratic equation to calculate.\n",
    "    \"\"\"\n",
    "    alpha_rad = alpha*np.pi/180\n",
    "    numerator = np.cos(2*alpha_rad)*xalpha(alpha,h,v,sgn)+np.sin(2*alpha_rad)*h\n",
    "    denominator = 2*9.81*xalpha(alpha,h,v,sgn)+v**2*np.sin(2*alpha_rad)\n",
    "    return 2*v**2*numerator/denominator"
   ]
  },
  {
   "cell_type": "markdown",
   "metadata": {},
   "source": [
    "Verify your function `optimal_alpha` works by numerically finding the optimal angle when $h=0$.  Print your result along with the expected one.  Again, these **must agree**."
   ]
  },
  {
   "cell_type": "code",
   "execution_count": 5,
   "metadata": {
    "deletable": false,
    "nbgrader": {
     "checksum": "2922325147ba9370d89931abcc66dea9",
     "grade": true,
     "grade_id": "cell-a1f542abfe86e217",
     "locked": false,
     "points": 3,
     "schema_version": 1,
     "solution": true
    }
   },
   "outputs": [
    {
     "name": "stdout",
     "output_type": "stream",
     "text": [
      "45.0 expected 45\n"
     ]
    }
   ],
   "source": [
    "print(opt.brentq(optimal_alpha,10**(-5),90,(0,234234.332)),'expected 45')"
   ]
  },
  {
   "cell_type": "markdown",
   "metadata": {},
   "source": [
    "## Application\n",
    "\n",
    "Now that we have code that works for a known case, let us apply it to another case.  Suppose we wish to put out a fire a height $13.5\\;\\mathrm{m}$ above a nozzle that outputs water with a speed of $20\\;\\mathrm{m/s}$. "
   ]
  },
  {
   "cell_type": "markdown",
   "metadata": {},
   "source": [
    "Let us first see what $x(\\alpha)$ looks like.  Produce a quick plot of $x(\\alpha)$ for $0\\le\\alpha\\le 180$ in degrees.  Include both solutions in the plot."
   ]
  },
  {
   "cell_type": "code",
   "execution_count": 6,
   "metadata": {
    "deletable": false,
    "nbgrader": {
     "checksum": "4e3708340dd93fdb50ed9d9b98387c10",
     "grade": true,
     "grade_id": "cell-c9687af2c03389f4",
     "locked": false,
     "points": 3,
     "schema_version": 1,
     "solution": true
    }
   },
   "outputs": [
    {
     "name": "stderr",
     "output_type": "stream",
     "text": [
      "C:\\Users\\mboss\\Anaconda3\\lib\\site-packages\\ipykernel_launcher.py:11: RuntimeWarning: invalid value encountered in sqrt\n",
      "  # This is added back by InteractiveShellApp.init_path()\n"
     ]
    },
    {
     "data": {
      "image/png": "[encoded data removed]",
      "text/plain": [
       "<Figure size 432x288 with 1 Axes>"
      ]
     },
     "metadata": {
      "needs_background": "light"
     },
     "output_type": "display_data"
    }
   ],
   "source": [
    "fig = plt.figure()\n",
    "ax = fig.add_subplot(111)\n",
    "ax.axhline(0,color='black',linewidth=1)\n",
    "alpha = np.linspace(0,180,10**7)\n",
    "ax.plot(alpha,xalpha(alpha,13.5,20,sgn=1))\n",
    "ax.set_ylabel(r'x')\n",
    "ax.set_xlabel(r'$\\alpha$')\n",
    "ax.set_title(r'x vs $\\alpha$')\n",
    "ax.minorticks_on()"
   ]
  },
  {
   "cell_type": "markdown",
   "metadata": {},
   "source": [
    "This was a nice idea, but now we need to understand what just happened.  Firstly, you probably received a warning message before the plot was created.  Secondly, the plot does not run over the full range of angles we specified.  Thirdly, there are negative distances!  We need to fully understand and explain this plot before we can really trust our code.  If things do not make sense then there is a good chance we have something wrong in the code.  Note that \"understand\" and \"explain\" means both numerically and physically.  After all, we are solving a physical problem!"
   ]
  },
  {
   "cell_type": "markdown",
   "metadata": {},
   "source": [
    "Assuming there was one, explain the source of the warning message (just because it is only a warning that does not mean we can ignore it), why the plot does not extend over the full range of angles, and why the distance changes sign when $\\alpha>90^\\circ$.  Finally, which solution produces the maximum distance over the angles of interest, when `sgn=+1` or when `sgn=-1`?"
   ]
  },
  {
   "cell_type": "markdown",
   "metadata": {
    "deletable": false,
    "nbgrader": {
     "checksum": "6a3e257b254224fdc2054cfade171f39",
     "grade": true,
     "grade_id": "cell-35627fbddc36cf74",
     "locked": false,
     "points": 5,
     "schema_version": 1,
     "solution": true
    }
   },
   "source": [
    "The plot does not extend over the full range of angles because the vertical height cannot be reached at certain angles. Numerically, this results from a negative discriminant. The way $x(\\alpha)$ was defined this occurs when\n",
    "$$\\alpha<\\arcsin\\sqrt\\frac{2gh}{v^2}$$\n",
    "or\n",
    "$$\\alpha>180^\\circ-\\arcsin\\sqrt\\frac{2gh}{v^2}$$\n",
    "These threhold values were $54^\\circ$ and $126^\\circ$ for this example. The distance changes sign when $\\alpha>90^\\circ$ because the water is now sprayed in the opposite direction. Theses results are non-physical because the water will never reach the height when it is sprayed in the wrong direction. Numerically, this occurs because the sign of $\\sin2\\alpha$ changes at $90^\\circ$ and $x(\\alpha)$ is defined as\n",
    "$$x(\\alpha)=\\frac{1}{2g}(v^2\\sin2\\alpha\\pm\\sqrt{v^4\\sin^22\\alpha-8v^2gh\\cos^2\\alpha})$$\n",
    "Both solutions, when `sgn=+1` or when `sgn=-1`, produce the same maximum distance, but the displacements associated with these distances are in opposite directions. Physically, this occurs because the placement of the height for the water to reach moves from one side of the fire hose to the other when `sgn=+1` or `sgn=-1`. Numerically this occurs because the maximum value of horizontal displacement happens when the sign of the two terms in $x(\\alpha)$ are the same.  "
   ]
  },
  {
   "cell_type": "markdown",
   "metadata": {},
   "source": [
    "Calculate and print the minimum angle $\\alpha_{\\mathrm{min}}$.  Also store this value as we will use it later.  (Recall that we prefer to see angles in degrees, but the computer does not.  We should always print values in human readable forms and should always print out units.)"
   ]
  },
  {
   "cell_type": "code",
   "execution_count": 7,
   "metadata": {
    "deletable": false,
    "nbgrader": {
     "checksum": "191ec7febbef5cb5bb1eef2942e24970",
     "grade": true,
     "grade_id": "cell-08a5d252bcaf0dfd",
     "locked": false,
     "points": 4,
     "schema_version": 1,
     "solution": true
    }
   },
   "outputs": [
    {
     "name": "stdout",
     "output_type": "stream",
     "text": [
      "54.463099797223 degrees\n"
     ]
    }
   ],
   "source": [
    "alpha_min = np.arcsin(np.sqrt(2*9.81*13.5/(20**2)))\n",
    "alpha_min = alpha_min*180/np.pi\n",
    "print(alpha_min,'degrees')"
   ]
  },
  {
   "cell_type": "markdown",
   "metadata": {},
   "source": [
    "**Finally** calculate the optimal angle, $\\alpha_O$.  Print this angle and the value of the maximum distance.  Once again, save this angle as we will need it again. (Once again we should print the angle in degrees and include units on all output values.)"
   ]
  },
  {
   "cell_type": "code",
   "execution_count": 8,
   "metadata": {
    "deletable": false,
    "nbgrader": {
     "checksum": "cad743f88d9913fff281fb7703673b61",
     "grade": true,
     "grade_id": "cell-ff47182fe783d9d7",
     "locked": false,
     "points": 4,
     "schema_version": 1,
     "solution": true
    }
   },
   "outputs": [
    {
     "name": "stdout",
     "output_type": "stream",
     "text": [
      "The optimal angle is 59.83368298584047 degrees and the maximum distance is 23.699374111661573 meters\n"
     ]
    }
   ],
   "source": [
    "alpha_opt = opt.brentq(optimal_alpha,59,70,args=(13.5,20))\n",
    "x_max = xalpha(alpha_opt,13.5,20)\n",
    "print('The optimal angle is',alpha_opt,\"degrees\",'and the maximum distance is',x_max,'meters')"
   ]
  },
  {
   "cell_type": "markdown",
   "metadata": {},
   "source": [
    "## Plot\n",
    "\n",
    "To confirm our results we are going to create our first quality plot.  For this we will piece together things learned in PreLab01 and Lab00 along with some new rules.  You should review what we have already learned as we will build on those now.  In particular, the code for generating plots using figures and axes discussed in PreLab01 must be used."
   ]
  },
  {
   "cell_type": "markdown",
   "metadata": {},
   "source": [
    "Here are some general rules to follow.  There are, of course, exceptions to these suggestions but in general they should be followed:\n",
    "\n",
    "1. Each line in a figure should be distinct and easily recognizable.  This means using different colors, styles, or both.  Just changing colors is typically **not sufficient**.  It is still the case that many publications are printed in black and white; further, about 7-10 percent of people are (red-green) color blind.  In matplotlib the `plot` function provides many options for changing the look of lines and markers.  When you look at the documentation the most basic way of calling plot that allows changes is to include a format specifier.  For example `plot(x, y, ‘k-’)` will plot a solid, black line.  For purely online plots using different colors is often sufficient, though will be less useful for color blind readers.  If the plot may appear in print then it will most likely appear in black and white.  Thus it is best to use different line styles in addition to changing color.  For example, specifying the format `r--` will produce a dashed, red line.\n",
    "2. Each line in a figure should be labeled.  This can be done using the `label` keyword.  It should provide a short description of what the line represents.  The label is used to create a legend in the figure.  This can be included by, not surprisingly, using the `legend` function.\n",
    "3. All figures must include labels on the axes and a title.  Any figure that is not a \"quick plot\" that you create for a lab must have these!  In general it is a good idea to include them in any figure you end up saving as an image file.  When you later come back and wonder what this file is, having clear labels and legends will help.\n",
    "4. There are many other things that can be done to polish figures.  We have already discussed using `minorticks_on`.  Another minor polishing is that I often find the default line thickness to be too small.  This can be changed using the `linewidth` or `lw` keyword to `plot`."
   ]
  },
  {
   "cell_type": "markdown",
   "metadata": {},
   "source": [
    "With this advice in mind create a single plot containing both solutions of $x(\\alpha)$ for $\\alpha_{\\mathrm{min}}\\le\\alpha\\le 90^\\circ$.  In this plot include a vertical line at $\\alpha_O$ and a horizontal line at $x(\\alpha_O)$."
   ]
  },
  {
   "cell_type": "code",
   "execution_count": 9,
   "metadata": {
    "deletable": false,
    "nbgrader": {
     "checksum": "e15d539ebbe7c24a21c56db6b7f6afd9",
     "grade": true,
     "grade_id": "cell-116448b644d1874b",
     "locked": false,
     "points": 8,
     "schema_version": 1,
     "solution": true
    }
   },
   "outputs": [
    {
     "data": {
      "image/png": "[encoded data removed]",
      "text/plain": [
       "<Figure size 432x288 with 1 Axes>"
      ]
     },
     "metadata": {
      "needs_background": "light"
     },
     "output_type": "display_data"
    }
   ],
   "source": [
    "fig = plt.figure()\n",
    "ax = fig.add_subplot(111)\n",
    "ax.axhline(0,color='black',linewidth=1)\n",
    "alpha = np.linspace(54.46309979723,90,10**7)\n",
    "ax.plot(alpha,xalpha(alpha,13.5,20,sgn=1),label='sgn=1',linewidth=1.5)\n",
    "#alpha = np.linspace(180-52.94400600734982,90,10**7)\n",
    "ax.plot(alpha,xalpha(alpha,13.5,20,sgn=-1),label='sgn=-1',linestyle='--',linewidth=1.5)\n",
    "ax.set_ylabel(r'$x(\\alpha)$')\n",
    "ax.set_xlabel(r'$\\alpha$')\n",
    "ax.set_title(r'$x(\\alpha) vs \\alpha$')\n",
    "ax.legend()\n",
    "ax.minorticks_on()"
   ]
  },
  {
   "cell_type": "markdown",
   "metadata": {},
   "source": [
    "### Rant\n",
    "\n",
    "Producing quality figures is somewhat subjective.  Even so, the number of very low quality plots found in articles submitted for publication is appalling.  Bad figures are easy to spot and it is also easy to avoid making them.  This is particularly true when we use tools with good defaults, like matplotlib.\n",
    "\n",
    "Or at least mostly good defaults.  A recent change that I completely disagree with for scientific figures is how tick marks are now handled.  In your figure you should see that tick marks point outward from the plotting region and they only appear on the left and bottom axes.  Though I greatly prefer them pointing inward, one could argue that this is a matter of taste.\n",
    "\n",
    "On the other hand, not having tick marks on the right and top axes is atrocious (to put it mildly).  In a scientific figure we are typically interested in the behavior of what we are plotting over the full range of the plot.  Thus we want to be able to read off values of curves even if they are near the top or righthand side of the plot.  Without tick marks on these axes this is extremely difficult, it makes reading plots much harder.  I do not know the rationale for this change.\n",
    "\n",
    "Due to this I will always change the behavior (back to that in previous versions of matplotlib).  Fortunately, matplotlib allows you to control everything.  There are a few ways to do this.  I will use the `rc` interface for achieving my desired look.  This globally changes the behavior for all plots.  In all subsequent notebooks you will see the extra boilerplate to set up my preferences:\n",
    "```\n",
    "import matplotlib as mpl\n",
    "mpl.rc('xtick', direction='in', top=True)\n",
    "mpl.rc('ytick', direction='in', right=True)\n",
    "```\n",
    "I also almost always want the minor ticks turned on.  For now I will continue to do this on a plot by plot basis but that may also change.\n",
    "\n",
    "As this is somewhat a matter of taste, it will not be enforced.  However, I would encourage you to this about this and other choices whenever you produce a figure.  There are other default behaviors that could also be changed to improve plot quality.\n",
    "\n",
    "#### Online Figures\n",
    "\n",
    "The discussion above and preferences I choose are based on the idea that a figure is going to appear in print.  More and more often these days that is not the case.  Further, a notebook is an \"online\" document so maybe it does not need to be treated like a \"print\" document.  Many styles designed for online viewing are in common use (particulary in data science it seems).  Matplotlib makes it fairly easy to select such a style for all plots and could be included in your \"boiler plate\".  I will leave it to you to find out more about this if you are interested ....  Regardless, the style of your plots must be such that for any feature that would appear in the upper portion and/or righthand side of the plot, we can easily read off its $x$ and $y$ values without having to imprecisely trace \"by hand\" or \"by eye\" across the figure to tick marks far from the feature."
   ]
  },
  {
   "cell_type": "markdown",
   "metadata": {},
   "source": [
    "## Member Participation\n",
    "\n",
    "See Lab00 for instructions on turning in labs.  We will follow this procedure the entire semester.\n",
    "\n",
    "In the following cell enter the *Case ID* for each student in the group who partcipated in this lab.  Again, see Lab00 for more details.  It is expected that you have read and understood those details."
   ]
  },
  {
   "cell_type": "markdown",
   "metadata": {},
   "source": [
    "mrb175\n",
    "<br>\n",
    "gbs32\n",
    "<br>\n",
    "kls188"
   ]
  }
 ],
 "metadata": {
  "anaconda-cloud": {},
  "authors": [
   {
    "name": "Craig J Copi",
    "semester": "Spring 2019"
   }
  ],
  "kernelspec": {
   "display_name": "Python 3",
   "language": "python",
   "name": "python3"
  },
  "language_info": {
   "codemirror_mode": {
    "name": "ipython",
    "version": 3
   },
   "file_extension": ".py",
   "mimetype": "text/x-python",
   "name": "python",
   "nbconvert_exporter": "python",
   "pygments_lexer": "ipython3",
   "version": "3.7.1"
  }
 },
 "nbformat": 4,
 "nbformat_minor": 2
}
