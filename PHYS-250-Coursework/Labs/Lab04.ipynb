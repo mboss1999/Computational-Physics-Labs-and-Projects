{
 "cells": [
  {
   "cell_type": "markdown",
   "metadata": {},
   "source": [
    "# Lab 04 : Numerical Integration"
   ]
  },
  {
   "cell_type": "markdown",
   "metadata": {},
   "source": [
    "## Objectives\n",
    "\n",
    "In this lab we will study the extremely powerful integration routine provided for us in `scipy.integrate.quad`.  Despite being extremely powerful, we can make it even better by performing mathematical transformations of the integrals we wish to evaluate.   **This lab is an extension of the analytic work performed in Homework 04, Problem 1 and relies on some of those results.**\n",
    "\n",
    "We will study the simple pendulum.  Despite being \"simple\", recall from introductory physics that we can only solve for the motion of small amplitude oscillations.   Here we will study the full motion of the pendulum."
   ]
  },
  {
   "cell_type": "markdown",
   "metadata": {},
   "source": [
    "## Initialization"
   ]
  },
  {
   "cell_type": "markdown",
   "metadata": {},
   "source": [
    "You can mostly just run the following and ignore the details.  This is some magic required to get equation numbering and referencing working (another of the many great features of $\\LaTeX$).  **You need to run this cell to get equations numbered and labels to work.**  You also need to rerun this cell anytime you need to rerender the numbered equations found below.  It shows how other languages can be included in a Jupyter notebook.  In this case it is javascript, but C, FORTRAN, and many other languages could be included in a similar manner."
   ]
  },
  {
   "cell_type": "code",
   "execution_count": 1,
   "metadata": {},
   "outputs": [
    {
     "data": {
      "application/javascript": [
       "// Turn on automatic equations numbers and allow for equation labeling and referencing.\n",
       "MathJax.Hub.Config({\n",
       "  TeX: { equationNumbers: { autoNumber: \"AMS\" } }\n",
       "});\n",
       "// The following reprocesses/renumbers the equations when executed.  When cells with numbered equations are reprocessed\n",
       "// the equation number keeps incrementing.  When numbered equations have labels an error occurs and the equation does not\n",
       "// actually get rendered.  Rerun this cell to reset the equation numbers and render all the equations in the document.\n",
       "MathJax.Hub.Queue(\n",
       "    [\"resetEquationNumbers\",MathJax.InputJax.TeX],\n",
       "    [\"PreProcess\",MathJax.Hub], \n",
       "    [\"Reprocess\",MathJax.Hub]\n",
       ");\n"
      ],
      "text/plain": [
       "<IPython.core.display.Javascript object>"
      ]
     },
     "metadata": {},
     "output_type": "display_data"
    }
   ],
   "source": [
    "%%javascript\n",
    "// Turn on automatic equations numbers and allow for equation labeling and referencing.\n",
    "MathJax.Hub.Config({\n",
    "  TeX: { equationNumbers: { autoNumber: \"AMS\" } }\n",
    "});\n",
    "// The following reprocesses/renumbers the equations when executed.  When cells with numbered equations are reprocessed\n",
    "// the equation number keeps incrementing.  When numbered equations have labels an error occurs and the equation does not\n",
    "// actually get rendered.  Rerun this cell to reset the equation numbers and render all the equations in the document.\n",
    "MathJax.Hub.Queue(\n",
    "    [\"resetEquationNumbers\",MathJax.InputJax.TeX],\n",
    "    [\"PreProcess\",MathJax.Hub], \n",
    "    [\"Reprocess\",MathJax.Hub]\n",
    ");"
   ]
  },
  {
   "cell_type": "markdown",
   "metadata": {},
   "source": [
    "As always initialize, your environment now by loading all modules required and setting up the plotting environment. "
   ]
  },
  {
   "cell_type": "code",
   "execution_count": 2,
   "metadata": {
    "deletable": false,
    "nbgrader": {
     "checksum": "d81ee7940ecdd9271d351db1a5c6aece",
     "grade": true,
     "grade_id": "cell-e619b145e7bb29a5",
     "locked": false,
     "points": 0,
     "schema_version": 1,
     "solution": true
    }
   },
   "outputs": [],
   "source": [
    "import numpy as np\n",
    "import matplotlib.pyplot as plt\n",
    "%matplotlib inline\n",
    "import scipy.optimize as opt\n",
    "import scipy.interpolate as interp\n",
    "import scipy.special as sf\n",
    "import matplotlib as mpl\n",
    "mpl.rc('xtick', direction='in', top=True)\n",
    "mpl.rc('ytick', direction='in', right=True)\n",
    "mpl.rc('xtick.minor', visible=True)\n",
    "mpl.rc('ytick.minor', visible=True)\n",
    "import scipy.integrate as integ"
   ]
  },
  {
   "cell_type": "markdown",
   "metadata": {},
   "source": [
    "## Pendulum Motion\n",
    "\n",
    "As seen in the homework, the period of the oscillations of a pendulum can be written in a few equivalent forms: \n",
    "\\begin{align}\n",
    "\\frac{T(\\theta_m)}{T_0} & = \\frac{\\sqrt 2}{\\pi} \\int_0^{\\theta_m} \\frac{\\mathrm{d}\\theta}{\\sqrt{\\cos\\theta-\\cos\\theta_m}}, \\label{eq:period1} \\\\\n",
    " & = \\frac{2}{\\pi} \\int_0^{\\pi/2} \\frac{\\mathrm{d}\\psi}{\\sqrt{1-\\sin^2(\\theta_m/2)\\sin^2\\psi}}, \\label{eq:period2} \\\\\n",
    " & = 1 + \\sum_{n=1}^\\infty a_{2n} \\sin^{2n}(\\theta_m/2). \\label{eq:periodsum}\n",
    "\\end{align}\n",
    "For the series form, you have calculated the values of the coefficients up to $a_8$.  We will explore all of these forms in this lab."
   ]
  },
  {
   "cell_type": "markdown",
   "metadata": {},
   "source": [
    "### Period Calculations"
   ]
  },
  {
   "cell_type": "markdown",
   "metadata": {},
   "source": [
    "Calculate the period using the three expressions above for $\\theta_m$ on a grid from 1 to 179 degrees in steps of 1 degree.  For the two integrals $(\\ref{eq:period1})$ and $(\\ref{eq:period2})$ we cannot avoid writing a loop since `quad` cannot compute many integrals at once.  (In the future we will learn that there is a way to get NumPy to create the loop for us so that we do not need to explicitly write it ourselves.)  For the series $(\\ref{eq:periodsum})$ we *could* avoid writing a loop, but we have not learned how and since we already need to write one loop we may as well use it for this case also.  As seen in the example this week, when we do need to write our own loops it is best to preallocate storage space for the results using `np.zeros` or `np.zeros_like`.\n",
    "\n",
    "Also produce a figure showing the period calculated from the three methods as a function of the pendulum amplitude."
   ]
  },
  {
   "cell_type": "code",
   "execution_count": 3,
   "metadata": {
    "deletable": false,
    "nbgrader": {
     "checksum": "7062234069dba6bf8c72fe60b106d937",
     "grade": true,
     "grade_id": "cell-cc686d2ba2511819",
     "locked": false,
     "points": 20,
     "schema_version": 1,
     "solution": true
    }
   },
   "outputs": [
    {
     "data": {
      "image/png": "[encoded data removed]",
      "text/plain": [
       "<Figure size 432x288 with 1 Axes>"
      ]
     },
     "metadata": {
      "needs_background": "light"
     },
     "output_type": "display_data"
    }
   ],
   "source": [
    "#Make finely spaced array\n",
    "theta_m = np.arange(1, 180, 1) #degrees\n",
    "\n",
    "#Make functions to be integrated\n",
    "def integrand1(theta, angle_m) :\n",
    "    '''Returns the reciprocal of the square root of the cosine of theta minus\n",
    "    the cosine of angle_m.\n",
    "    Parameters\n",
    "    ----------\n",
    "    theta : an integration variables in radians\n",
    "    angle_m : the maximum angle in radians'''\n",
    "    return 1 / np.sqrt(np.cos(theta) - np.cos(angle_m))\n",
    "def integrand2(psi, angle_m) :\n",
    "    '''Returns the reciprocal of the square root of one minus the sine of half of \n",
    "    theta_m squared time the sine of psi squared.\n",
    "    Parameters\n",
    "    ----------\n",
    "    psi : an integration variable in radians\n",
    "    angle_m : the maximum angle in radians'''\n",
    "    return 1 / np.sqrt(1 - np.sin(angle_m / 2) ** 2 * np.sin(psi) ** 2)\n",
    "\n",
    "#Make three functions for calculating the period\n",
    "def per1(angle_m) :\n",
    "    '''Caclulates the period of a pendulum using equation 1.\n",
    "    Parameters\n",
    "    ----------\n",
    "    angle_m : the maximum angle in radians'''\n",
    "    integral = integ.quad(integrand1, 0, angle_m, angle_m)[0]\n",
    "    return np.sqrt(2) / np.pi * integral \n",
    "def per2(angle_m) :\n",
    "    '''Caclulates the period of a pendulum using equation 2.\n",
    "    Parameters\n",
    "    ----------\n",
    "    angle_m : the maximum angle in radians'''\n",
    "    return 2 / np.pi * integ.quad(integrand2, 0, np.pi / 2, angle_m)[0]\n",
    "#Make a funciton for the sine term in equation 3\n",
    "def sin3(angle_m, n) :\n",
    "    '''Calculates the sine term in equation 3\n",
    "    Parameters\n",
    "    ----------\n",
    "    angle_m : the maximum angle radians\n",
    "    n : the index'''\n",
    "    return np.sin(angle_m / 2) ** n\n",
    "def per3(angle_m) : \n",
    "    '''Caclulates the period of a pendulum using equation 2.\n",
    "    Parameters\n",
    "    ----------\n",
    "    angle_m : the maximum angle in radians'''\n",
    "    n = np.arange(2, 10, 2)\n",
    "    a2n = np.array([1 / 4, 9 / 64, 25 / 256, 1225 / 16384])\n",
    "    angle_m = np.array([angle_m, angle_m, angle_m, angle_m])\n",
    "    sin_terms = sin3(angle_m,n)\n",
    "    return 1 + np.sum(np.multiply(a2n, sin_terms))\n",
    "\n",
    "#Make theta in radians\n",
    "theta_m = np.deg2rad(theta_m)\n",
    "\n",
    "#Calculate the periods\n",
    "period1 = np.zeros_like(theta_m)\n",
    "period2 = np.zeros_like(theta_m)\n",
    "period3 = np.zeros_like(theta_m)\n",
    "\n",
    "for i in range(179) :\n",
    "    period1[i] = per1(theta_m[i])\n",
    "    period2[i] = per2(theta_m[i])\n",
    "    period3[i] = per3(theta_m[i])\n",
    "#Put theta back in degrees\n",
    "theta_m = np.arange(1, 180, 1) #degrees\n",
    "\n",
    "#Plot stuff\n",
    "fig = plt.figure()\n",
    "ax = fig.add_subplot(111)\n",
    "ax.plot(theta_m, period1, label = 'Form 1')\n",
    "ax.plot(theta_m, period2, label = 'Form 2', linestyle = '--')\n",
    "ax.plot(theta_m, period3, label = 'Form 3', linestyle = '-.')\n",
    "ax.set_title('Period of a Pendulum')\n",
    "ax.set_xlabel('Maximum Angle (degrees)')\n",
    "ax.set_ylabel('Period')\n",
    "plt.legend()\n",
    "plt.xlim(0, 180);"
   ]
  },
  {
   "cell_type": "markdown",
   "metadata": {},
   "source": [
    "### Error in the Integrals\n",
    "\n",
    "You should find that the two integrals work well, but that the series fails for large amplitudes.  We will look at the series in more detail below.  For now let us focus on the integrals; we want to carefully look at their accuracy.  As noted in the homework, the integral *can* actually be performed in terms of a special function, the elliptic integral of the first kind,\n",
    "$$ \\frac{T(\\theta_m)}{T_0} = \\frac{2}{\\pi} K\\left[ \\sin^2\\left( \\frac{\\theta_m}{2} \\right) \\right]. $$\n",
    "The elliptic integral of the first kind can be accessed as `scipy.special.ellipk`. [*Note:* I have used a notation here consistent with SciPy, however, this is not universal.  In other places you will find what we are calling $K(x^2)$ instead written as $K(x)$.  In general, before using a special function you should verify the library is using the same conventions as you are!]\n",
    "\n",
    "We are going to produce another figure. Whenever multiple figures are produced using the same quantities, in every figure you should always use the same line style or marker type, colors, *etc*. for the same quantity in each figure.  This makes it much easier for the reader to connect the results among the figures.  For example, this means that if you used purple horse shoes to represent the integral from Eq. $(\\ref{eq:period1})$ in your first figure, then you should also use purple horse shoes to represent the error in the integral from Eq. $(\\ref{eq:period1})$ in the figure you are about to create. [*Note:*  Do **not** use purple horse shoes as a marker.]"
   ]
  },
  {
   "cell_type": "markdown",
   "metadata": {},
   "source": [
    "Produce a figure showing the fractional error in the two integrals $(\\ref{eq:period1})$ and $(\\ref{eq:period2})$.  You may get a warning when you create this plot and one of the curves may look strange."
   ]
  },
  {
   "cell_type": "code",
   "execution_count": 4,
   "metadata": {
    "deletable": false,
    "nbgrader": {
     "checksum": "7653bb0946d07100669b67da33fbc2a9",
     "grade": true,
     "grade_id": "cell-86244b335ef9a569",
     "locked": false,
     "points": 7,
     "schema_version": 1,
     "solution": true
    }
   },
   "outputs": [
    {
     "data": {
      "image/png": "[encoded data removed]",
      "text/plain": [
       "<Figure size 432x288 with 1 Axes>"
      ]
     },
     "metadata": {
      "needs_background": "light"
     },
     "output_type": "display_data"
    }
   ],
   "source": [
    "#Caclulate errors\n",
    "theta_m_rad = np.deg2rad(theta_m)\n",
    "period = 2 / np.pi * sf.ellipk(np.sin(theta_m_rad / 2) ** 2)\n",
    "def err(a, e) :\n",
    "    '''Calculates the fractional error\n",
    "    a : the actual values\n",
    "    e : the experimental value'''\n",
    "    return np.abs((a - e) / a)\n",
    "err1 = err(period, period1)\n",
    "err2 = err(period, period2)\n",
    "\n",
    "#Plot errors\n",
    "fig = plt.figure()\n",
    "ax = fig.add_subplot(111)\n",
    "ax.plot(theta_m, err1, label = 'Form 1')\n",
    "ax.plot(theta_m, err2, label = 'Form 2', linestyle = '--')\n",
    "ax.legend()\n",
    "ax.set_title('Fractional Error Plot')\n",
    "ax.set_ylabel('Fractional Error')\n",
    "ax.set_xlabel('Maximum Angle (Degrees)');"
   ]
  },
  {
   "cell_type": "markdown",
   "metadata": {},
   "source": [
    "The error from the integral in Eq. $(\\ref{eq:period2})$ should look strange.  You may be worried that is incorrect.  Explain the source of the strange behavior of this error curve.  [*Hint:* Look at the actual values of the errors, not just as they show up in the plot.]"
   ]
  },
  {
   "cell_type": "markdown",
   "metadata": {
    "deletable": false,
    "nbgrader": {
     "checksum": "51cdf9e056223e0433c9ac35898d1396",
     "grade": true,
     "grade_id": "cell-1cc374e882ae0675",
     "locked": false,
     "points": 2,
     "schema_version": 1,
     "solution": true
    }
   },
   "source": [
    "The error is always zero or really close to the minimum value in python. It is like this because Eq. $(\\ref{eq:period2})$ in in the form of the elliptic integral of the first kind."
   ]
  },
  {
   "cell_type": "markdown",
   "metadata": {},
   "source": [
    "### Series Formula"
   ]
  },
  {
   "cell_type": "markdown",
   "metadata": {},
   "source": [
    "Returning to the series form in $(\\ref{eq:periodsum})$ it is not surprising that it does a poor job at large amplitude, particularly since we truncate the sum after a few terms, at $a_8$.  Explain why this is the case."
   ]
  },
  {
   "cell_type": "markdown",
   "metadata": {
    "deletable": false,
    "nbgrader": {
     "checksum": "62ccd3a96d4448bab23efd58066d47ae",
     "grade": true,
     "grade_id": "cell-728232d1cc3ada4e",
     "locked": false,
     "points": 3,
     "schema_version": 1,
     "solution": true
    }
   },
   "source": [
    "The higher order terms in $(\\ref{eq:periodsum})$ start to become more important as the maximum angle increases. These terms do not matter when teh maximum angle is close to zero because the sine of numbers close to zero is close to zero. However as the maximum angle moves away from zero these terms become more and more important."
   ]
  },
  {
   "cell_type": "markdown",
   "metadata": {},
   "source": [
    "For what amplitude, $\\theta_m$, from the grid used above, does the fractional error in the period calculated using the series form $(\\ref{eq:periodsum})$ become larger than $10^{-10}$?  [*Note:* The clever way to do this is to use the `where` function, though that is not necessary here.  You can just look through the list of values and find the relevant one.  We will learn about the `where` function in the near future.  Also note that we want the **value of the amplitude, $\\theta_m$**, not the index number of where this occurs in the array you calculated.]"
   ]
  },
  {
   "cell_type": "code",
   "execution_count": 5,
   "metadata": {
    "deletable": false,
    "nbgrader": {
     "checksum": "0008e6ee09a20cd628342574cbb1a537",
     "grade": true,
     "grade_id": "cell-b603af262dd1de89",
     "locked": false,
     "points": 4,
     "schema_version": 1,
     "solution": true
    }
   },
   "outputs": [
    {
     "name": "stdout",
     "output_type": "stream",
     "text": [
      "The threshold value for maximum angle is 16 degrees\n"
     ]
    }
   ],
   "source": [
    "#Calculate fractional error\n",
    "err3 = err(period, period3)\n",
    "\n",
    "#Find where the fractional error is larger than 10^(-10)\n",
    "err3_large = np.where(err3 > 10 ** (-10), err3, 0)\n",
    "indicies = np.nonzero(err3_large)\n",
    "theta_m_err = theta_m[indicies[0][0]]\n",
    "\n",
    "#Print findings\n",
    "print('The threshold value for maximum angle is', theta_m_err, 'degrees')"
   ]
  },
  {
   "cell_type": "markdown",
   "metadata": {},
   "source": [
    "## Analytic Manipulations\n",
    "\n",
    "You may wonder why we bothered to have two different integral forms for the period, $(\\ref{eq:period1})$ and $(\\ref{eq:period2})$.  Since `quad` can handle divergent integrands it can, and does, give us good answers to the integral in Eq. $(\\ref{eq:period1})$, so why bother doing the analytic work to transform the integral?  We found above that the transformed integral $(\\ref{eq:period2})$ did lead to smaller errors, so that is a benefit.  Even more so, the transformed integral requires far less work to compute.  Thus by doing a small mathematical manipulation (as you have done in the homework) we arrive at a much easier and much more accurate formula for the computer to evaluate."
   ]
  },
  {
   "cell_type": "markdown",
   "metadata": {},
   "source": [
    "To verify this, calculate the period for $\\theta_m=101^\\circ$ using $(\\ref{eq:period1})$ and $(\\ref{eq:period2})$.  Print the fractional errors and number of function evaluations required for each integral.  Be amazed!"
   ]
  },
  {
   "cell_type": "code",
   "execution_count": 6,
   "metadata": {
    "deletable": false,
    "nbgrader": {
     "checksum": "43c18786e90ac973eb5b74c4bfe9cf19",
     "grade": true,
     "grade_id": "cell-4bed470401d8505d",
     "locked": false,
     "points": 4,
     "schema_version": 1,
     "solution": true
    }
   },
   "outputs": [
    {
     "name": "stdout",
     "output_type": "stream",
     "text": [
      "The fractional error for form 1 is 1.4703823372922024e-12 and the number of function evaluations is 315\n",
      "The fractional error for form 2 is 0.0 and the number of function evaluations is 21\n"
     ]
    }
   ],
   "source": [
    "#Calcualte periods\n",
    "angle = np.deg2rad(101)\n",
    "(integral1, error1, dit1) = integ.quad(integrand1, 0, angle, angle, 1)\n",
    "period1_101 = np.sqrt(2) / np.pi * integral1\n",
    "(integral2, error2, dit2) = integ.quad(integrand2, 0, np.pi / 2, angle, 1)\n",
    "period2_101 = 2 / np.pi * integral2\n",
    "period_101 = 2 / np.pi * sf.ellipk(np.sin(np.deg2rad(101) / 2) ** 2)\n",
    "\n",
    "#Calculate errors\n",
    "err2_101 = err(period_101, period2_101)\n",
    "err1_101 = err(period_101, period1_101)\n",
    "\n",
    "#Print results\n",
    "print('The fractional error for form 1 is', err1_101, 'and the number of function evaluations is', dit1.get('neval'))\n",
    "print('The fractional error for form 2 is', err2_101, 'and the number of function evaluations is', dit2.get('neval'))"
   ]
  },
  {
   "cell_type": "markdown",
   "metadata": {},
   "source": [
    "## Member Participation\n",
    "\n",
    "See Lab00 for instructions on turning in labs.  We will follow this procedure the entire semester.\n",
    "\n",
    "In the following cell enter the *Case ID* for each student in the group who partcipated in this lab.  Again, see Lab00 for more details.  It is expected that you have read and understood those details."
   ]
  },
  {
   "cell_type": "markdown",
   "metadata": {},
   "source": [
    "mrb175\n",
    "<br>\n",
    "kls188\n",
    "<br>\n",
    "gbs32"
   ]
  }
 ],
 "metadata": {
  "anaconda-cloud": {},
  "authors": [
   {
    "name": "Craig J Copi",
    "semester": "Spring 2019"
   }
  ],
  "kernelspec": {
   "display_name": "Python 3",
   "language": "python",
   "name": "python3"
  },
  "language_info": {
   "codemirror_mode": {
    "name": "ipython",
    "version": 3
   },
   "file_extension": ".py",
   "mimetype": "text/x-python",
   "name": "python",
   "nbconvert_exporter": "python",
   "pygments_lexer": "ipython3",
   "version": "3.7.1"
  }
 },
 "nbformat": 4,
 "nbformat_minor": 2
}
