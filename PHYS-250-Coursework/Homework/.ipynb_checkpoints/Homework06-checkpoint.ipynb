{
 "cells": [
  {
   "cell_type": "code",
   "execution_count": 1,
   "metadata": {},
   "outputs": [],
   "source": [
    "import numpy as np\n",
    "import scipy.optimize as opt\n",
    "import scipy.interpolate as interp"
   ]
  },
  {
   "cell_type": "code",
   "execution_count": 49,
   "metadata": {},
   "outputs": [
    {
     "name": "stdout",
     "output_type": "stream",
     "text": [
      "35.589694103834844\n"
     ]
    },
    {
     "name": "stderr",
     "output_type": "stream",
     "text": [
      "C:\\Users\\mboss\\Anaconda3\\lib\\site-packages\\ipykernel_launcher.py:1: DeprecationWarning: object of type <class 'float'> cannot be safely interpreted as an integer.\n",
      "  \"\"\"Entry point for launching an IPython kernel.\n"
     ]
    }
   ],
   "source": [
    "theta_not = np.linspace(10**(-3), np.pi/2., 10.**(3))\n",
    "def Y(s, theta_not) :\n",
    "    return (np.sin(theta_not)+1)*(1-np.exp(-s)) - s\n",
    "for i in range(theta_not.size) :  \n",
    "    s[i] = opt.brentq(lambda s : Y(s, theta_not[i]), 10**(-15), 3)\n",
    "X = np.cos(theta_not)*(1-np.exp(-s))\n",
    "X_spline = interp.InterpolatedUnivariateSpline(theta_not, X)\n",
    "dX_spline = X_spline.derivative()\n",
    "theta_not_opt = opt.brentq(dX_spline, 0, np.pi/2)\n",
    "print(theta_not_opt*180/np.pi)"
   ]
  },
  {
   "cell_type": "code",
   "execution_count": null,
   "metadata": {},
   "outputs": [],
   "source": []
  }
 ],
 "metadata": {
  "kernelspec": {
   "display_name": "Python 3",
   "language": "python",
   "name": "python3"
  },
  "language_info": {
   "codemirror_mode": {
    "name": "ipython",
    "version": 3
   },
   "file_extension": ".py",
   "mimetype": "text/x-python",
   "name": "python",
   "nbconvert_exporter": "python",
   "pygments_lexer": "ipython3",
   "version": "3.7.1"
  }
 },
 "nbformat": 4,
 "nbformat_minor": 2
}
