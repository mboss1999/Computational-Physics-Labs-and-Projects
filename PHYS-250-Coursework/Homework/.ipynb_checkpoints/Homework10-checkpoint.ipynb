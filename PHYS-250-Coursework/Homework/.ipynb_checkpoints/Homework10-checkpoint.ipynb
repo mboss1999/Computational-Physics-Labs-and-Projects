{
 "cells": [
  {
   "cell_type": "code",
   "execution_count": 24,
   "metadata": {},
   "outputs": [],
   "source": [
    "import numpy as np\n",
    "import scipy.optimize as opt\n",
    "import matplotlib.pyplot as plt\n",
    "%matplotlib inline\n",
    "import matplotlib as mpl\n",
    "mpl.rc('xtick', direction='in', top=True)\n",
    "mpl.rc('ytick', direction='in', right=True)\n",
    "mpl.rc('xtick.minor', visible=True)\n",
    "mpl.rc('ytick.minor', visible=True)"
   ]
  },
  {
   "cell_type": "code",
   "execution_count": 16,
   "metadata": {},
   "outputs": [],
   "source": [
    "def linear_leastsq (x, y, sigma=None) :\n",
    "    \"\"\"Finds the paremeters a1 and a2 that best fit a data set\n",
    "    to the function y = a1 + a2x\n",
    "    x : independent variable array\n",
    "    y : dependent variable array\n",
    "    sgima : uncertanties\n",
    "    Returns a tuple : ([a1 a2], [siga1 siga2])\"\"\"\n",
    "    if sigma is None :\n",
    "        sigma = np.ones_like(y) # This sets sigma=1 for each y\n",
    "        # fill in the rest!\n",
    "    \n",
    "    #Caluclate the useful variables from class\n",
    "    S = np.sum(1/sigma**2)\n",
    "    Sx = np.sum(x/sigma**2)\n",
    "    Sy = np.sum(y/sigma**2)\n",
    "    Sxx = np.sum(x**2/sigma**2)\n",
    "    Sxy = np.sum(x*y/sigma**2)\n",
    "    Delta = S*Sxx-Sx**2\n",
    "    \n",
    "    #Calculate the parameters using the useful variables as done in class\n",
    "    a1 = (Sxx*Sy-Sxy*Sx)/Delta\n",
    "    a2 = (S*Sxy-Sx*Sy)/Delta\n",
    "    siga1 = np.sqrt(Sxx/Delta)\n",
    "    siga2 = np.sqrt(S/Delta)\n",
    "    \n",
    "    return (np.array([a1, a2]), np.array([siga1, siga2]))"
   ]
  },
  {
   "cell_type": "code",
   "execution_count": 21,
   "metadata": {},
   "outputs": [
    {
     "name": "stdout",
     "output_type": "stream",
     "text": [
      "My fitting function :\n",
      "parameters : [0.50188285 2.99997308]\n",
      "uncertainties : [0.00218222 0.00018196]\n",
      "scipy.optimize.curve_fit :\n",
      "parameters : [0.43244086 3.00511803]\n",
      "uncertainties : [1.30808015e-03 9.80569191e-06]\n"
     ]
    }
   ],
   "source": [
    "#Make sure my function works\n",
    "#Make a function for a linear model of two parameters\n",
    "def y(x, a1, a2) :\n",
    "    return a1 + a2*x\n",
    "\n",
    "#Make variables for a data set that is actually linear with some Guassian error\n",
    "a1 = .5\n",
    "a2 = 3\n",
    "\n",
    "#Make arrays for independent variable, uncertainty, and dependent variabel\n",
    "x = np.linspace(0, 20, 1000)\n",
    "unc = np.random.rand(len(x))\n",
    "def noise(unc) :\n",
    "    return np.random.normal(0, unc, 1)\n",
    "noise_v = np.vectorize(noise)\n",
    "y_ar = y(x, a1, a2) + noise_v(unc)\n",
    "\n",
    "#Make fits\n",
    "(p1, unc1) = linear_leastsq(x, y_ar, unc) \n",
    "(p2, co2) = opt.curve_fit(y, x, y_ar)\n",
    "unc2 = np.diag(co2)\n",
    "\n",
    "#See if fits match\n",
    "print(f\"\"\"My fitting function :\n",
    "parameters : {p1}\n",
    "uncertainties : {unc1}\"\"\")\n",
    "print(f\"\"\"scipy.optimize.curve_fit :\n",
    "parameters : {p2}\n",
    "uncertainties : {unc2}\"\"\")"
   ]
  },
  {
   "cell_type": "code",
   "execution_count": 32,
   "metadata": {},
   "outputs": [
    {
     "name": "stdout",
     "output_type": "stream",
     "text": [
      "Results:\n",
      "a1 : -3.8\n",
      "a2 : 0.8\n",
      "sigma_a1 : 0.4472135954999579\n",
      "sigma_a2: 0.31622776601683794\n",
      "chisqr : 8.4\n",
      "reduced chisqr : 2.8000000000000003\n"
     ]
    }
   ],
   "source": [
    "#Put data in arrays\n",
    "xdata = np.array([-2, -1, 0, 1, 2])\n",
    "ydata = np.array([-4, -7, -3, -3, -2])\n",
    "\n",
    "#Make a fit\n",
    "(p3, unc3) = linear_leastsq(xdata, ydata)\n",
    "\n",
    "#Caclulate chisqr and reduced chisqr\n",
    "chisqr = np.sum((ydata - p3[0] - p3[1]*xdata)**2)\n",
    "dof = len(xdata) - 2\n",
    "chisqr_r = chisqr/dof\n",
    "\n",
    "#Print results\n",
    "print(f\"\"\"Results:\n",
    "a1 : {p3[0]}\n",
    "a2 : {p3[1]}\n",
    "sigma_a1 : {unc3[0]}\n",
    "sigma_a2: {unc3[1]}\n",
    "chisqr : {chisqr}\n",
    "reduced chisqr : {chisqr_r}\"\"\")"
   ]
  },
  {
   "cell_type": "code",
   "execution_count": 27,
   "metadata": {},
   "outputs": [
    {
     "data": {
      "image/png": "[encoded data removed]",
      "text/plain": [
       "<Figure size 432x288 with 1 Axes>"
      ]
     },
     "metadata": {
      "needs_background": "light"
     },
     "output_type": "display_data"
    }
   ],
   "source": [
    "#Find the outlier by plotting\n",
    "fig = plt.figure()\n",
    "ax = fig.add_subplot(111)\n",
    "ax.scatter(xdata, ydata, label = \"Data\")\n",
    "ax.plot(xdata, p3[0] + p3[1]*xdata, label = \"Fit\", color = \"black\")\n",
    "ax.set_ylabel('y')\n",
    "ax.set_xlabel('x')\n",
    "ax.set_title(\"Linear Fit of Data\")\n",
    "ax.legend();"
   ]
  },
  {
   "cell_type": "code",
   "execution_count": 33,
   "metadata": {},
   "outputs": [
    {
     "name": "stdout",
     "output_type": "stream",
     "text": [
      "Results:\n",
      "a1 : -3.1142857142857143\n",
      "a2 : 0.45714285714285713\n",
      "sigma_a1 : 0.50709255283711\n",
      "sigma_a2 : 0.3380617018914066\n",
      "chisqr : 2.6399999999999997\n",
      "reduced chisqr : 1.3199999999999998\n"
     ]
    }
   ],
   "source": [
    "#Put data in arrays\n",
    "xdata2 = np.array([-2, 0, 1, 2])\n",
    "ydata2 = np.array([-4, -3, -3, -2])\n",
    "\n",
    "#Make a fit\n",
    "(p4, unc4) = linear_leastsq(xdata2, ydata2)\n",
    "\n",
    "#Caclulate chisqr and reduced chisqr\n",
    "chisqr2 = np.sum((ydata2 - p3[0] - p3[1]*xdata2)**2)\n",
    "dof2 = len(xdata2) - 2\n",
    "chisqr_r2 = chisqr2/dof2\n",
    "\n",
    "#Print results\n",
    "print(f\"\"\"Results:\n",
    "a1 : {p4[0]}\n",
    "a2 : {p4[1]}\n",
    "sigma_a1 : {unc4[0]}\n",
    "sigma_a2 : {unc4[1]}\n",
    "chisqr : {chisqr2}\n",
    "reduced chisqr : {chisqr_r2}\"\"\")"
   ]
  }
 ],
 "metadata": {
  "kernelspec": {
   "display_name": "Python 3",
   "language": "python",
   "name": "python3"
  },
  "language_info": {
   "codemirror_mode": {
    "name": "ipython",
    "version": 3
   },
   "file_extension": ".py",
   "mimetype": "text/x-python",
   "name": "python",
   "nbconvert_exporter": "python",
   "pygments_lexer": "ipython3",
   "version": "3.7.1"
  }
 },
 "nbformat": 4,
 "nbformat_minor": 2
}
