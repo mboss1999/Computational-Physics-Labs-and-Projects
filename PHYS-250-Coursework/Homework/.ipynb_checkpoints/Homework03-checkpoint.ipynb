{
 "cells": [
  {
   "cell_type": "code",
   "execution_count": 1,
   "metadata": {},
   "outputs": [],
   "source": [
    "import numpy as np"
   ]
  },
  {
   "cell_type": "code",
   "execution_count": 2,
   "metadata": {},
   "outputs": [],
   "source": [
    "def richardson_center (f, z, h, nsteps, args=()) :\n",
    "    \"\"\"Evaluate the first derivative of a function at z, that is f'(z),\n",
    "    using Richardson extrapolation and center differencing.\n",
    "\n",
    "    Returned is the full table of approximations, Fij for j <= i. The\n",
    "    values of Fij for j > i are set to zero.  The final value F[-1,-1]\n",
    "    should be the most accurate estimate.\n",
    "\n",
    "    Parameters\n",
    "    ----------\n",
    "    f : function\n",
    "        Vectorized Python function.\n",
    "        This is the function for which we are estimating the derivative.\n",
    "    z : number\n",
    "        Value at which to evaluate the derivative.\n",
    "    h : number\n",
    "        Initial stepsize.\n",
    "    nsteps : integer\n",
    "        Number of steps to perform.\n",
    "    args : tuple, optional\n",
    "        extra arguments to pass to the function, f.\n",
    "    \"\"\"\n",
    "    # Extra check to allow for args=(1) to be handled properly.  This is a\n",
    "    # technical detail that you do not need to worry about.\n",
    "    if not isinstance(args, (tuple, list, np.ndarray)) :\n",
    "        args = (args,)\n",
    "    # Create a zero filled table for our estimates\n",
    "    F = np.zeros((nsteps,nsteps))\n",
    "    # First column of F is the center differencing estimate.  We can fill this\n",
    "    # without a loop!\n",
    "    harr = h / 2.**np.arange(nsteps)\n",
    "    F[:,0] = (f(z+harr,*args) - f(z-harr,*args)) / (2.*harr)\n",
    "    # Now iterate, unfortunately we do need one loop.  We could\n",
    "    # get rid of the inner loop but the algorithm is a little easier to\n",
    "    # understand if we do not.\n",
    "    fact = 1.0\n",
    "    for i in range(1,nsteps) :\n",
    "        fact *= .25\n",
    "        for j in range(1,i+1) :\n",
    "            F[i,j] = F[i-1,j-1] - (F[i-1,j-1] - F[i,j-1])/ (1-fact)\n",
    "    return F"
   ]
  },
  {
   "cell_type": "code",
   "execution_count": 13,
   "metadata": {},
   "outputs": [],
   "source": [
    "def f (x):\n",
    "    return np.exp(- x /3)"
   ]
  },
  {
   "cell_type": "code",
   "execution_count": 4,
   "metadata": {},
   "outputs": [],
   "source": [
    "x = .7"
   ]
  },
  {
   "cell_type": "code",
   "execution_count": 20,
   "metadata": {},
   "outputs": [],
   "source": [
    "df = -1/3*f(x)"
   ]
  },
  {
   "cell_type": "code",
   "execution_count": 6,
   "metadata": {},
   "outputs": [
    {
     "name": "stdout",
     "output_type": "stream",
     "text": [
      "-0.2639631887789272\n"
     ]
    }
   ],
   "source": [
    "print(df)"
   ]
  },
  {
   "cell_type": "code",
   "execution_count": 15,
   "metadata": {},
   "outputs": [],
   "source": [
    "def err(x, y) :\n",
    "    return np.absolute((x - y) / x)"
   ]
  },
  {
   "cell_type": "code",
   "execution_count": 26,
   "metadata": {},
   "outputs": [
    {
     "name": "stdout",
     "output_type": "stream",
     "text": [
      "-0.26396318852928147\n"
     ]
    },
    {
     "data": {
      "text/plain": [
       "9.457597086653495e-10"
      ]
     },
     "execution_count": 26,
     "metadata": {},
     "output_type": "execute_result"
    }
   ],
   "source": [
    "h4 = 10**(-7)\n",
    "d4 = richardson_center(f, x, h4, 1)\n",
    "print(d4[-1,-1])\n",
    "err(df, d4[-1,-1])"
   ]
  },
  {
   "cell_type": "code",
   "execution_count": 9,
   "metadata": {},
   "outputs": [],
   "source": [
    "def richardson_forward (f, z, h, nsteps, args=()) :\n",
    "    \"\"\"Evaluate the first derivative of a function at z, that is f'(z),\n",
    "    using Richardson extrapolation and forward differencing.\n",
    "\n",
    "    Returned is the full table of approximations, Fij for j <= i. The\n",
    "    values of Fij for j > i are set to zero.  The final value F[-1,-1]\n",
    "    should be the most accurate estimate.\n",
    "\n",
    "    Parameters\n",
    "    ----------\n",
    "    f : function\n",
    "        Vectorized Python function.\n",
    "        This is the function for which we are estimating the derivative.\n",
    "    z : number\n",
    "        Value at which to evaluate the derivative.\n",
    "    h : number\n",
    "        Initial stepsize.\n",
    "    nsteps : integer\n",
    "        Number of steps to perform.\n",
    "    args : tuple, optional\n",
    "        extra arguments to pass to the function, f.\n",
    "    \"\"\"\n",
    "    # Extra check to allow for args=(1) to be handled properly.  This is a\n",
    "    # technical detail that you do not need to worry about.\n",
    "    if not isinstance(args, (tuple, list, np.ndarray)) :\n",
    "        args = (args,)\n",
    "    # Create a zero filled table for our estimates\n",
    "    F = np.zeros((nsteps,nsteps))\n",
    "    # First column of F is the forward differencing estimate.  We can fill this\n",
    "    # without a loop!\n",
    "    harr = h / 2.**np.arange(nsteps)\n",
    "    F[:,0] = (f(z+harr,*args) - f(z,*args)) / (harr)\n",
    "    # Now iterate, unfortunately we do need one loop.  We could\n",
    "    # get rid of the inner loop but the algorithm is a little easier to\n",
    "    # understand if we do not.\n",
    "    for i in range(1,nsteps) :        \n",
    "        for j in range(1,i+1) :\n",
    "            F[i,j] = (F[i-1,j-1] - 2 ** j * F[i,j-1]) / (1 - 2 ** j)\n",
    "    return F"
   ]
  },
  {
   "cell_type": "code",
   "execution_count": 10,
   "metadata": {},
   "outputs": [
    {
     "name": "stdout",
     "output_type": "stream",
     "text": [
      "2.3104946643198647 5.134337399681499e-11\n",
      "2.310494664416183 9.656164756677299e-12\n",
      "2.3104946644384934\n"
     ]
    }
   ],
   "source": [
    "h = .4\n",
    "z = 1.15\n",
    "def f (x) :\n",
    "    return 2 ** x * np.sin(x)\n",
    "df = np.log(2)*2**z*np.sin(z)+2**z*np.cos(z)\n",
    "cd = richardson_center(f, z, h, 20)\n",
    "fd = richardson_forward(f,z,h,17)\n",
    "errcd = err(df,cd[-1,-1])\n",
    "errfd = err(df, fd[-1,-1])\n",
    "print(fd[-1,-1], errfd)\n",
    "print(cd[-1,-1], errcd)\n",
    "print(df)"
   ]
  },
  {
   "cell_type": "code",
   "execution_count": null,
   "metadata": {},
   "outputs": [],
   "source": []
  }
 ],
 "metadata": {
  "kernelspec": {
   "display_name": "Python 3",
   "language": "python",
   "name": "python3"
  },
  "language_info": {
   "codemirror_mode": {
    "name": "ipython",
    "version": 3
   },
   "file_extension": ".py",
   "mimetype": "text/x-python",
   "name": "python",
   "nbconvert_exporter": "python",
   "pygments_lexer": "ipython3",
   "version": "3.7.1"
  }
 },
 "nbformat": 4,
 "nbformat_minor": 2
}
