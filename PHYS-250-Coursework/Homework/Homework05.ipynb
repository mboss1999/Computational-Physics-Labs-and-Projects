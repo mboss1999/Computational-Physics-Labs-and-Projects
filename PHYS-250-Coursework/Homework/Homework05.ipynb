{
 "cells": [
  {
   "cell_type": "code",
   "execution_count": 1,
   "metadata": {},
   "outputs": [],
   "source": [
    "import numpy as np"
   ]
  },
  {
   "cell_type": "code",
   "execution_count": 2,
   "metadata": {},
   "outputs": [],
   "source": [
    "def rk2(f, y0, t, args=()) :\n",
    "    \"\"\"Numerical integration using 2nd order Runge-Kutta\n",
    "    Parameters\n",
    "    ----------\n",
    "    f : The function to be integrated, must return a number (not an array)\n",
    "    y0 : The initial condition\n",
    "    t : An array of times to calculate y(t)\"\"\"\n",
    "    delt_t = np.diff(t)\n",
    "    y = np.zeros_like(t)\n",
    "    y[0] = y0\n",
    "    #I believe I cannot array slice here :(\n",
    "    for n in range(delt_t.size) :\n",
    "        k1 = delt_t[n] * f(t[n], y[n], *args)\n",
    "        k2 = delt_t[n] * f(t[n] + 1/2*delt_t[n], y[n] + 1/2*k1, *args)\n",
    "        y[n+1] = y[n] + k2\n",
    "    return (t, y)\n",
    "\n",
    "def rk4(f, y0, t, args=()) :\n",
    "    \"\"\"Numerical integration using 4th order Runge-Kutta\n",
    "    Parameters\n",
    "    ----------\n",
    "    f : The function to be integrated, must return a number (not an array)\n",
    "    y0 : The initial condition\n",
    "    t : An array of times to calculate y(t)\"\"\"\n",
    "    delt_t = np.diff(t)\n",
    "    y = np.zeros_like(t)\n",
    "    y[0] = y0\n",
    "    #I believe I cannot array slice here :(\n",
    "    for n in range(delt_t.size) :\n",
    "        k1 = delt_t[n] * f(t[n], y[n], *args)\n",
    "        k2 = delt_t[n] * f(t[n] + 1/2*delt_t[n], y[n] + 1/2*k1)\n",
    "        k3 = delt_t[n] * f(t[n] + 1/2*delt_t[n], y[n] + 1/2*k2)\n",
    "        k4 = delt_t[n] * f(t[n] + delt_t[n], y[n] + k3)\n",
    "        y[n+1] = y[n] + k1/6 + k2/3 + k3/3 + k4/6\n",
    "    return (t, y)"
   ]
  },
  {
   "cell_type": "code",
   "execution_count": 3,
   "metadata": {},
   "outputs": [],
   "source": [
    "def err(a, e) :\n",
    "    \"\"\"Calculates the fractional error\n",
    "    a : the actual value\n",
    "    e : the experimental value\"\"\"\n",
    "    return np.abs((a - e)/a)"
   ]
  },
  {
   "cell_type": "code",
   "execution_count": 4,
   "metadata": {},
   "outputs": [],
   "source": [
    "def f(t, y) :\n",
    "    \"\"\"A simple first order differential equation. \n",
    "    Returns the first order derivative\n",
    "    t : Independent variable\n",
    "    y : Dependent variable\"\"\"\n",
    "    return 6*t**2 - t - 12 * y"
   ]
  },
  {
   "cell_type": "code",
   "execution_count": 5,
   "metadata": {},
   "outputs": [],
   "source": [
    "def y(t) :\n",
    "    \"\"\"The solution to the differnetial equation.\n",
    "    t : Independent variable\"\"\"\n",
    "    return 1/36*np.exp(-12*t) + 1/2*t**2 - 1/6*t + 1/72"
   ]
  },
  {
   "cell_type": "code",
   "execution_count": 6,
   "metadata": {},
   "outputs": [
    {
     "name": "stdout",
     "output_type": "stream",
     "text": [
      "rk2 gives 0.003082226434529983 which has an error of 0.002187525568086981\n",
      "rk4 gives 0.003075500267447452 which has an error of 5.088487824281917e-07\n"
     ]
    }
   ],
   "source": [
    "#Calculate y(.2) numerically and find error\n",
    "t = np.arange(0, .205, .005)\n",
    "sol_rk2 = rk2(f, 1/24, t)[1][-1]\n",
    "sol_rk4 = rk4(f, 1/24, t)[1][-1]\n",
    "sol = y(.2)\n",
    "err_rk2 = err(sol, sol_rk2)\n",
    "err_rk4 = err(sol, sol_rk4)\n",
    "print('rk2 gives', sol_rk2, 'which has an error of', err_rk2)\n",
    "print('rk4 gives', sol_rk4, 'which has an error of', err_rk4)"
   ]
  }
 ],
 "metadata": {
  "kernelspec": {
   "display_name": "Python 3",
   "language": "python",
   "name": "python3"
  },
  "language_info": {
   "codemirror_mode": {
    "name": "ipython",
    "version": 3
   },
   "file_extension": ".py",
   "mimetype": "text/x-python",
   "name": "python",
   "nbconvert_exporter": "python",
   "pygments_lexer": "ipython3",
   "version": "3.7.1"
  }
 },
 "nbformat": 4,
 "nbformat_minor": 2
}
