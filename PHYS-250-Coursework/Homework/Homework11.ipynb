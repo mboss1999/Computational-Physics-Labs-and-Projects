{
 "cells": [
  {
   "cell_type": "code",
   "execution_count": 5,
   "metadata": {},
   "outputs": [],
   "source": [
    "import scipy.interpolate as interp\n",
    "import scipy.integrate as integ\n",
    "import numpy as np\n",
    "import matplotlib.pyplot as plt\n",
    "%matplotlib inline\n",
    "import matplotlib as mpl\n",
    "mpl.rc('xtick', direction='in', top=True)\n",
    "mpl.rc('ytick', direction='in', right=True)\n",
    "mpl.rc('xtick.minor', visible=True)\n",
    "mpl.rc('ytick.minor', visible=True)"
   ]
  },
  {
   "cell_type": "code",
   "execution_count": 37,
   "metadata": {},
   "outputs": [
    {
     "name": "stdout",
     "output_type": "stream",
     "text": [
      "1.0\n"
     ]
    }
   ],
   "source": [
    "def p(y) :\n",
    "    return 1/y\n",
    "a = 12\n",
    "N = 1/np.log(a)\n",
    "print(N*integ.quad(p, 1, a)[0])"
   ]
  },
  {
   "cell_type": "code",
   "execution_count": 39,
   "metadata": {},
   "outputs": [
    {
     "data": {
      "text/plain": [
       "[<matplotlib.lines.Line2D at 0x1b60df76978>]"
      ]
     },
     "execution_count": 39,
     "metadata": {},
     "output_type": "execute_result"
    },
    {
     "data": {
      "image/png": "[encoded data removed]",
      "text/plain": [
       "<Figure size 432x288 with 1 Axes>"
      ]
     },
     "metadata": {
      "needs_background": "light"
     },
     "output_type": "display_data"
    }
   ],
   "source": [
    "y_ar = np.linspace(1.00001, 1000, 10**3)\n",
    "def x(y) :\n",
    "    return N*integ.quad(p, 1, y)[0]\n",
    "xv = np.vectorize(x)\n",
    "yspline = interp.InterpolatedUnivariateSpline(xv(y_ar), y_ar)\n",
    "fig = plt.figure()\n",
    "ax = fig.add_subplot(111)\n",
    "x_ar = np.linspace(0, x(y_ar[-1]), 10**3)\n",
    "ax.plot(x_ar, yspline(x_ar), linestyle = '--')\n",
    "ax.plot(x_ar, a*np.exp(x_ar))"
   ]
  },
  {
   "cell_type": "code",
   "execution_count": 35,
   "metadata": {},
   "outputs": [
    {
     "name": "stdout",
     "output_type": "stream",
     "text": [
      "0.9999999999999998\n"
     ]
    }
   ],
   "source": [
    "def p(y) :\n",
    "    return 1/y**2\n",
    "a = 12\n",
    "N = a/(a-1)\n",
    "print(N*integ.quad(p, 1, a)[0])"
   ]
  },
  {
   "cell_type": "code",
   "execution_count": 36,
   "metadata": {},
   "outputs": [
    {
     "data": {
      "text/plain": [
       "[<matplotlib.lines.Line2D at 0x1b60dec19e8>]"
      ]
     },
     "execution_count": 36,
     "metadata": {},
     "output_type": "execute_result"
    },
    {
     "data": {
      "image/png": "[encoded data removed]",
      "text/plain": [
       "<Figure size 432x288 with 1 Axes>"
      ]
     },
     "metadata": {
      "needs_background": "light"
     },
     "output_type": "display_data"
    }
   ],
   "source": [
    "y_ar = np.linspace(1.00001, 1000, 10**3)\n",
    "def x(y) :\n",
    "    return N*integ.quad(p, 1, y)[0]\n",
    "xv = np.vectorize(x)\n",
    "yspline = interp.InterpolatedUnivariateSpline(xv(y_ar), y_ar)\n",
    "fig = plt.figure()\n",
    "ax = fig.add_subplot(111)\n",
    "x_ar = np.linspace(0, x(y_ar[-1]), 10**3)\n",
    "ax.plot(x_ar, yspline(x_ar), linestyle = '--')\n",
    "ax.plot(x_ar, a/(a-x_ar*(a-1)))"
   ]
  },
  {
   "cell_type": "code",
   "execution_count": null,
   "metadata": {},
   "outputs": [],
   "source": []
  }
 ],
 "metadata": {
  "kernelspec": {
   "display_name": "Python 3",
   "language": "python",
   "name": "python3"
  },
  "language_info": {
   "codemirror_mode": {
    "name": "ipython",
    "version": 3
   },
   "file_extension": ".py",
   "mimetype": "text/x-python",
   "name": "python",
   "nbconvert_exporter": "python",
   "pygments_lexer": "ipython3",
   "version": "3.7.1"
  }
 },
 "nbformat": 4,
 "nbformat_minor": 2
}
