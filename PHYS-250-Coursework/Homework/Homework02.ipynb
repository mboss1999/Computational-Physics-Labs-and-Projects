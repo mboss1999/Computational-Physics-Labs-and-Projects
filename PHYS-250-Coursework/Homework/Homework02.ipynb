{
 "cells": [
  {
   "cell_type": "code",
   "execution_count": 1,
   "metadata": {},
   "outputs": [
    {
     "name": "stdout",
     "output_type": "stream",
     "text": [
      "           2\n",
      "0.0002947 x - 1.091 x + 1009\n"
     ]
    }
   ],
   "source": [
    "import scipy.interpolate as interp\n",
    "year = [1970, 1980, 2000]\n",
    "pop = [3.713423, 4.445386, 6.086149]\n",
    "pop_model = interp.lagrange(year,pop)\n",
    "print(pop_model)"
   ]
  },
  {
   "cell_type": "code",
   "execution_count": 2,
   "metadata": {},
   "outputs": [],
   "source": [
    "import numpy as np\n",
    "def err(meas,act) :\n",
    "    return np.absolute(meas-act)/act*100"
   ]
  },
  {
   "cell_type": "code",
   "execution_count": 3,
   "metadata": {},
   "outputs": [
    {
     "name": "stdout",
     "output_type": "stream",
     "text": [
      "5.236294666657614 0.9555161578953093\n",
      "2.4263339999915843 5.133465409111941\n",
      "6.994948999990811 1.7791918162648925\n",
      "11.219605666656776\n",
      "17.826703999989604\n"
     ]
    }
   ],
   "source": [
    "print(pop_model(1990),err(pop_model(1990),5.286811))\n",
    "print(pop_model(1950),err(pop_model(1950),2.557629))\n",
    "print(pop_model(2010),err(pop_model(2010),6.872671))\n",
    "print(pop_model(2050))\n",
    "print(pop_model(2100))"
   ]
  },
  {
   "cell_type": "code",
   "execution_count": 4,
   "metadata": {},
   "outputs": [
    {
     "name": "stdout",
     "output_type": "stream",
     "text": [
      "Values stored in the `time` array:\n",
      "\t [1. 2. 3. 4. 7. 8. 9.]\n",
      "Values stored in the `position` array:\n",
      "\t [-3.4083885 -5.6100975 -5.8256509 -3.9787359  5.3127362  5.9562532\n",
      "  4.4910645]\n"
     ]
    }
   ],
   "source": [
    "import urllib.request\n",
    "url = 'https://raw.githubusercontent.com/cwru-phys-250/p250-spring-2019/master/data/hw2.dat'\n",
    "with urllib.request.urlopen(url) as fp :\n",
    "    (time, position) = np.loadtxt(fp, unpack=True)\n",
    "\n",
    "print (\"Values stored in the `time` array:\\n\\t\", time)\n",
    "print (\"Values stored in the `position` array:\\n\\t\", position)"
   ]
  },
  {
   "cell_type": "code",
   "execution_count": 5,
   "metadata": {},
   "outputs": [
    {
     "name": "stdout",
     "output_type": "stream",
     "text": [
      "[3. 4. 7. 8.]\n",
      "[-5.8256509 -3.9787359  5.3127362  5.9562532]\n",
      "-0.7659231699999989\n",
      "2.701622469999993\n"
     ]
    }
   ],
   "source": [
    "print(time[2:6])\n",
    "print(position[2:6])\n",
    "position_interp = interp.lagrange(time[2:6],position[2:6])\n",
    "print(position_interp(5))\n",
    "print(position_interp(6))"
   ]
  },
  {
   "cell_type": "code",
   "execution_count": 6,
   "metadata": {},
   "outputs": [
    {
     "name": "stdout",
     "output_type": "stream",
     "text": [
      "1036.6594813484328\n"
     ]
    },
    {
     "data": {
      "image/png": "[encoded data removed]",
      "text/plain": [
       "<Figure size 432x288 with 1 Axes>"
      ]
     },
     "metadata": {
      "needs_background": "light"
     },
     "output_type": "display_data"
    }
   ],
   "source": [
    "position_interp2 = interp.InterpolatedUnivariateSpline(time, position)\n",
    "import scipy.optimize as opt\n",
    "import matplotlib.pyplot as plt\n",
    "%matplotlib inline\n",
    "import matplotlib as mpl\n",
    "mpl.rc('xtick', direction='in', top=True)\n",
    "mpl.rc('ytick', direction='in', right=True)\n",
    "mpl.rc('xtick.minor', visible=True)\n",
    "mpl.rc('ytick.minor', visible=True)\n",
    "fig = plt.figure()\n",
    "ax = fig.add_subplot(111)\n",
    "time_array = np.arange(1,1500,1)\n",
    "def period_root(t) :\n",
    "    return position_interp2(t) - (1296000 - 3.4083885)\n",
    "ax.plot(time_array, period_root(time_array))\n",
    "period = opt.brentq(period_root, 800, 1200) - 1\n",
    "print(period)"
   ]
  }
 ],
 "metadata": {
  "kernelspec": {
   "display_name": "Python 3",
   "language": "python",
   "name": "python3"
  },
  "language_info": {
   "codemirror_mode": {
    "name": "ipython",
    "version": 3
   },
   "file_extension": ".py",
   "mimetype": "text/x-python",
   "name": "python",
   "nbconvert_exporter": "python",
   "pygments_lexer": "ipython3",
   "version": "3.7.1"
  }
 },
 "nbformat": 4,
 "nbformat_minor": 2
}
