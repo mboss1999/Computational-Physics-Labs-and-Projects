{
 "cells": [
  {
   "cell_type": "markdown",
   "metadata": {},
   "source": [
    "# PHYS 250 Computational Midterm Exam"
   ]
  },
  {
   "cell_type": "markdown",
   "metadata": {},
   "source": [
    "**Notes:**\n",
    "1. You have 2 hours to do the exam.  Your solution must be uploaded to Canvas (exactly as is done for the prelabs and labs) as a notebook file with its name unchanged.  **Late exams will not be accepted.**  A little bit of extra time has been allotted on Canvas for you to turn it in before it will claim the exam is late.  This is meant to insure that you have a full 2 hours to work on the exam, and then a little bit of time to turn in it.  It is not extra time to work on the exam!\n",
    "2. You must work on the exam yourself.  It must all be your work.  You are free to use resources from the course (prelabs, labs, and examples) as you wish **but not other people** (this even excludes people not in the course).  I am trying to be flexible in terms of when people can work on this portion of the exam.  This means different students will be working on the exam at different times.  **Do not discuss the exam with other students until everyone has completed it.**\n",
    "3. The exam is meant to be completed in the allotted time.  I may have misjudged the amount of time the questions will take.  Keep in mind that everyone is in the same situation as yourself.  If the exam is too long everyone will suffer similarly and I will take that into account when assigning grades.  It is best to look at all the problems and do as much work as you can starting with the problem you are most comfortable with.\n",
    "4. The points for each problem are given below.  You can use this information to decide how to apportion your time working on the problems.\n",
    "5. When I ask for descriptions include all the information you think is relevant to convince me that (a) you know how to solve the problem, and (b) can be used to reproduce the results if someone else in the class were given the description.  The more clear these descriptions are the better chance I have in understanding what you have done and assigning partial credit. When making nice plots you must follow all the good practices discussed and used in the labs.\n",
    "6. **Restart the kernel and rerun the notebook** before turning it in.  Part of the grading process is rerunning the notebook.  The state you left the notebook in is not the final state.  It is the rerun notebook that will be graded, not the static version as turned in.  See Lab00 to remind yourself of what is expected.\n",
    "7. **Read the questions carefully.** There is important information given in various places in various parts of the problem.  Do not skip reading sections, even if they are very small."
   ]
  },
  {
   "cell_type": "markdown",
   "metadata": {},
   "source": [
    "## Initialization"
   ]
  },
  {
   "cell_type": "markdown",
   "metadata": {},
   "source": [
    "Collect all your initialization here.  Make sure all figures are inlined by using `%matplotlib inline`."
   ]
  },
  {
   "cell_type": "code",
   "execution_count": 1,
   "metadata": {
    "deletable": false,
    "nbgrader": {
     "checksum": "8b8cb914b8f40283389c3d823b1d6ed7",
     "grade": true,
     "grade_id": "cell-289f2d3309db328b",
     "locked": false,
     "points": 0,
     "schema_version": 1,
     "solution": true
    }
   },
   "outputs": [],
   "source": [
    "import numpy as np\n",
    "import matplotlib.pyplot as plt\n",
    "%matplotlib inline\n",
    "import scipy.optimize as opt\n",
    "import scipy.interpolate as interp\n",
    "import scipy.special as sf\n",
    "import matplotlib as mpl\n",
    "mpl.rc('xtick', direction='in', top=True)\n",
    "mpl.rc('ytick', direction='in', right=True)\n",
    "mpl.rc('xtick.minor', visible=True)\n",
    "mpl.rc('ytick.minor', visible=True)\n",
    "import scipy.integrate as integ"
   ]
  },
  {
   "cell_type": "markdown",
   "metadata": {},
   "source": [
    "## 1. Debugging [10 points]\n",
    "\n",
    "Whenever we perform numerical calculations there are many things that can go wrong.  Sometimes they are obvious: the computer complains, and sometimes they are not: the computer gives us an answer but it is incorrect!  Here we will explore two examples."
   ]
  },
  {
   "cell_type": "markdown",
   "metadata": {},
   "source": [
    "### (a)\n",
    "\n",
    "As a first example, analytically we know for $\\theta=60^\\circ$ that $\\cos\\theta=1/2$.  Thus it should be the case that when $\\theta=60^\\circ$ we should get\n",
    "$$ \\sqrt{1-2\\cos\\theta} = 0. $$\n",
    "Numerically if we evaluate this simple expression we are in for a surprise!\n",
    "\n",
    "Run the following cell.  (*Note:* This assumes you have imported numpy in the usual way in your initialization!)"
   ]
  },
  {
   "cell_type": "code",
   "execution_count": 2,
   "metadata": {},
   "outputs": [
    {
     "name": "stdout",
     "output_type": "stream",
     "text": [
      "nan\n"
     ]
    },
    {
     "name": "stderr",
     "output_type": "stream",
     "text": [
      "C:\\Users\\mboss\\Anaconda3\\lib\\site-packages\\ipykernel_launcher.py:1: RuntimeWarning: invalid value encountered in sqrt\n",
      "  \"\"\"Entry point for launching an IPython kernel.\n"
     ]
    }
   ],
   "source": [
    "print(np.sqrt(1-2*np.cos(np.deg2rad(60))))"
   ]
  },
  {
   "cell_type": "markdown",
   "metadata": {},
   "source": [
    "What should have happened is that you get an error and `nan` is printed. (If this did not happen, then assume it did!  This result should not be system dependent, but you never know.)\n",
    "\n",
    "**Clearly** explain why this happened and why we always need to be careful of situations like this then when solving problems numerically."
   ]
  },
  {
   "cell_type": "markdown",
   "metadata": {
    "deletable": false,
    "nbgrader": {
     "checksum": "1a4d3b099c17910a98646162886aeab0",
     "grade": true,
     "grade_id": "cell-cc86e40c0a22aa9a",
     "locked": false,
     "points": 5,
     "schema_version": 1,
     "solution": true
    }
   },
   "source": [
    "Due to the finite precision of the computer, $1-2\\cos(60^\\circ)$ was calculated to be slightly less than 0 instead of 0. This caused nan to be retured when the square root was taken."
   ]
  },
  {
   "cell_type": "markdown",
   "metadata": {},
   "source": [
    "### (b)\n",
    "\n",
    "When we first discussed root finding we started with an example of finding a square root.  Here is one way to proceed.  First we import the appropriate module from `scipy`, give it a short name, and define a function we can use for finding square roots of any number, `x0`."
   ]
  },
  {
   "cell_type": "code",
   "execution_count": 3,
   "metadata": {},
   "outputs": [],
   "source": [
    "import scipy.optimize as opt\n",
    "\n",
    "def square_root(x, x0) :\n",
    "    return x*x - x0"
   ]
  },
  {
   "cell_type": "markdown",
   "metadata": {},
   "source": [
    "Now suppose we try to use this to find $\\sqrt{5}$.  We might try something like the following."
   ]
  },
  {
   "cell_type": "code",
   "execution_count": 4,
   "metadata": {},
   "outputs": [
    {
     "ename": "TypeError",
     "evalue": "'float' object is not callable",
     "output_type": "error",
     "traceback": [
      "\u001b[1;31m---------------------------------------------------------------------------\u001b[0m",
      "\u001b[1;31mTypeError\u001b[0m                                 Traceback (most recent call last)",
      "\u001b[1;32m<ipython-input-4-1522a3e4795c>\u001b[0m in \u001b[0;36m<module>\u001b[1;34m\u001b[0m\n\u001b[0;32m      1\u001b[0m \u001b[1;31m# Initial guess for x, we know the root is between 2 and 3.\u001b[0m\u001b[1;33m\u001b[0m\u001b[1;33m\u001b[0m\u001b[1;33m\u001b[0m\u001b[0m\n\u001b[0;32m      2\u001b[0m \u001b[0mx\u001b[0m \u001b[1;33m=\u001b[0m \u001b[1;36m2.5\u001b[0m\u001b[1;33m\u001b[0m\u001b[1;33m\u001b[0m\u001b[0m\n\u001b[1;32m----> 3\u001b[1;33m \u001b[0mprint\u001b[0m\u001b[1;33m(\u001b[0m\u001b[1;34m\"Square root of 5 is\"\u001b[0m\u001b[1;33m,\u001b[0m \u001b[0mopt\u001b[0m\u001b[1;33m.\u001b[0m\u001b[0mbrentq\u001b[0m\u001b[1;33m(\u001b[0m\u001b[0msquare_root\u001b[0m\u001b[1;33m(\u001b[0m\u001b[0mx\u001b[0m\u001b[1;33m,\u001b[0m \u001b[1;36m5\u001b[0m\u001b[1;33m)\u001b[0m\u001b[1;33m,\u001b[0m \u001b[1;36m2\u001b[0m\u001b[1;33m,\u001b[0m \u001b[1;36m3\u001b[0m\u001b[1;33m)\u001b[0m\u001b[1;33m)\u001b[0m\u001b[1;33m\u001b[0m\u001b[1;33m\u001b[0m\u001b[0m\n\u001b[0m",
      "\u001b[1;32m~\\Anaconda3\\lib\\site-packages\\scipy\\optimize\\zeros.py\u001b[0m in \u001b[0;36mbrentq\u001b[1;34m(f, a, b, args, xtol, rtol, maxiter, full_output, disp)\u001b[0m\n\u001b[0;32m    508\u001b[0m     \u001b[1;32mif\u001b[0m \u001b[0mrtol\u001b[0m \u001b[1;33m<\u001b[0m \u001b[0m_rtol\u001b[0m\u001b[1;33m:\u001b[0m\u001b[1;33m\u001b[0m\u001b[1;33m\u001b[0m\u001b[0m\n\u001b[0;32m    509\u001b[0m         \u001b[1;32mraise\u001b[0m \u001b[0mValueError\u001b[0m\u001b[1;33m(\u001b[0m\u001b[1;34m\"rtol too small (%g < %g)\"\u001b[0m \u001b[1;33m%\u001b[0m \u001b[1;33m(\u001b[0m\u001b[0mrtol\u001b[0m\u001b[1;33m,\u001b[0m \u001b[0m_rtol\u001b[0m\u001b[1;33m)\u001b[0m\u001b[1;33m)\u001b[0m\u001b[1;33m\u001b[0m\u001b[1;33m\u001b[0m\u001b[0m\n\u001b[1;32m--> 510\u001b[1;33m     \u001b[0mr\u001b[0m \u001b[1;33m=\u001b[0m \u001b[0m_zeros\u001b[0m\u001b[1;33m.\u001b[0m\u001b[0m_brentq\u001b[0m\u001b[1;33m(\u001b[0m\u001b[0mf\u001b[0m\u001b[1;33m,\u001b[0m\u001b[0ma\u001b[0m\u001b[1;33m,\u001b[0m\u001b[0mb\u001b[0m\u001b[1;33m,\u001b[0m\u001b[0mxtol\u001b[0m\u001b[1;33m,\u001b[0m\u001b[0mrtol\u001b[0m\u001b[1;33m,\u001b[0m\u001b[0mmaxiter\u001b[0m\u001b[1;33m,\u001b[0m\u001b[0margs\u001b[0m\u001b[1;33m,\u001b[0m\u001b[0mfull_output\u001b[0m\u001b[1;33m,\u001b[0m\u001b[0mdisp\u001b[0m\u001b[1;33m)\u001b[0m\u001b[1;33m\u001b[0m\u001b[1;33m\u001b[0m\u001b[0m\n\u001b[0m\u001b[0;32m    511\u001b[0m     \u001b[1;32mreturn\u001b[0m \u001b[0mresults_c\u001b[0m\u001b[1;33m(\u001b[0m\u001b[0mfull_output\u001b[0m\u001b[1;33m,\u001b[0m \u001b[0mr\u001b[0m\u001b[1;33m)\u001b[0m\u001b[1;33m\u001b[0m\u001b[1;33m\u001b[0m\u001b[0m\n\u001b[0;32m    512\u001b[0m \u001b[1;33m\u001b[0m\u001b[0m\n",
      "\u001b[1;31mTypeError\u001b[0m: 'float' object is not callable"
     ]
    }
   ],
   "source": [
    "# Initial guess for x, we know the root is between 2 and 3.\n",
    "x = 2.5\n",
    "print(\"Square root of 5 is\", opt.brentq(square_root(x, 5), 2, 3))"
   ]
  },
  {
   "cell_type": "markdown",
   "metadata": {},
   "source": [
    "This fails! Clearly explain why this failed, that is, what is wrong?"
   ]
  },
  {
   "cell_type": "markdown",
   "metadata": {
    "deletable": false,
    "nbgrader": {
     "checksum": "10b97b384413980f7bde7078c1026f41",
     "grade": true,
     "grade_id": "cell-ed55416a36f041b7",
     "locked": false,
     "points": 3,
     "schema_version": 1,
     "solution": true
    }
   },
   "source": [
    "`opt.brentq` is supposesed to take a function with no arguments input into intself. The arguments are suppossed to be included in `args=()` instead. Also, a value `x=2.5` was fed into the fucntion put into `opt.brentq`. This should not be done, because `opt.brentq` feeds values into the first argument of the function given to it, in order to find roots. Bascially, read the documentation for `opt.brentq` and realize that the first argument it takes needs to just be a plain old function with no arguments fed into the function."
   ]
  },
  {
   "cell_type": "markdown",
   "metadata": {},
   "source": [
    "Correct the mistake in the call to `opt.brentq` to have the correct value of the square root calculated and printed."
   ]
  },
  {
   "cell_type": "code",
   "execution_count": 5,
   "metadata": {
    "deletable": false,
    "nbgrader": {
     "checksum": "d4f4ea64477821c9778338df8f492fa0",
     "grade": true,
     "grade_id": "cell-8be34ad39064426c",
     "locked": false,
     "points": 2,
     "schema_version": 1,
     "solution": true
    }
   },
   "outputs": [
    {
     "name": "stdout",
     "output_type": "stream",
     "text": [
      "Square root of 5 is 2.23606797749979\n"
     ]
    }
   ],
   "source": [
    "print(\"Square root of 5 is\", opt.brentq(square_root, 2, 3, args=5))"
   ]
  },
  {
   "cell_type": "markdown",
   "metadata": {},
   "source": [
    "## 2. Viscous Resistance [15 points]\n",
    "\n",
    "An object of mass $m$ moving through a fluid feels a viscous force, $R$, which is a function of the speed of the object, $v$.  The relationship between the viscous force, velocity, and time, $t$, is given by the integral\n",
    "$$\n",
    "t = \\int_{v(t_0)}^{v(t)} \\frac{m}{R(u)} \\mathrm{d}u.\n",
    "$$\n",
    "In this problem we will consider the case when\n",
    "$$\n",
    "R(v) = -v \\sqrt{v},\n",
    "$$\n",
    "where $R$ is in Newtons when $v$ is in meters/second."
   ]
  },
  {
   "cell_type": "markdown",
   "metadata": {},
   "source": [
    "Suppose $m=10\\;\\mathrm{kg}$ and $v(0)=10\\;\\mathrm{m/s}$. Find the time, $t$, required for the particle to slow to a speed $v(t)=5\\;\\mathrm{m/s}$.  Print this time.\n",
    "\n",
    "(*Note:* You may want to read the rest of the problem before proceeding.  We can define functions here that will make the rest of the problem easier.)"
   ]
  },
  {
   "cell_type": "code",
   "execution_count": 6,
   "metadata": {
    "deletable": false,
    "nbgrader": {
     "checksum": "e8c6a99c1ad4e3de8dcf01301872ea7f",
     "grade": true,
     "grade_id": "cell-39c830d21a89e489",
     "locked": false,
     "points": 5,
     "schema_version": 1,
     "solution": true
    }
   },
   "outputs": [
    {
     "name": "stdout",
     "output_type": "stream",
     "text": [
      "It takes 2.6197165896623997 seconds for the particle to slow to 5 m/s.\n"
     ]
    }
   ],
   "source": [
    "#Make time as a function of velocity\n",
    "def t(v) :\n",
    "    \"\"\"Calculates the time is takes a \n",
    "    object to slow down to a specificy velocity\n",
    "    v : final velocity in m/s, must be less than 10\"\"\"\n",
    "    m = 10 #kg\n",
    "    v0 = 10 #m/s\n",
    "    return 2*m*(1/np.sqrt(v)-1/np.sqrt(v0))\n",
    "\n",
    "#Print out the time for a velocity of 5 m/s\n",
    "print('It takes', t(5), 'seconds for the particle to slow to 5 m/s.')"
   ]
  },
  {
   "cell_type": "markdown",
   "metadata": {},
   "source": [
    "Another question that may be of interest is the speed, $v$, after some time $t$.  Accurately determine, print, and store, the speed of the object defined above after it has moved through the fluid for $t=3\\;\\mathrm{s}$."
   ]
  },
  {
   "cell_type": "code",
   "execution_count": 7,
   "metadata": {
    "deletable": false,
    "nbgrader": {
     "checksum": "c1c31e8e6b1ec1bc013c43e557e75834",
     "grade": true,
     "grade_id": "cell-8d1f00a04faa7b70",
     "locked": false,
     "points": 5,
     "schema_version": 1,
     "solution": true
    }
   },
   "outputs": [
    {
     "name": "stdout",
     "output_type": "stream",
     "text": [
      "The speed after 3 s is  4.600486192707367 m/s.\n"
     ]
    }
   ],
   "source": [
    "#Make a function to be used for root finding\n",
    "def root_t3(v) :\n",
    "    #v in m/s\n",
    "    return t(v) - 3 #s\n",
    "\n",
    "#Do root finding\n",
    "v3 = opt.brentq(root_t3, 3, 5)\n",
    "\n",
    "#Print reults\n",
    "print('The speed after 3 s is ', str(v3), 'm/s.')"
   ]
  },
  {
   "cell_type": "markdown",
   "metadata": {},
   "source": [
    "An alternative approach to the previous part is to notice that the integral from above defines a function $t(v)$.  Using a spline we can invert this function to find $v(t)$.  We will do so here.\n",
    "\n",
    "Calculate $t$ for values of $v$ in the range of $3\\;\\mathrm{m/s}$ to $6\\;\\mathrm{m/s}$ in steps of $0.1\\;\\mathrm{m/s}$.  Use this to construct a spline for the inverted function, $v(t)$.  Print the value from the spline at $t=3\\;\\mathrm{s}$ and the *absolute difference* between it and the value you calculated in the previous part."
   ]
  },
  {
   "cell_type": "code",
   "execution_count": 9,
   "metadata": {
    "deletable": false,
    "nbgrader": {
     "checksum": "1a1ec97cc07c8350bb187da7439d3d66",
     "grade": true,
     "grade_id": "cell-9f1a8fc77bb24521",
     "locked": false,
     "points": 5,
     "schema_version": 1,
     "solution": true
    }
   },
   "outputs": [
    {
     "name": "stdout",
     "output_type": "stream",
     "text": [
      "The speed is 4.600486192703244 m/s.\n",
      "The absolute error is 4.122924224247981e-12.\n"
     ]
    }
   ],
   "source": [
    "#Construct array of velocities\n",
    "v_array = np.arange(3, 6.1, .1)\n",
    "#Form spline\n",
    "v_spline = interp.InterpolatedUnivariateSpline(np.flip(t(v_array)), np.flip(v_array))\n",
    "\n",
    "#Find velocity at t =3s and print results\n",
    "v3_s = v_spline(3)\n",
    "print('The speed is', v3_s, 'm/s.')\n",
    "print('The absolute error is ' + str(np.abs(v3_s-v3)) + '.')"
   ]
  },
  {
   "cell_type": "markdown",
   "metadata": {},
   "source": [
    "## 3. Bead on a Parabola [25 points]\n",
    "\n",
    "Here we conside a bead of mass $m$ constrained to slide without friction on a vertical wire in the shape of a parabola as shown in the figure below.  The parabola has an equation $y=\\alpha x^2$ for $\\alpha>0$."
   ]
  },
  {
   "attachments": {
    "pendulum_bead.png": {
     "image/png": "[encoded data removed]"
    }
   },
   "cell_type": "markdown",
   "metadata": {},
   "source": [
    "![pendulum_bead.png](attachment:pendulum_bead.png)"
   ]
  },
  {
   "cell_type": "markdown",
   "metadata": {},
   "source": [
    "As a fun exercise in Lagrangian mechanics we can derive the equation of motion for the bead.  The wire constrains the motion reducing this to a one dimensional problem.  Here we will write everything in terms of the $x$ position.  We can show that the kinetic and potential energies of the bead are given by\n",
    "$$\n",
    "T = \\frac{1}{2} m (1+4\\alpha^2 x^2) \\dot{x}^2 \\quad\\mathrm{and}\\quad U = mg\\alpha x^2.\n",
    "$$\n",
    "Here $g$ is the acceleration due to gravity near the surface of the Earth and $\\dot{x}\\equiv \\mathrm{d}x/\\mathrm{d}t$.  From this, the motion of the bead can be described by the differential equation\n",
    "$$\n",
    "(1 + 4\\alpha^2 x^2) \\frac{\\mathrm{d}^2 x}{\\mathrm{d}t^2} + 2\\alpha x \\left[ g + 2\\alpha \\left( \\frac{\\mathrm{d}x}{\\mathrm{d}t} \\right)^2 \\right] = 0.\n",
    "$$\n",
    "You may use these equations without derivation in the rest of the problem."
   ]
  },
  {
   "cell_type": "markdown",
   "metadata": {},
   "source": [
    "Before numerically solving the problem, let us understand it better.  Suppose the bead starts at rest on the wire displaced $x_0$ from the origin. (Since it is on the wire, this means it will have $y_0=\\alpha x_0^2$.)  Describe where in its trajectory the speed of the bead will be a maximum.  Explain how you can analytically calculate the value of the maximum and do so, providing the result in terms of the parameters given, $m$, $g$, $\\alpha$, and $x_0$, as appropriate."
   ]
  },
  {
   "cell_type": "markdown",
   "metadata": {
    "deletable": false,
    "nbgrader": {
     "checksum": "b133aad798184e0d1cd3193bd2eb0a9f",
     "grade": true,
     "grade_id": "cell-4fc6b3387afa369f",
     "locked": false,
     "points": 5,
     "schema_version": 1,
     "solution": true
    }
   },
   "source": [
    "The speed of the bead will be maximum at the origin because the potential energy is lowest there, so the kinetic energy is highest. This maximum velocity can be calculated as follows. First, consider the particle at rest at $x_0$. We know at that moment the energy of the particle is all potential and thus equals $mg\\alpha x_0^2$. Then consider the particle at the origin, there all its energy is kinetic and equals $1/2mv_{max}^2$. So,\n",
    "$$mg\\alpha x_0^2=1/2mv_{max}^2$$\n",
    "This can be solved to show that the maximum speed is\n",
    "$$v_{max}=x_0\\sqrt{2g\\alpha}$$"
   ]
  },
  {
   "cell_type": "markdown",
   "metadata": {},
   "source": [
    "Write a function that we can pass to `scipy.integrate.solve_ivp` to solve for the motion of the bead.  The function must be of the form given below and you **must document your function**.\n",
    "\n",
    "Note that it is best to write down the system of differential equations you are solving before writing this function.  I will not make you type them out here, but, in general, that would be better practice."
   ]
  },
  {
   "cell_type": "code",
   "execution_count": 10,
   "metadata": {
    "deletable": false,
    "nbgrader": {
     "checksum": "bb61a08b1255c8e6c60c3c05b1706f36",
     "grade": true,
     "grade_id": "cell-02037c1e225454c6",
     "locked": false,
     "points": 5,
     "schema_version": 1,
     "solution": true
    }
   },
   "outputs": [],
   "source": [
    "def parabola_bead (t, y, alpha, g=9.8) :\n",
    "    \"\"\"\n",
    "    Return the derivative of position and velcoity.\n",
    "    Parameters\n",
    "    ----------\n",
    "    y[0] : position in m\n",
    "    y[1] : velocity in m/s\n",
    "    t : time in s\n",
    "    alpha : a constant describing the parabola\n",
    "    g : gravitational constant in m/s/s\n",
    "    Returns dydt where dydt[0] is the derivative of position\n",
    "    and dydt[1] is the derivative of velocity\"\"\"\n",
    "    dydt = np.zeros(2)\n",
    "    dydt[0] = y[1]\n",
    "    dydt[1] = -2*alpha*y[0]*(g+2*alpha*y[1]**2)/(1+4*alpha**2*y[0]**2)\n",
    "    return dydt"
   ]
  },
  {
   "cell_type": "markdown",
   "metadata": {},
   "source": [
    "We will now use this function to study the motion of the bead for two different sets of initial conditions.  In both cases the bead will start from rest.  For your results you must provide the following.\n",
    "1. Calculate and print the maximum speed of the bead. You can do this using the expression you derived above, you do not need to find it from the numerical solution of the equations of motion.\n",
    "2. Produce a plot containing the $x$ and $y$ positions of the bead along with the $x$-component of the velocity of the bead, $\\dot{x}(t)$.  In this plot also include a vertical line at the period of oscillations and a horizontal line for the maximum speed of the bead.  Make sure your plot spans a time of a little more than one period.\n",
    "\n",
    "Notes:\n",
    "- Though it is more efficient to define a function to do this work for you like in Lab05, that is not required here.\n",
    "- You do not need to spend the time to make the plot extremely fancy, however, every thing must be clearly labeled, as always."
   ]
  },
  {
   "cell_type": "markdown",
   "metadata": {},
   "source": [
    "Produce the results as described above for a parabola with $\\alpha=0.4$ and a bead starting at $x(0)=1\\;\\mathrm{m}$."
   ]
  },
  {
   "cell_type": "code",
   "execution_count": 11,
   "metadata": {
    "deletable": false,
    "nbgrader": {
     "checksum": "51cb153669c9360b455d94f3d1050449",
     "grade": true,
     "grade_id": "cell-a24035bfa90aff12",
     "locked": false,
     "points": 9,
     "schema_version": 1,
     "solution": true
    }
   },
   "outputs": [
    {
     "name": "stdout",
     "output_type": "stream",
     "text": [
      "The maximum speed of the bead is 2.8000000000000003 m/s.\n"
     ]
    },
    {
     "data": {
      "image/png": "[encoded data removed]",
      "text/plain": [
       "<Figure size 432x288 with 1 Axes>"
      ]
     },
     "metadata": {
      "needs_background": "light"
     },
     "output_type": "display_data"
    }
   ],
   "source": [
    "#Construct variables and print out max speed\n",
    "x0 = 1\n",
    "alpha = .4\n",
    "g = 9.8\n",
    "v0 = 0\n",
    "y0 = np.array([x0, v0])\n",
    "v_max = x0*np.sqrt(2*g*alpha)\n",
    "print('The maximum speed of the bead is', v_max, 'm/s.')\n",
    "\n",
    "#Numerically solve the ODEs\n",
    "sol = integ.solve_ivp(lambda t,y : parabola_bead(t, y, alpha), (0, 4), y0, rtol = 10**(-13), atol = 10**(-13))\n",
    "x = sol.y[0]\n",
    "y = alpha*x**2\n",
    "v = sol.y[1]\n",
    "t = sol.t\n",
    "\n",
    "#Calculate the period\n",
    "v_spline = interp.InterpolatedUnivariateSpline(t, v)\n",
    "per = opt.brentq(v_spline, 2.4, 2.6)\n",
    "\n",
    "#Plot results\n",
    "fig = plt.figure()\n",
    "ax = fig.add_subplot(111)\n",
    "ax.plot(t, x, label = 'x position (m)')\n",
    "ax.plot(t, y, label = 'y position (m)', linestyle = '--')\n",
    "ax.plot(t, v, label = 'x-component of velocity (m/s)', linestyle = '-.')\n",
    "ax.set_xlabel('time (s)')\n",
    "ax.set_ylabel('position and velocity')\n",
    "ax.set_title('Position and Velocity Plot')\n",
    "ax.legend()\n",
    "plt.xlim(0, 4)\n",
    "ax.axhline(color = 'black', linewidth = 1, y = v_max)\n",
    "ax.axhline(color = 'black', linewidth = 1, y = -v_max)\n",
    "ax.axvline(color = 'black', linewidth = 1, x = per);"
   ]
  },
  {
   "cell_type": "markdown",
   "metadata": {},
   "source": [
    "Produce the results as described above for a parabola with $\\alpha=2.5$ and a bead starting at $x(0)=1.1\\;\\mathrm{m}$."
   ]
  },
  {
   "cell_type": "code",
   "execution_count": 12,
   "metadata": {
    "deletable": false,
    "nbgrader": {
     "checksum": "5a8b814ccc6991863baf072b7d6fa8b8",
     "grade": true,
     "grade_id": "cell-db691ff7b8a64c58",
     "locked": false,
     "points": 6,
     "schema_version": 1,
     "solution": true
    }
   },
   "outputs": [
    {
     "name": "stdout",
     "output_type": "stream",
     "text": [
      "The maximum speed is 7.700000000000001 m/s.\n"
     ]
    },
    {
     "data": {
      "image/png": "[encoded data removed]",
      "text/plain": [
       "<Figure size 432x288 with 1 Axes>"
      ]
     },
     "metadata": {
      "needs_background": "light"
     },
     "output_type": "display_data"
    }
   ],
   "source": [
    "#Construct constants and calculate max speed\n",
    "alpha = 2.5\n",
    "x0 = 1.1\n",
    "g = 9.8\n",
    "v0 = 0\n",
    "y0 = np.array([x0, v0])\n",
    "v_max = x0*np.sqrt(2*g*alpha)\n",
    "print('The maximum speed is', v_max, 'm/s.')\n",
    "\n",
    "#Solve the ODEs numerically\n",
    "sol = integ.solve_ivp(lambda t,y : parabola_bead(t, y, alpha), (0, 4), y0, rtol = 10**(-13), atol = 10**(-13))\n",
    "x = sol.y[0]\n",
    "y = alpha*x**2\n",
    "v = sol.y[1]\n",
    "t = sol.t\n",
    "\n",
    "#Calculate the period\n",
    "v_spline = interp.InterpolatedUnivariateSpline(t, v)\n",
    "per = opt.brentq(v_spline, 3, 4)\n",
    "\n",
    "#Plot results\n",
    "fig = plt.figure()\n",
    "ax = fig.add_subplot(111)\n",
    "ax.plot(t, x, label = 'x position (m)')\n",
    "ax.plot(t, y, label = 'y position (m)', linestyle = '--')\n",
    "ax.plot(t, v, label = 'x-component of velocity (m/s)', linestyle = '-.')\n",
    "ax.set_xlabel('time (s)')\n",
    "ax.set_ylabel('position and velocity')\n",
    "ax.set_title('Position and Velocity Plot')\n",
    "ax.legend()\n",
    "plt.xlim(0, 4)\n",
    "ax.axhline(color = 'black', linewidth = 1, y = v_max)\n",
    "ax.axhline(color = 'black', linewidth = 1, y = -v_max)\n",
    "ax.axvline(color = 'black', linewidth = 1, x = per);"
   ]
  },
  {
   "cell_type": "markdown",
   "metadata": {},
   "source": [
    "## Turn in the Exam\n",
    "\n",
    "Turn in the exam following the procedure described at the top of the notebook."
   ]
  }
 ],
 "metadata": {
  "anaconda-cloud": {},
  "authors": [
   {
    "name": "Craig J Copi",
    "semester": "Spring 2019"
   }
  ],
  "kernelspec": {
   "display_name": "Python 3",
   "language": "python",
   "name": "python3"
  },
  "language_info": {
   "codemirror_mode": {
    "name": "ipython",
    "version": 3
   },
   "file_extension": ".py",
   "mimetype": "text/x-python",
   "name": "python",
   "nbconvert_exporter": "python",
   "pygments_lexer": "ipython3",
   "version": "3.7.1"
  }
 },
 "nbformat": 4,
 "nbformat_minor": 2
}
